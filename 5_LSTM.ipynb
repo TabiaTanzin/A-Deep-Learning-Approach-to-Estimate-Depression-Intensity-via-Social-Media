{
 "cells": [
  {
   "cell_type": "code",
   "execution_count": 1,
   "id": "ce98af95",
   "metadata": {},
   "outputs": [],
   "source": [
    "import tensorflow as tf\n",
    "import tensorflow_hub as hub\n",
    "import tensorflow_text as text\n",
    "# importing libraries\n",
    "\n",
    "import matplotlib.pyplot as plt\n",
    "plt.style.use(\"fivethirtyeight\")\n",
    "\n",
    "from keras.models import Sequential\n",
    "from keras.layers import Dense, Dropout, LSTM, GRU, Bidirectional, Flatten,concatenate\n",
    "from keras.optimizers import SGD\n",
    "\n",
    "from sklearn.preprocessing import MinMaxScaler\n",
    "from sklearn.metrics import mean_squared_error\n",
    "\n",
    "import math\n",
    "\n",
    "import warnings\n",
    "warnings.filterwarnings(\"ignore\")"
   ]
  },
  {
   "cell_type": "code",
   "execution_count": 10,
   "id": "aa1c9fcf",
   "metadata": {},
   "outputs": [
    {
     "data": {
      "text/html": [
       "<div>\n",
       "<style scoped>\n",
       "    .dataframe tbody tr th:only-of-type {\n",
       "        vertical-align: middle;\n",
       "    }\n",
       "\n",
       "    .dataframe tbody tr th {\n",
       "        vertical-align: top;\n",
       "    }\n",
       "\n",
       "    .dataframe thead th {\n",
       "        text-align: right;\n",
       "    }\n",
       "</style>\n",
       "<table border=\"1\" class=\"dataframe\">\n",
       "  <thead>\n",
       "    <tr style=\"text-align: right;\">\n",
       "      <th></th>\n",
       "      <th>Unnamed: 0.1</th>\n",
       "      <th>Unnamed: 0</th>\n",
       "      <th>Tweet</th>\n",
       "      <th>sentiment</th>\n",
       "      <th>Date</th>\n",
       "      <th>depression_Intensity</th>\n",
       "      <th>text</th>\n",
       "      <th>tidy_text</th>\n",
       "      <th>Subjectivity</th>\n",
       "      <th>Polarity</th>\n",
       "      <th>Positive Negative Word Count</th>\n",
       "      <th>text_clean</th>\n",
       "      <th>text_tokens</th>\n",
       "    </tr>\n",
       "  </thead>\n",
       "  <tbody>\n",
       "    <tr>\n",
       "      <th>0</th>\n",
       "      <td>0</td>\n",
       "      <td>0</td>\n",
       "      <td>@robinbankzz thanks for followiiiiing  legend</td>\n",
       "      <td>Non-Depressive</td>\n",
       "      <td>Sat Jun 06 16:23:05 PDT 2009</td>\n",
       "      <td>0.412875</td>\n",
       "      <td>thanks followiiiiing legend</td>\n",
       "      <td>thanks followiiiiing legend</td>\n",
       "      <td>0.200000</td>\n",
       "      <td>0.200000</td>\n",
       "      <td>Positive</td>\n",
       "      <td>thanks followiiiiing legend</td>\n",
       "      <td>['thanks', 'followiiiiing', 'legend']</td>\n",
       "    </tr>\n",
       "    <tr>\n",
       "      <th>1</th>\n",
       "      <td>1</td>\n",
       "      <td>1</td>\n",
       "      <td>@emmajg that's my plan.  it's only 10 am here,...</td>\n",
       "      <td>Non-Depressive</td>\n",
       "      <td>Sun Jun 07 06:57:27 PDT 2009</td>\n",
       "      <td>0.344886</td>\n",
       "      <td>That plan only here plan whole jammies</td>\n",
       "      <td>that plan only here plan whole jammies</td>\n",
       "      <td>0.700000</td>\n",
       "      <td>0.100000</td>\n",
       "      <td>Positive</td>\n",
       "      <td>plan plan whole jammies</td>\n",
       "      <td>['plan', 'plan', 'whole', 'jammies']</td>\n",
       "    </tr>\n",
       "    <tr>\n",
       "      <th>2</th>\n",
       "      <td>2</td>\n",
       "      <td>2</td>\n",
       "      <td>@yungryfunk have a safe flight!</td>\n",
       "      <td>Non-Depressive</td>\n",
       "      <td>Wed Jun 03 03:05:17 PDT 2009</td>\n",
       "      <td>0.420934</td>\n",
       "      <td>Have safe flight</td>\n",
       "      <td>have safe flight</td>\n",
       "      <td>0.500000</td>\n",
       "      <td>0.500000</td>\n",
       "      <td>Positive</td>\n",
       "      <td>safe flight</td>\n",
       "      <td>['safe', 'flight']</td>\n",
       "    </tr>\n",
       "    <tr>\n",
       "      <th>3</th>\n",
       "      <td>3</td>\n",
       "      <td>3</td>\n",
       "      <td>hey! @lons sighting at fred 62. i swear i am n...</td>\n",
       "      <td>Non-Depressive</td>\n",
       "      <td>Sat May 02 12:28:19 PDT 2009</td>\n",
       "      <td>0.300517</td>\n",
       "      <td>sighting Fred swear stalker Just</td>\n",
       "      <td>sighting fred swear stalker just</td>\n",
       "      <td>0.000000</td>\n",
       "      <td>0.000000</td>\n",
       "      <td>Positive</td>\n",
       "      <td>sighting fred swear stalker</td>\n",
       "      <td>['sighting', 'fred', 'swear', 'stalker']</td>\n",
       "    </tr>\n",
       "    <tr>\n",
       "      <th>4</th>\n",
       "      <td>4</td>\n",
       "      <td>4</td>\n",
       "      <td>@davidarchie aww they're all playing in the uk...</td>\n",
       "      <td>Non-Depressive</td>\n",
       "      <td>Sun May 03 16:29:00 PDT 2009</td>\n",
       "      <td>0.399074</td>\n",
       "      <td>they playing right maybe they come YOUR show</td>\n",
       "      <td>they playing right maybe they come your show</td>\n",
       "      <td>0.535714</td>\n",
       "      <td>0.285714</td>\n",
       "      <td>Positive</td>\n",
       "      <td>playing right maybe come show</td>\n",
       "      <td>['playing', 'right', 'maybe', 'come', 'show']</td>\n",
       "    </tr>\n",
       "    <tr>\n",
       "      <th>...</th>\n",
       "      <td>...</td>\n",
       "      <td>...</td>\n",
       "      <td>...</td>\n",
       "      <td>...</td>\n",
       "      <td>...</td>\n",
       "      <td>...</td>\n",
       "      <td>...</td>\n",
       "      <td>...</td>\n",
       "      <td>...</td>\n",
       "      <td>...</td>\n",
       "      <td>...</td>\n",
       "      <td>...</td>\n",
       "      <td>...</td>\n",
       "    </tr>\n",
       "    <tr>\n",
       "      <th>63925</th>\n",
       "      <td>63925</td>\n",
       "      <td>63925</td>\n",
       "      <td>slow day. @work. lots op people have the day o...</td>\n",
       "      <td>Non-Depressive</td>\n",
       "      <td>Fri May 22 02:19:22 PDT 2009</td>\n",
       "      <td>0.344886</td>\n",
       "      <td>Slow Lots people have nooo Gotta defend fortre...</td>\n",
       "      <td>slow lots people have nooo gotta defend fortre...</td>\n",
       "      <td>0.400000</td>\n",
       "      <td>-0.300000</td>\n",
       "      <td>Negative</td>\n",
       "      <td>slow lots people nooo gotta defend fortress</td>\n",
       "      <td>['slow', 'lots', 'people', 'nooo', 'got', 'ta'...</td>\n",
       "    </tr>\n",
       "    <tr>\n",
       "      <th>63926</th>\n",
       "      <td>63926</td>\n",
       "      <td>63926</td>\n",
       "      <td>@durian_girl here's a song to celebrate the ar...</td>\n",
       "      <td>Non-Depressive</td>\n",
       "      <td>Sun May 31 03:24:02 PDT 2009</td>\n",
       "      <td>0.444724</td>\n",
       "      <td>Here song celebrate arrival loveliest sweetest...</td>\n",
       "      <td>here song celebrate arrival loveliest sweetest...</td>\n",
       "      <td>0.000000</td>\n",
       "      <td>0.000000</td>\n",
       "      <td>Positive</td>\n",
       "      <td>song celebrate arrival loveliest sweetest baby...</td>\n",
       "      <td>['song', 'celebrate', 'arrival', 'loveliest', ...</td>\n",
       "    </tr>\n",
       "    <tr>\n",
       "      <th>63927</th>\n",
       "      <td>63927</td>\n",
       "      <td>63927</td>\n",
       "      <td>from some strange mystical force i got my suit...</td>\n",
       "      <td>Non-Depressive</td>\n",
       "      <td>Sat May 30 20:49:03 PDT 2009</td>\n",
       "      <td>0.313655</td>\n",
       "      <td>From some strange mystical force suitcase shov...</td>\n",
       "      <td>from some strange mystical force suitcase shov...</td>\n",
       "      <td>0.150000</td>\n",
       "      <td>-0.050000</td>\n",
       "      <td>Negative</td>\n",
       "      <td>strange mystical force suitcase shoved zipped</td>\n",
       "      <td>['strange', 'mystical', 'force', 'suitcase', '...</td>\n",
       "    </tr>\n",
       "    <tr>\n",
       "      <th>63928</th>\n",
       "      <td>63928</td>\n",
       "      <td>63928</td>\n",
       "      <td>skyy vodka-raspberry mixed w/ sprite......my d...</td>\n",
       "      <td>Non-Depressive</td>\n",
       "      <td>Sat May 16 20:29:04 PDT 2009</td>\n",
       "      <td>0.344886</td>\n",
       "      <td>skyy vodka raspberry mixed sprite drink choice...</td>\n",
       "      <td>skyy vodka raspberry mixed sprite drink choice...</td>\n",
       "      <td>0.250000</td>\n",
       "      <td>0.000000</td>\n",
       "      <td>Positive</td>\n",
       "      <td>skyy vodka raspberry mixed sprite drink choice...</td>\n",
       "      <td>['skyy', 'vodka', 'raspberry', 'mixed', 'sprit...</td>\n",
       "    </tr>\n",
       "    <tr>\n",
       "      <th>63929</th>\n",
       "      <td>63929</td>\n",
       "      <td>63929</td>\n",
       "      <td>@diancatt te regalo mis 30 free tracks</td>\n",
       "      <td>Non-Depressive</td>\n",
       "      <td>Sun Jun 14 23:32:11 PDT 2009</td>\n",
       "      <td>0.423713</td>\n",
       "      <td>regalo free tracks</td>\n",
       "      <td>regalo free tracks</td>\n",
       "      <td>0.800000</td>\n",
       "      <td>0.400000</td>\n",
       "      <td>Positive</td>\n",
       "      <td>regalo free tracks</td>\n",
       "      <td>['regalo', 'free', 'tracks']</td>\n",
       "    </tr>\n",
       "  </tbody>\n",
       "</table>\n",
       "<p>63930 rows × 13 columns</p>\n",
       "</div>"
      ],
      "text/plain": [
       "       Unnamed: 0.1  Unnamed: 0  \\\n",
       "0                 0           0   \n",
       "1                 1           1   \n",
       "2                 2           2   \n",
       "3                 3           3   \n",
       "4                 4           4   \n",
       "...             ...         ...   \n",
       "63925         63925       63925   \n",
       "63926         63926       63926   \n",
       "63927         63927       63927   \n",
       "63928         63928       63928   \n",
       "63929         63929       63929   \n",
       "\n",
       "                                                   Tweet       sentiment  \\\n",
       "0          @robinbankzz thanks for followiiiiing  legend  Non-Depressive   \n",
       "1      @emmajg that's my plan.  it's only 10 am here,...  Non-Depressive   \n",
       "2                       @yungryfunk have a safe flight!   Non-Depressive   \n",
       "3      hey! @lons sighting at fred 62. i swear i am n...  Non-Depressive   \n",
       "4      @davidarchie aww they're all playing in the uk...  Non-Depressive   \n",
       "...                                                  ...             ...   \n",
       "63925  slow day. @work. lots op people have the day o...  Non-Depressive   \n",
       "63926  @durian_girl here's a song to celebrate the ar...  Non-Depressive   \n",
       "63927  from some strange mystical force i got my suit...  Non-Depressive   \n",
       "63928  skyy vodka-raspberry mixed w/ sprite......my d...  Non-Depressive   \n",
       "63929            @diancatt te regalo mis 30 free tracks   Non-Depressive   \n",
       "\n",
       "                               Date  depression_Intensity  \\\n",
       "0      Sat Jun 06 16:23:05 PDT 2009              0.412875   \n",
       "1      Sun Jun 07 06:57:27 PDT 2009              0.344886   \n",
       "2      Wed Jun 03 03:05:17 PDT 2009              0.420934   \n",
       "3      Sat May 02 12:28:19 PDT 2009              0.300517   \n",
       "4      Sun May 03 16:29:00 PDT 2009              0.399074   \n",
       "...                             ...                   ...   \n",
       "63925  Fri May 22 02:19:22 PDT 2009              0.344886   \n",
       "63926  Sun May 31 03:24:02 PDT 2009              0.444724   \n",
       "63927  Sat May 30 20:49:03 PDT 2009              0.313655   \n",
       "63928  Sat May 16 20:29:04 PDT 2009              0.344886   \n",
       "63929  Sun Jun 14 23:32:11 PDT 2009              0.423713   \n",
       "\n",
       "                                                    text  \\\n",
       "0                            thanks followiiiiing legend   \n",
       "1                 That plan only here plan whole jammies   \n",
       "2                                       Have safe flight   \n",
       "3                       sighting Fred swear stalker Just   \n",
       "4           they playing right maybe they come YOUR show   \n",
       "...                                                  ...   \n",
       "63925  Slow Lots people have nooo Gotta defend fortre...   \n",
       "63926  Here song celebrate arrival loveliest sweetest...   \n",
       "63927  From some strange mystical force suitcase shov...   \n",
       "63928  skyy vodka raspberry mixed sprite drink choice...   \n",
       "63929                                 regalo free tracks   \n",
       "\n",
       "                                               tidy_text  Subjectivity  \\\n",
       "0                            thanks followiiiiing legend      0.200000   \n",
       "1                 that plan only here plan whole jammies      0.700000   \n",
       "2                                       have safe flight      0.500000   \n",
       "3                       sighting fred swear stalker just      0.000000   \n",
       "4           they playing right maybe they come your show      0.535714   \n",
       "...                                                  ...           ...   \n",
       "63925  slow lots people have nooo gotta defend fortre...      0.400000   \n",
       "63926  here song celebrate arrival loveliest sweetest...      0.000000   \n",
       "63927  from some strange mystical force suitcase shov...      0.150000   \n",
       "63928  skyy vodka raspberry mixed sprite drink choice...      0.250000   \n",
       "63929                                 regalo free tracks      0.800000   \n",
       "\n",
       "       Polarity Positive Negative Word Count  \\\n",
       "0      0.200000                     Positive   \n",
       "1      0.100000                     Positive   \n",
       "2      0.500000                     Positive   \n",
       "3      0.000000                     Positive   \n",
       "4      0.285714                     Positive   \n",
       "...         ...                          ...   \n",
       "63925 -0.300000                     Negative   \n",
       "63926  0.000000                     Positive   \n",
       "63927 -0.050000                     Negative   \n",
       "63928  0.000000                     Positive   \n",
       "63929  0.400000                     Positive   \n",
       "\n",
       "                                              text_clean  \\\n",
       "0                            thanks followiiiiing legend   \n",
       "1                                plan plan whole jammies   \n",
       "2                                            safe flight   \n",
       "3                            sighting fred swear stalker   \n",
       "4                          playing right maybe come show   \n",
       "...                                                  ...   \n",
       "63925        slow lots people nooo gotta defend fortress   \n",
       "63926  song celebrate arrival loveliest sweetest baby...   \n",
       "63927      strange mystical force suitcase shoved zipped   \n",
       "63928  skyy vodka raspberry mixed sprite drink choice...   \n",
       "63929                                 regalo free tracks   \n",
       "\n",
       "                                             text_tokens  \n",
       "0                  ['thanks', 'followiiiiing', 'legend']  \n",
       "1                   ['plan', 'plan', 'whole', 'jammies']  \n",
       "2                                     ['safe', 'flight']  \n",
       "3               ['sighting', 'fred', 'swear', 'stalker']  \n",
       "4          ['playing', 'right', 'maybe', 'come', 'show']  \n",
       "...                                                  ...  \n",
       "63925  ['slow', 'lots', 'people', 'nooo', 'got', 'ta'...  \n",
       "63926  ['song', 'celebrate', 'arrival', 'loveliest', ...  \n",
       "63927  ['strange', 'mystical', 'force', 'suitcase', '...  \n",
       "63928  ['skyy', 'vodka', 'raspberry', 'mixed', 'sprit...  \n",
       "63929                       ['regalo', 'free', 'tracks']  \n",
       "\n",
       "[63930 rows x 13 columns]"
      ]
     },
     "execution_count": 10,
     "metadata": {},
     "output_type": "execute_result"
    }
   ],
   "source": [
    "import pandas as pd\n",
    "data = pd.read_csv('Processed_Happy_dataset.csv',\n",
    "\n",
    "                encoding='latin-1')\n",
    "\n",
    "data"
   ]
  },
  {
   "cell_type": "code",
   "execution_count": 11,
   "id": "11426112",
   "metadata": {},
   "outputs": [
    {
     "data": {
      "text/plain": [
       "Index(['Unnamed: 0.1', 'Unnamed: 0', 'Tweet', 'sentiment', 'Date',\n",
       "       'depression_Intensity', 'text', 'tidy_text', 'Subjectivity', 'Polarity',\n",
       "       'Positive Negative Word Count', 'text_clean', 'text_tokens'],\n",
       "      dtype='object')"
      ]
     },
     "execution_count": 11,
     "metadata": {},
     "output_type": "execute_result"
    }
   ],
   "source": [
    "data.columns"
   ]
  },
  {
   "cell_type": "code",
   "execution_count": 12,
   "id": "55263233",
   "metadata": {},
   "outputs": [
    {
     "data": {
      "text/html": [
       "<div>\n",
       "<style scoped>\n",
       "    .dataframe tbody tr th:only-of-type {\n",
       "        vertical-align: middle;\n",
       "    }\n",
       "\n",
       "    .dataframe tbody tr th {\n",
       "        vertical-align: top;\n",
       "    }\n",
       "\n",
       "    .dataframe thead th {\n",
       "        text-align: right;\n",
       "    }\n",
       "</style>\n",
       "<table border=\"1\" class=\"dataframe\">\n",
       "  <thead>\n",
       "    <tr style=\"text-align: right;\">\n",
       "      <th></th>\n",
       "      <th>Tweet</th>\n",
       "      <th>sentiment</th>\n",
       "      <th>Date</th>\n",
       "      <th>depression_Intensity</th>\n",
       "      <th>text</th>\n",
       "      <th>tidy_text</th>\n",
       "      <th>Subjectivity</th>\n",
       "      <th>Polarity</th>\n",
       "      <th>Positive Negative Word Count</th>\n",
       "      <th>text_clean</th>\n",
       "      <th>text_tokens</th>\n",
       "    </tr>\n",
       "  </thead>\n",
       "  <tbody>\n",
       "    <tr>\n",
       "      <th>0</th>\n",
       "      <td>@robinbankzz thanks for followiiiiing  legend</td>\n",
       "      <td>Non-Depressive</td>\n",
       "      <td>Sat Jun 06 16:23:05 PDT 2009</td>\n",
       "      <td>0.412875</td>\n",
       "      <td>thanks followiiiiing legend</td>\n",
       "      <td>thanks followiiiiing legend</td>\n",
       "      <td>0.200000</td>\n",
       "      <td>0.200000</td>\n",
       "      <td>Positive</td>\n",
       "      <td>thanks followiiiiing legend</td>\n",
       "      <td>['thanks', 'followiiiiing', 'legend']</td>\n",
       "    </tr>\n",
       "    <tr>\n",
       "      <th>1</th>\n",
       "      <td>@emmajg that's my plan.  it's only 10 am here,...</td>\n",
       "      <td>Non-Depressive</td>\n",
       "      <td>Sun Jun 07 06:57:27 PDT 2009</td>\n",
       "      <td>0.344886</td>\n",
       "      <td>That plan only here plan whole jammies</td>\n",
       "      <td>that plan only here plan whole jammies</td>\n",
       "      <td>0.700000</td>\n",
       "      <td>0.100000</td>\n",
       "      <td>Positive</td>\n",
       "      <td>plan plan whole jammies</td>\n",
       "      <td>['plan', 'plan', 'whole', 'jammies']</td>\n",
       "    </tr>\n",
       "    <tr>\n",
       "      <th>2</th>\n",
       "      <td>@yungryfunk have a safe flight!</td>\n",
       "      <td>Non-Depressive</td>\n",
       "      <td>Wed Jun 03 03:05:17 PDT 2009</td>\n",
       "      <td>0.420934</td>\n",
       "      <td>Have safe flight</td>\n",
       "      <td>have safe flight</td>\n",
       "      <td>0.500000</td>\n",
       "      <td>0.500000</td>\n",
       "      <td>Positive</td>\n",
       "      <td>safe flight</td>\n",
       "      <td>['safe', 'flight']</td>\n",
       "    </tr>\n",
       "    <tr>\n",
       "      <th>3</th>\n",
       "      <td>hey! @lons sighting at fred 62. i swear i am n...</td>\n",
       "      <td>Non-Depressive</td>\n",
       "      <td>Sat May 02 12:28:19 PDT 2009</td>\n",
       "      <td>0.300517</td>\n",
       "      <td>sighting Fred swear stalker Just</td>\n",
       "      <td>sighting fred swear stalker just</td>\n",
       "      <td>0.000000</td>\n",
       "      <td>0.000000</td>\n",
       "      <td>Positive</td>\n",
       "      <td>sighting fred swear stalker</td>\n",
       "      <td>['sighting', 'fred', 'swear', 'stalker']</td>\n",
       "    </tr>\n",
       "    <tr>\n",
       "      <th>4</th>\n",
       "      <td>@davidarchie aww they're all playing in the uk...</td>\n",
       "      <td>Non-Depressive</td>\n",
       "      <td>Sun May 03 16:29:00 PDT 2009</td>\n",
       "      <td>0.399074</td>\n",
       "      <td>they playing right maybe they come YOUR show</td>\n",
       "      <td>they playing right maybe they come your show</td>\n",
       "      <td>0.535714</td>\n",
       "      <td>0.285714</td>\n",
       "      <td>Positive</td>\n",
       "      <td>playing right maybe come show</td>\n",
       "      <td>['playing', 'right', 'maybe', 'come', 'show']</td>\n",
       "    </tr>\n",
       "    <tr>\n",
       "      <th>...</th>\n",
       "      <td>...</td>\n",
       "      <td>...</td>\n",
       "      <td>...</td>\n",
       "      <td>...</td>\n",
       "      <td>...</td>\n",
       "      <td>...</td>\n",
       "      <td>...</td>\n",
       "      <td>...</td>\n",
       "      <td>...</td>\n",
       "      <td>...</td>\n",
       "      <td>...</td>\n",
       "    </tr>\n",
       "    <tr>\n",
       "      <th>63925</th>\n",
       "      <td>slow day. @work. lots op people have the day o...</td>\n",
       "      <td>Non-Depressive</td>\n",
       "      <td>Fri May 22 02:19:22 PDT 2009</td>\n",
       "      <td>0.344886</td>\n",
       "      <td>Slow Lots people have nooo Gotta defend fortre...</td>\n",
       "      <td>slow lots people have nooo gotta defend fortre...</td>\n",
       "      <td>0.400000</td>\n",
       "      <td>-0.300000</td>\n",
       "      <td>Negative</td>\n",
       "      <td>slow lots people nooo gotta defend fortress</td>\n",
       "      <td>['slow', 'lots', 'people', 'nooo', 'got', 'ta'...</td>\n",
       "    </tr>\n",
       "    <tr>\n",
       "      <th>63926</th>\n",
       "      <td>@durian_girl here's a song to celebrate the ar...</td>\n",
       "      <td>Non-Depressive</td>\n",
       "      <td>Sun May 31 03:24:02 PDT 2009</td>\n",
       "      <td>0.444724</td>\n",
       "      <td>Here song celebrate arrival loveliest sweetest...</td>\n",
       "      <td>here song celebrate arrival loveliest sweetest...</td>\n",
       "      <td>0.000000</td>\n",
       "      <td>0.000000</td>\n",
       "      <td>Positive</td>\n",
       "      <td>song celebrate arrival loveliest sweetest baby...</td>\n",
       "      <td>['song', 'celebrate', 'arrival', 'loveliest', ...</td>\n",
       "    </tr>\n",
       "    <tr>\n",
       "      <th>63927</th>\n",
       "      <td>from some strange mystical force i got my suit...</td>\n",
       "      <td>Non-Depressive</td>\n",
       "      <td>Sat May 30 20:49:03 PDT 2009</td>\n",
       "      <td>0.313655</td>\n",
       "      <td>From some strange mystical force suitcase shov...</td>\n",
       "      <td>from some strange mystical force suitcase shov...</td>\n",
       "      <td>0.150000</td>\n",
       "      <td>-0.050000</td>\n",
       "      <td>Negative</td>\n",
       "      <td>strange mystical force suitcase shoved zipped</td>\n",
       "      <td>['strange', 'mystical', 'force', 'suitcase', '...</td>\n",
       "    </tr>\n",
       "    <tr>\n",
       "      <th>63928</th>\n",
       "      <td>skyy vodka-raspberry mixed w/ sprite......my d...</td>\n",
       "      <td>Non-Depressive</td>\n",
       "      <td>Sat May 16 20:29:04 PDT 2009</td>\n",
       "      <td>0.344886</td>\n",
       "      <td>skyy vodka raspberry mixed sprite drink choice...</td>\n",
       "      <td>skyy vodka raspberry mixed sprite drink choice...</td>\n",
       "      <td>0.250000</td>\n",
       "      <td>0.000000</td>\n",
       "      <td>Positive</td>\n",
       "      <td>skyy vodka raspberry mixed sprite drink choice...</td>\n",
       "      <td>['skyy', 'vodka', 'raspberry', 'mixed', 'sprit...</td>\n",
       "    </tr>\n",
       "    <tr>\n",
       "      <th>63929</th>\n",
       "      <td>@diancatt te regalo mis 30 free tracks</td>\n",
       "      <td>Non-Depressive</td>\n",
       "      <td>Sun Jun 14 23:32:11 PDT 2009</td>\n",
       "      <td>0.423713</td>\n",
       "      <td>regalo free tracks</td>\n",
       "      <td>regalo free tracks</td>\n",
       "      <td>0.800000</td>\n",
       "      <td>0.400000</td>\n",
       "      <td>Positive</td>\n",
       "      <td>regalo free tracks</td>\n",
       "      <td>['regalo', 'free', 'tracks']</td>\n",
       "    </tr>\n",
       "  </tbody>\n",
       "</table>\n",
       "<p>63930 rows × 11 columns</p>\n",
       "</div>"
      ],
      "text/plain": [
       "                                                   Tweet       sentiment  \\\n",
       "0          @robinbankzz thanks for followiiiiing  legend  Non-Depressive   \n",
       "1      @emmajg that's my plan.  it's only 10 am here,...  Non-Depressive   \n",
       "2                       @yungryfunk have a safe flight!   Non-Depressive   \n",
       "3      hey! @lons sighting at fred 62. i swear i am n...  Non-Depressive   \n",
       "4      @davidarchie aww they're all playing in the uk...  Non-Depressive   \n",
       "...                                                  ...             ...   \n",
       "63925  slow day. @work. lots op people have the day o...  Non-Depressive   \n",
       "63926  @durian_girl here's a song to celebrate the ar...  Non-Depressive   \n",
       "63927  from some strange mystical force i got my suit...  Non-Depressive   \n",
       "63928  skyy vodka-raspberry mixed w/ sprite......my d...  Non-Depressive   \n",
       "63929            @diancatt te regalo mis 30 free tracks   Non-Depressive   \n",
       "\n",
       "                               Date  depression_Intensity  \\\n",
       "0      Sat Jun 06 16:23:05 PDT 2009              0.412875   \n",
       "1      Sun Jun 07 06:57:27 PDT 2009              0.344886   \n",
       "2      Wed Jun 03 03:05:17 PDT 2009              0.420934   \n",
       "3      Sat May 02 12:28:19 PDT 2009              0.300517   \n",
       "4      Sun May 03 16:29:00 PDT 2009              0.399074   \n",
       "...                             ...                   ...   \n",
       "63925  Fri May 22 02:19:22 PDT 2009              0.344886   \n",
       "63926  Sun May 31 03:24:02 PDT 2009              0.444724   \n",
       "63927  Sat May 30 20:49:03 PDT 2009              0.313655   \n",
       "63928  Sat May 16 20:29:04 PDT 2009              0.344886   \n",
       "63929  Sun Jun 14 23:32:11 PDT 2009              0.423713   \n",
       "\n",
       "                                                    text  \\\n",
       "0                            thanks followiiiiing legend   \n",
       "1                 That plan only here plan whole jammies   \n",
       "2                                       Have safe flight   \n",
       "3                       sighting Fred swear stalker Just   \n",
       "4           they playing right maybe they come YOUR show   \n",
       "...                                                  ...   \n",
       "63925  Slow Lots people have nooo Gotta defend fortre...   \n",
       "63926  Here song celebrate arrival loveliest sweetest...   \n",
       "63927  From some strange mystical force suitcase shov...   \n",
       "63928  skyy vodka raspberry mixed sprite drink choice...   \n",
       "63929                                 regalo free tracks   \n",
       "\n",
       "                                               tidy_text  Subjectivity  \\\n",
       "0                            thanks followiiiiing legend      0.200000   \n",
       "1                 that plan only here plan whole jammies      0.700000   \n",
       "2                                       have safe flight      0.500000   \n",
       "3                       sighting fred swear stalker just      0.000000   \n",
       "4           they playing right maybe they come your show      0.535714   \n",
       "...                                                  ...           ...   \n",
       "63925  slow lots people have nooo gotta defend fortre...      0.400000   \n",
       "63926  here song celebrate arrival loveliest sweetest...      0.000000   \n",
       "63927  from some strange mystical force suitcase shov...      0.150000   \n",
       "63928  skyy vodka raspberry mixed sprite drink choice...      0.250000   \n",
       "63929                                 regalo free tracks      0.800000   \n",
       "\n",
       "       Polarity Positive Negative Word Count  \\\n",
       "0      0.200000                     Positive   \n",
       "1      0.100000                     Positive   \n",
       "2      0.500000                     Positive   \n",
       "3      0.000000                     Positive   \n",
       "4      0.285714                     Positive   \n",
       "...         ...                          ...   \n",
       "63925 -0.300000                     Negative   \n",
       "63926  0.000000                     Positive   \n",
       "63927 -0.050000                     Negative   \n",
       "63928  0.000000                     Positive   \n",
       "63929  0.400000                     Positive   \n",
       "\n",
       "                                              text_clean  \\\n",
       "0                            thanks followiiiiing legend   \n",
       "1                                plan plan whole jammies   \n",
       "2                                            safe flight   \n",
       "3                            sighting fred swear stalker   \n",
       "4                          playing right maybe come show   \n",
       "...                                                  ...   \n",
       "63925        slow lots people nooo gotta defend fortress   \n",
       "63926  song celebrate arrival loveliest sweetest baby...   \n",
       "63927      strange mystical force suitcase shoved zipped   \n",
       "63928  skyy vodka raspberry mixed sprite drink choice...   \n",
       "63929                                 regalo free tracks   \n",
       "\n",
       "                                             text_tokens  \n",
       "0                  ['thanks', 'followiiiiing', 'legend']  \n",
       "1                   ['plan', 'plan', 'whole', 'jammies']  \n",
       "2                                     ['safe', 'flight']  \n",
       "3               ['sighting', 'fred', 'swear', 'stalker']  \n",
       "4          ['playing', 'right', 'maybe', 'come', 'show']  \n",
       "...                                                  ...  \n",
       "63925  ['slow', 'lots', 'people', 'nooo', 'got', 'ta'...  \n",
       "63926  ['song', 'celebrate', 'arrival', 'loveliest', ...  \n",
       "63927  ['strange', 'mystical', 'force', 'suitcase', '...  \n",
       "63928  ['skyy', 'vodka', 'raspberry', 'mixed', 'sprit...  \n",
       "63929                       ['regalo', 'free', 'tracks']  \n",
       "\n",
       "[63930 rows x 11 columns]"
      ]
     },
     "execution_count": 12,
     "metadata": {},
     "output_type": "execute_result"
    }
   ],
   "source": [
    "\n",
    "data = data.drop(columns=['Unnamed: 0.1', 'Unnamed: 0'])\n",
    "\n",
    "data\n",
    "\n"
   ]
  },
  {
   "cell_type": "code",
   "execution_count": 13,
   "id": "4a734fd7",
   "metadata": {},
   "outputs": [],
   "source": [
    "#data = data[data['sentiment']!='Depressed']\n",
    "#data.to_csv(\"Happy_intensity.csv\")"
   ]
  },
  {
   "cell_type": "code",
   "execution_count": 14,
   "id": "c32a1ab9",
   "metadata": {},
   "outputs": [],
   "source": [
    "data1 = pd.read_csv('Processed_depression_dataset.csv',\n",
    "\n",
    "                encoding='latin-1')"
   ]
  },
  {
   "cell_type": "code",
   "execution_count": 19,
   "id": "53805eea",
   "metadata": {},
   "outputs": [
    {
     "data": {
      "text/plain": [
       "Index(['Tweet', 'Sentiment', 'Date', 'depression_Intensity', 'text',\n",
       "       'tidy_text', 'Subjectivity', 'Polarity', 'Positive Negative Word Count',\n",
       "       'text_clean', 'text_tokens'],\n",
       "      dtype='object')"
      ]
     },
     "execution_count": 19,
     "metadata": {},
     "output_type": "execute_result"
    }
   ],
   "source": [
    "data.rename(columns = {'sentiment':'Sentiment'}, inplace = True)\n",
    "data.columns"
   ]
  },
  {
   "cell_type": "code",
   "execution_count": 21,
   "id": "8800b30c",
   "metadata": {},
   "outputs": [
    {
     "data": {
      "text/plain": [
       "Index(['Tweet', 'Date', 'depression_Intensity', 'Sentiment', 'tidy_text',\n",
       "       'Subjectivity', 'Polarity', 'Positive Negative Word Count',\n",
       "       'text_clean', 'text_tokens'],\n",
       "      dtype='object')"
      ]
     },
     "execution_count": 21,
     "metadata": {},
     "output_type": "execute_result"
    }
   ],
   "source": [
    "data1.columns"
   ]
  },
  {
   "cell_type": "code",
   "execution_count": 20,
   "id": "44512ef0",
   "metadata": {},
   "outputs": [
    {
     "data": {
      "text/plain": [
       "Index(['Tweet', 'Sentiment', 'Date', 'depression_Intensity', 'tidy_text',\n",
       "       'Subjectivity', 'Polarity', 'Positive Negative Word Count',\n",
       "       'text_clean', 'text_tokens'],\n",
       "      dtype='object')"
      ]
     },
     "execution_count": 20,
     "metadata": {},
     "output_type": "execute_result"
    }
   ],
   "source": [
    "data = data.drop(columns=['text'])\n",
    "\n",
    "data.columns"
   ]
  },
  {
   "cell_type": "code",
   "execution_count": 22,
   "id": "54303bb7",
   "metadata": {},
   "outputs": [],
   "source": [
    "df_all = pd.concat([data, data1])\n",
    "df_all\n",
    "data = df_all"
   ]
  },
  {
   "cell_type": "code",
   "execution_count": 24,
   "id": "6e371174",
   "metadata": {},
   "outputs": [],
   "source": [
    "data.to_csv(\"Depression_Final_Clean_dataset.csv\")"
   ]
  },
  {
   "cell_type": "code",
   "execution_count": 14,
   "id": "77920679",
   "metadata": {},
   "outputs": [],
   "source": [
    "#y1=data['sentiment']\n",
    "y2=data['depression_Intensity']"
   ]
  },
  {
   "cell_type": "code",
   "execution_count": 15,
   "id": "9e860468",
   "metadata": {},
   "outputs": [],
   "source": [
    "#X=data.drop(['Tweet', 'sentiment', 'Date', 'depression_Intensity', 'text',\n",
    "#       'text_clean', 'text_clean_tokens'], axis = 1)\n",
    "X=data['text_clean']"
   ]
  },
  {
   "cell_type": "code",
   "execution_count": 8,
   "id": "9f19b7b1",
   "metadata": {},
   "outputs": [
    {
     "data": {
      "text/plain": [
       "13134    1\n",
       "18956    1\n",
       "57679    0\n",
       "36079    0\n",
       "9995     1\n",
       "60002    0\n",
       "7645     1\n",
       "79949    0\n",
       "70815    0\n",
       "62840    0\n",
       "80733    0\n",
       "48790    0\n",
       "34794    0\n",
       "41907    0\n",
       "52679    0\n",
       "Name: sentiment, dtype: int64"
      ]
     },
     "execution_count": 8,
     "metadata": {},
     "output_type": "execute_result"
    }
   ],
   "source": [
    "y_t=y1.apply(lambda x: 1 if x=='Depressed' else 0)\n",
    "y_t.sample(15)"
   ]
  },
  {
   "cell_type": "code",
   "execution_count": 20,
   "id": "aec71d17",
   "metadata": {},
   "outputs": [
    {
     "name": "stdout",
     "output_type": "stream",
     "text": [
      "(66725,) (66725,)\n",
      "(28597,) (28597,)\n",
      "(8580,) (8580,)\n"
     ]
    }
   ],
   "source": [
    "from sklearn.model_selection import train_test_split\n",
    "import numpy as np\n",
    "X_train, X_rem, Y_train, Y_rem = train_test_split(X,y2, test_size = 0.30, random_state = 42)\n",
    "print(X_train.shape,Y_train.shape)\n",
    "print(X_rem.shape,Y_rem.shape)\n",
    "X_test, X_vald, Y_test, Y_vald = train_test_split( X_rem,Y_rem, test_size = 0.30, random_state = 42)\n",
    "print(X_vald.shape,Y_vald.shape)\n"
   ]
  },
  {
   "cell_type": "code",
   "execution_count": null,
   "id": "9b0a6630",
   "metadata": {},
   "outputs": [],
   "source": []
  },
  {
   "cell_type": "code",
   "execution_count": 21,
   "id": "5fca8230",
   "metadata": {},
   "outputs": [
    {
     "ename": "IndexError",
     "evalue": "tuple index out of range",
     "output_type": "error",
     "traceback": [
      "\u001b[1;31m---------------------------------------------------------------------------\u001b[0m",
      "\u001b[1;31mIndexError\u001b[0m                                Traceback (most recent call last)",
      "Input \u001b[1;32mIn [21]\u001b[0m, in \u001b[0;36m<cell line: 4>\u001b[1;34m()\u001b[0m\n\u001b[0;32m      1\u001b[0m \u001b[38;5;66;03m# reshaping x_train for efficient modelling\u001b[39;00m\n\u001b[0;32m      2\u001b[0m X_train, Y_train \u001b[38;5;241m=\u001b[39m np\u001b[38;5;241m.\u001b[39marray(X_train), np\u001b[38;5;241m.\u001b[39marray(Y_train)\n\u001b[1;32m----> 4\u001b[0m X_train \u001b[38;5;241m=\u001b[39m np\u001b[38;5;241m.\u001b[39mreshape(X_train, (X_train\u001b[38;5;241m.\u001b[39mshape[\u001b[38;5;241m0\u001b[39m], \u001b[43mX_train\u001b[49m\u001b[38;5;241;43m.\u001b[39;49m\u001b[43mshape\u001b[49m\u001b[43m[\u001b[49m\u001b[38;5;241;43m1\u001b[39;49m\u001b[43m]\u001b[49m, \u001b[38;5;241m1\u001b[39m))\n",
      "\u001b[1;31mIndexError\u001b[0m: tuple index out of range"
     ]
    }
   ],
   "source": [
    "# reshaping x_train for efficient modelling\n",
    "X_train, Y_train = np.array(X_train), np.array(Y_train)\n",
    "\n",
    "X_train = np.reshape(X_train, (X_train.shape[0], X_train.shape[1], 1))"
   ]
  },
  {
   "cell_type": "code",
   "execution_count": 49,
   "id": "19aa6865",
   "metadata": {},
   "outputs": [],
   "source": [
    "# LSTM architecture\n",
    "\n",
    "regressor = Sequential()\n",
    "\n",
    "# add first layer with dropout\n",
    "\n",
    "regressor.add(LSTM(units=50, return_sequences=True, input_shape=(X_train.shape[1],1)))\n",
    "regressor.add(Dropout(0.2))\n",
    "\n",
    "# add second layer\n",
    "\n",
    "regressor.add(LSTM(units=50, return_sequences=True))\n",
    "regressor.add(Dropout(0.2))\n",
    "\n",
    "# add third layer\n",
    "\n",
    "regressor.add(LSTM(units=50, return_sequences=True))\n",
    "regressor.add(Dropout(0.2))\n",
    "\n",
    "# add fourth layer\n",
    "\n",
    "regressor.add(LSTM(units=50))\n",
    "regressor.add(Dropout(0.2))\n",
    "\n",
    "# the output layer\n",
    "\n",
    "regressor.add(Dense(units=1))"
   ]
  },
  {
   "cell_type": "code",
   "execution_count": 50,
   "id": "64679ed8",
   "metadata": {},
   "outputs": [
    {
     "name": "stdout",
     "output_type": "stream",
     "text": [
      "Epoch 1/10\n",
      "1851/1851 [==============================] - 253s 131ms/step - loss: 0.0082 - mean_squared_error: 0.0082\n",
      "Epoch 2/10\n",
      "1851/1851 [==============================] - 242s 131ms/step - loss: 0.0067 - mean_squared_error: 0.0067\n",
      "Epoch 3/10\n",
      "1851/1851 [==============================] - 256s 138ms/step - loss: 0.0064 - mean_squared_error: 0.0064\n",
      "Epoch 4/10\n",
      "1851/1851 [==============================] - 242s 131ms/step - loss: 0.0063 - mean_squared_error: 0.0063\n",
      "Epoch 5/10\n",
      " 414/1851 [=====>........................] - ETA: 3:10 - loss: 0.0061 - mean_squared_error: 0.0061"
     ]
    },
    {
     "ename": "KeyboardInterrupt",
     "evalue": "",
     "output_type": "error",
     "traceback": [
      "\u001b[1;31m---------------------------------------------------------------------------\u001b[0m",
      "\u001b[1;31mKeyboardInterrupt\u001b[0m                         Traceback (most recent call last)",
      "Input \u001b[1;32mIn [50]\u001b[0m, in \u001b[0;36m<cell line: 7>\u001b[1;34m()\u001b[0m\n\u001b[0;32m      3\u001b[0m regressor\u001b[38;5;241m.\u001b[39mcompile(optimizer\u001b[38;5;241m=\u001b[39m\u001b[38;5;124m'\u001b[39m\u001b[38;5;124madam\u001b[39m\u001b[38;5;124m'\u001b[39m,metrics \u001b[38;5;241m=\u001b[39m [\u001b[38;5;124m'\u001b[39m\u001b[38;5;124mmean_squared_error\u001b[39m\u001b[38;5;124m'\u001b[39m],loss\u001b[38;5;241m=\u001b[39m\u001b[38;5;124m'\u001b[39m\u001b[38;5;124mmean_squared_error\u001b[39m\u001b[38;5;124m'\u001b[39m)\n\u001b[0;32m      5\u001b[0m \u001b[38;5;66;03m# fit to the training set\u001b[39;00m\n\u001b[1;32m----> 7\u001b[0m \u001b[43mregressor\u001b[49m\u001b[38;5;241;43m.\u001b[39;49m\u001b[43mfit\u001b[49m\u001b[43m(\u001b[49m\u001b[43mX_train\u001b[49m\u001b[43m,\u001b[49m\u001b[43m \u001b[49m\u001b[43mY_train\u001b[49m\u001b[43m,\u001b[49m\u001b[43m \u001b[49m\u001b[43mepochs\u001b[49m\u001b[38;5;241;43m=\u001b[39;49m\u001b[38;5;241;43m10\u001b[39;49m\u001b[43m,\u001b[49m\u001b[43m \u001b[49m\u001b[43mbatch_size\u001b[49m\u001b[38;5;241;43m=\u001b[39;49m\u001b[38;5;241;43m32\u001b[39;49m\u001b[43m)\u001b[49m\n",
      "File \u001b[1;32m~\\AppData\\Roaming\\Python\\Python310\\site-packages\\keras\\utils\\traceback_utils.py:65\u001b[0m, in \u001b[0;36mfilter_traceback.<locals>.error_handler\u001b[1;34m(*args, **kwargs)\u001b[0m\n\u001b[0;32m     63\u001b[0m filtered_tb \u001b[38;5;241m=\u001b[39m \u001b[38;5;28;01mNone\u001b[39;00m\n\u001b[0;32m     64\u001b[0m \u001b[38;5;28;01mtry\u001b[39;00m:\n\u001b[1;32m---> 65\u001b[0m     \u001b[38;5;28;01mreturn\u001b[39;00m fn(\u001b[38;5;241m*\u001b[39margs, \u001b[38;5;241m*\u001b[39m\u001b[38;5;241m*\u001b[39mkwargs)\n\u001b[0;32m     66\u001b[0m \u001b[38;5;28;01mexcept\u001b[39;00m \u001b[38;5;167;01mException\u001b[39;00m \u001b[38;5;28;01mas\u001b[39;00m e:\n\u001b[0;32m     67\u001b[0m     filtered_tb \u001b[38;5;241m=\u001b[39m _process_traceback_frames(e\u001b[38;5;241m.\u001b[39m__traceback__)\n",
      "File \u001b[1;32m~\\AppData\\Roaming\\Python\\Python310\\site-packages\\keras\\engine\\training.py:1564\u001b[0m, in \u001b[0;36mModel.fit\u001b[1;34m(self, x, y, batch_size, epochs, verbose, callbacks, validation_split, validation_data, shuffle, class_weight, sample_weight, initial_epoch, steps_per_epoch, validation_steps, validation_batch_size, validation_freq, max_queue_size, workers, use_multiprocessing)\u001b[0m\n\u001b[0;32m   1556\u001b[0m \u001b[38;5;28;01mwith\u001b[39;00m tf\u001b[38;5;241m.\u001b[39mprofiler\u001b[38;5;241m.\u001b[39mexperimental\u001b[38;5;241m.\u001b[39mTrace(\n\u001b[0;32m   1557\u001b[0m     \u001b[38;5;124m\"\u001b[39m\u001b[38;5;124mtrain\u001b[39m\u001b[38;5;124m\"\u001b[39m,\n\u001b[0;32m   1558\u001b[0m     epoch_num\u001b[38;5;241m=\u001b[39mepoch,\n\u001b[1;32m   (...)\u001b[0m\n\u001b[0;32m   1561\u001b[0m     _r\u001b[38;5;241m=\u001b[39m\u001b[38;5;241m1\u001b[39m,\n\u001b[0;32m   1562\u001b[0m ):\n\u001b[0;32m   1563\u001b[0m     callbacks\u001b[38;5;241m.\u001b[39mon_train_batch_begin(step)\n\u001b[1;32m-> 1564\u001b[0m     tmp_logs \u001b[38;5;241m=\u001b[39m \u001b[38;5;28;43mself\u001b[39;49m\u001b[38;5;241;43m.\u001b[39;49m\u001b[43mtrain_function\u001b[49m\u001b[43m(\u001b[49m\u001b[43miterator\u001b[49m\u001b[43m)\u001b[49m\n\u001b[0;32m   1565\u001b[0m     \u001b[38;5;28;01mif\u001b[39;00m data_handler\u001b[38;5;241m.\u001b[39mshould_sync:\n\u001b[0;32m   1566\u001b[0m         context\u001b[38;5;241m.\u001b[39masync_wait()\n",
      "File \u001b[1;32m~\\AppData\\Roaming\\Python\\Python310\\site-packages\\tensorflow\\python\\util\\traceback_utils.py:150\u001b[0m, in \u001b[0;36mfilter_traceback.<locals>.error_handler\u001b[1;34m(*args, **kwargs)\u001b[0m\n\u001b[0;32m    148\u001b[0m filtered_tb \u001b[38;5;241m=\u001b[39m \u001b[38;5;28;01mNone\u001b[39;00m\n\u001b[0;32m    149\u001b[0m \u001b[38;5;28;01mtry\u001b[39;00m:\n\u001b[1;32m--> 150\u001b[0m   \u001b[38;5;28;01mreturn\u001b[39;00m fn(\u001b[38;5;241m*\u001b[39margs, \u001b[38;5;241m*\u001b[39m\u001b[38;5;241m*\u001b[39mkwargs)\n\u001b[0;32m    151\u001b[0m \u001b[38;5;28;01mexcept\u001b[39;00m \u001b[38;5;167;01mException\u001b[39;00m \u001b[38;5;28;01mas\u001b[39;00m e:\n\u001b[0;32m    152\u001b[0m   filtered_tb \u001b[38;5;241m=\u001b[39m _process_traceback_frames(e\u001b[38;5;241m.\u001b[39m__traceback__)\n",
      "File \u001b[1;32m~\\AppData\\Roaming\\Python\\Python310\\site-packages\\tensorflow\\python\\eager\\def_function.py:915\u001b[0m, in \u001b[0;36mFunction.__call__\u001b[1;34m(self, *args, **kwds)\u001b[0m\n\u001b[0;32m    912\u001b[0m compiler \u001b[38;5;241m=\u001b[39m \u001b[38;5;124m\"\u001b[39m\u001b[38;5;124mxla\u001b[39m\u001b[38;5;124m\"\u001b[39m \u001b[38;5;28;01mif\u001b[39;00m \u001b[38;5;28mself\u001b[39m\u001b[38;5;241m.\u001b[39m_jit_compile \u001b[38;5;28;01melse\u001b[39;00m \u001b[38;5;124m\"\u001b[39m\u001b[38;5;124mnonXla\u001b[39m\u001b[38;5;124m\"\u001b[39m\n\u001b[0;32m    914\u001b[0m \u001b[38;5;28;01mwith\u001b[39;00m OptionalXlaContext(\u001b[38;5;28mself\u001b[39m\u001b[38;5;241m.\u001b[39m_jit_compile):\n\u001b[1;32m--> 915\u001b[0m   result \u001b[38;5;241m=\u001b[39m \u001b[38;5;28mself\u001b[39m\u001b[38;5;241m.\u001b[39m_call(\u001b[38;5;241m*\u001b[39margs, \u001b[38;5;241m*\u001b[39m\u001b[38;5;241m*\u001b[39mkwds)\n\u001b[0;32m    917\u001b[0m new_tracing_count \u001b[38;5;241m=\u001b[39m \u001b[38;5;28mself\u001b[39m\u001b[38;5;241m.\u001b[39mexperimental_get_tracing_count()\n\u001b[0;32m    918\u001b[0m without_tracing \u001b[38;5;241m=\u001b[39m (tracing_count \u001b[38;5;241m==\u001b[39m new_tracing_count)\n",
      "File \u001b[1;32m~\\AppData\\Roaming\\Python\\Python310\\site-packages\\tensorflow\\python\\eager\\def_function.py:947\u001b[0m, in \u001b[0;36mFunction._call\u001b[1;34m(self, *args, **kwds)\u001b[0m\n\u001b[0;32m    944\u001b[0m   \u001b[38;5;28mself\u001b[39m\u001b[38;5;241m.\u001b[39m_lock\u001b[38;5;241m.\u001b[39mrelease()\n\u001b[0;32m    945\u001b[0m   \u001b[38;5;66;03m# In this case we have created variables on the first call, so we run the\u001b[39;00m\n\u001b[0;32m    946\u001b[0m   \u001b[38;5;66;03m# defunned version which is guaranteed to never create variables.\u001b[39;00m\n\u001b[1;32m--> 947\u001b[0m   \u001b[38;5;28;01mreturn\u001b[39;00m \u001b[38;5;28mself\u001b[39m\u001b[38;5;241m.\u001b[39m_stateless_fn(\u001b[38;5;241m*\u001b[39margs, \u001b[38;5;241m*\u001b[39m\u001b[38;5;241m*\u001b[39mkwds)  \u001b[38;5;66;03m# pylint: disable=not-callable\u001b[39;00m\n\u001b[0;32m    948\u001b[0m \u001b[38;5;28;01melif\u001b[39;00m \u001b[38;5;28mself\u001b[39m\u001b[38;5;241m.\u001b[39m_stateful_fn \u001b[38;5;129;01mis\u001b[39;00m \u001b[38;5;129;01mnot\u001b[39;00m \u001b[38;5;28;01mNone\u001b[39;00m:\n\u001b[0;32m    949\u001b[0m   \u001b[38;5;66;03m# Release the lock early so that multiple threads can perform the call\u001b[39;00m\n\u001b[0;32m    950\u001b[0m   \u001b[38;5;66;03m# in parallel.\u001b[39;00m\n\u001b[0;32m    951\u001b[0m   \u001b[38;5;28mself\u001b[39m\u001b[38;5;241m.\u001b[39m_lock\u001b[38;5;241m.\u001b[39mrelease()\n",
      "File \u001b[1;32m~\\AppData\\Roaming\\Python\\Python310\\site-packages\\tensorflow\\python\\eager\\function.py:2496\u001b[0m, in \u001b[0;36mFunction.__call__\u001b[1;34m(self, *args, **kwargs)\u001b[0m\n\u001b[0;32m   2493\u001b[0m \u001b[38;5;28;01mwith\u001b[39;00m \u001b[38;5;28mself\u001b[39m\u001b[38;5;241m.\u001b[39m_lock:\n\u001b[0;32m   2494\u001b[0m   (graph_function,\n\u001b[0;32m   2495\u001b[0m    filtered_flat_args) \u001b[38;5;241m=\u001b[39m \u001b[38;5;28mself\u001b[39m\u001b[38;5;241m.\u001b[39m_maybe_define_function(args, kwargs)\n\u001b[1;32m-> 2496\u001b[0m \u001b[38;5;28;01mreturn\u001b[39;00m \u001b[43mgraph_function\u001b[49m\u001b[38;5;241;43m.\u001b[39;49m\u001b[43m_call_flat\u001b[49m\u001b[43m(\u001b[49m\n\u001b[0;32m   2497\u001b[0m \u001b[43m    \u001b[49m\u001b[43mfiltered_flat_args\u001b[49m\u001b[43m,\u001b[49m\u001b[43m \u001b[49m\u001b[43mcaptured_inputs\u001b[49m\u001b[38;5;241;43m=\u001b[39;49m\u001b[43mgraph_function\u001b[49m\u001b[38;5;241;43m.\u001b[39;49m\u001b[43mcaptured_inputs\u001b[49m\u001b[43m)\u001b[49m\n",
      "File \u001b[1;32m~\\AppData\\Roaming\\Python\\Python310\\site-packages\\tensorflow\\python\\eager\\function.py:1862\u001b[0m, in \u001b[0;36mConcreteFunction._call_flat\u001b[1;34m(self, args, captured_inputs, cancellation_manager)\u001b[0m\n\u001b[0;32m   1858\u001b[0m possible_gradient_type \u001b[38;5;241m=\u001b[39m gradients_util\u001b[38;5;241m.\u001b[39mPossibleTapeGradientTypes(args)\n\u001b[0;32m   1859\u001b[0m \u001b[38;5;28;01mif\u001b[39;00m (possible_gradient_type \u001b[38;5;241m==\u001b[39m gradients_util\u001b[38;5;241m.\u001b[39mPOSSIBLE_GRADIENT_TYPES_NONE\n\u001b[0;32m   1860\u001b[0m     \u001b[38;5;129;01mand\u001b[39;00m executing_eagerly):\n\u001b[0;32m   1861\u001b[0m   \u001b[38;5;66;03m# No tape is watching; skip to running the function.\u001b[39;00m\n\u001b[1;32m-> 1862\u001b[0m   \u001b[38;5;28;01mreturn\u001b[39;00m \u001b[38;5;28mself\u001b[39m\u001b[38;5;241m.\u001b[39m_build_call_outputs(\u001b[38;5;28;43mself\u001b[39;49m\u001b[38;5;241;43m.\u001b[39;49m\u001b[43m_inference_function\u001b[49m\u001b[38;5;241;43m.\u001b[39;49m\u001b[43mcall\u001b[49m\u001b[43m(\u001b[49m\n\u001b[0;32m   1863\u001b[0m \u001b[43m      \u001b[49m\u001b[43mctx\u001b[49m\u001b[43m,\u001b[49m\u001b[43m \u001b[49m\u001b[43margs\u001b[49m\u001b[43m,\u001b[49m\u001b[43m \u001b[49m\u001b[43mcancellation_manager\u001b[49m\u001b[38;5;241;43m=\u001b[39;49m\u001b[43mcancellation_manager\u001b[49m\u001b[43m)\u001b[49m)\n\u001b[0;32m   1864\u001b[0m forward_backward \u001b[38;5;241m=\u001b[39m \u001b[38;5;28mself\u001b[39m\u001b[38;5;241m.\u001b[39m_select_forward_and_backward_functions(\n\u001b[0;32m   1865\u001b[0m     args,\n\u001b[0;32m   1866\u001b[0m     possible_gradient_type,\n\u001b[0;32m   1867\u001b[0m     executing_eagerly)\n\u001b[0;32m   1868\u001b[0m forward_function, args_with_tangents \u001b[38;5;241m=\u001b[39m forward_backward\u001b[38;5;241m.\u001b[39mforward()\n",
      "File \u001b[1;32m~\\AppData\\Roaming\\Python\\Python310\\site-packages\\tensorflow\\python\\eager\\function.py:499\u001b[0m, in \u001b[0;36m_EagerDefinedFunction.call\u001b[1;34m(self, ctx, args, cancellation_manager)\u001b[0m\n\u001b[0;32m    497\u001b[0m \u001b[38;5;28;01mwith\u001b[39;00m _InterpolateFunctionError(\u001b[38;5;28mself\u001b[39m):\n\u001b[0;32m    498\u001b[0m   \u001b[38;5;28;01mif\u001b[39;00m cancellation_manager \u001b[38;5;129;01mis\u001b[39;00m \u001b[38;5;28;01mNone\u001b[39;00m:\n\u001b[1;32m--> 499\u001b[0m     outputs \u001b[38;5;241m=\u001b[39m \u001b[43mexecute\u001b[49m\u001b[38;5;241;43m.\u001b[39;49m\u001b[43mexecute\u001b[49m\u001b[43m(\u001b[49m\n\u001b[0;32m    500\u001b[0m \u001b[43m        \u001b[49m\u001b[38;5;28;43mstr\u001b[39;49m\u001b[43m(\u001b[49m\u001b[38;5;28;43mself\u001b[39;49m\u001b[38;5;241;43m.\u001b[39;49m\u001b[43msignature\u001b[49m\u001b[38;5;241;43m.\u001b[39;49m\u001b[43mname\u001b[49m\u001b[43m)\u001b[49m\u001b[43m,\u001b[49m\n\u001b[0;32m    501\u001b[0m \u001b[43m        \u001b[49m\u001b[43mnum_outputs\u001b[49m\u001b[38;5;241;43m=\u001b[39;49m\u001b[38;5;28;43mself\u001b[39;49m\u001b[38;5;241;43m.\u001b[39;49m\u001b[43m_num_outputs\u001b[49m\u001b[43m,\u001b[49m\n\u001b[0;32m    502\u001b[0m \u001b[43m        \u001b[49m\u001b[43minputs\u001b[49m\u001b[38;5;241;43m=\u001b[39;49m\u001b[43margs\u001b[49m\u001b[43m,\u001b[49m\n\u001b[0;32m    503\u001b[0m \u001b[43m        \u001b[49m\u001b[43mattrs\u001b[49m\u001b[38;5;241;43m=\u001b[39;49m\u001b[43mattrs\u001b[49m\u001b[43m,\u001b[49m\n\u001b[0;32m    504\u001b[0m \u001b[43m        \u001b[49m\u001b[43mctx\u001b[49m\u001b[38;5;241;43m=\u001b[39;49m\u001b[43mctx\u001b[49m\u001b[43m)\u001b[49m\n\u001b[0;32m    505\u001b[0m   \u001b[38;5;28;01melse\u001b[39;00m:\n\u001b[0;32m    506\u001b[0m     outputs \u001b[38;5;241m=\u001b[39m execute\u001b[38;5;241m.\u001b[39mexecute_with_cancellation(\n\u001b[0;32m    507\u001b[0m         \u001b[38;5;28mstr\u001b[39m(\u001b[38;5;28mself\u001b[39m\u001b[38;5;241m.\u001b[39msignature\u001b[38;5;241m.\u001b[39mname),\n\u001b[0;32m    508\u001b[0m         num_outputs\u001b[38;5;241m=\u001b[39m\u001b[38;5;28mself\u001b[39m\u001b[38;5;241m.\u001b[39m_num_outputs,\n\u001b[1;32m   (...)\u001b[0m\n\u001b[0;32m    511\u001b[0m         ctx\u001b[38;5;241m=\u001b[39mctx,\n\u001b[0;32m    512\u001b[0m         cancellation_manager\u001b[38;5;241m=\u001b[39mcancellation_manager)\n",
      "File \u001b[1;32m~\\AppData\\Roaming\\Python\\Python310\\site-packages\\tensorflow\\python\\eager\\execute.py:54\u001b[0m, in \u001b[0;36mquick_execute\u001b[1;34m(op_name, num_outputs, inputs, attrs, ctx, name)\u001b[0m\n\u001b[0;32m     52\u001b[0m \u001b[38;5;28;01mtry\u001b[39;00m:\n\u001b[0;32m     53\u001b[0m   ctx\u001b[38;5;241m.\u001b[39mensure_initialized()\n\u001b[1;32m---> 54\u001b[0m   tensors \u001b[38;5;241m=\u001b[39m \u001b[43mpywrap_tfe\u001b[49m\u001b[38;5;241;43m.\u001b[39;49m\u001b[43mTFE_Py_Execute\u001b[49m\u001b[43m(\u001b[49m\u001b[43mctx\u001b[49m\u001b[38;5;241;43m.\u001b[39;49m\u001b[43m_handle\u001b[49m\u001b[43m,\u001b[49m\u001b[43m \u001b[49m\u001b[43mdevice_name\u001b[49m\u001b[43m,\u001b[49m\u001b[43m \u001b[49m\u001b[43mop_name\u001b[49m\u001b[43m,\u001b[49m\n\u001b[0;32m     55\u001b[0m \u001b[43m                                      \u001b[49m\u001b[43minputs\u001b[49m\u001b[43m,\u001b[49m\u001b[43m \u001b[49m\u001b[43mattrs\u001b[49m\u001b[43m,\u001b[49m\u001b[43m \u001b[49m\u001b[43mnum_outputs\u001b[49m\u001b[43m)\u001b[49m\n\u001b[0;32m     56\u001b[0m \u001b[38;5;28;01mexcept\u001b[39;00m core\u001b[38;5;241m.\u001b[39m_NotOkStatusException \u001b[38;5;28;01mas\u001b[39;00m e:\n\u001b[0;32m     57\u001b[0m   \u001b[38;5;28;01mif\u001b[39;00m name \u001b[38;5;129;01mis\u001b[39;00m \u001b[38;5;129;01mnot\u001b[39;00m \u001b[38;5;28;01mNone\u001b[39;00m:\n",
      "\u001b[1;31mKeyboardInterrupt\u001b[0m: "
     ]
    }
   ],
   "source": [
    "# compiling the LSTM RNN network\n",
    "\n",
    "regressor.compile(optimizer='adam',metrics = ['mean_squared_error'],loss='mean_squared_error')\n",
    "\n",
    "# fit to the training set\n",
    "\n",
    "regressor.fit(X_train, Y_train, epochs=10, batch_size=32)"
   ]
  },
  {
   "cell_type": "code",
   "execution_count": 22,
   "id": "3ac64a0a",
   "metadata": {},
   "outputs": [],
   "source": [
    "X_test, Y_test = np.array(X_test), np.array(Y_test)"
   ]
  },
  {
   "cell_type": "code",
   "execution_count": 23,
   "id": "412c9404",
   "metadata": {},
   "outputs": [],
   "source": [
    "\n",
    "X_test = np.reshape(X_test, (X_test.shape[0], X_test.shape[1], 1))"
   ]
  },
  {
   "cell_type": "code",
   "execution_count": 26,
   "id": "fa929a14",
   "metadata": {},
   "outputs": [
    {
     "name": "stdout",
     "output_type": "stream",
     "text": [
      "556/556 [==============================] - 25s 44ms/step\n"
     ]
    },
    {
     "data": {
      "text/plain": [
       "array([[0.41137883],\n",
       "       [0.412849  ],\n",
       "       [0.4110733 ],\n",
       "       ...,\n",
       "       [0.41648433],\n",
       "       [0.4157775 ],\n",
       "       [0.42024946]], dtype=float32)"
      ]
     },
     "execution_count": 26,
     "metadata": {},
     "output_type": "execute_result"
    }
   ],
   "source": [
    "# predicting the stock prices for test set\n",
    "\n",
    "predicted = regressor.predict(X_test)\n",
    "#predicted = sc.inverse_transform(predicted)\n",
    "predicted"
   ]
  },
  {
   "cell_type": "code",
   "execution_count": 27,
   "id": "82e61356",
   "metadata": {},
   "outputs": [
    {
     "data": {
      "text/plain": [
       "0.0641292993105081"
      ]
     },
     "execution_count": 27,
     "metadata": {},
     "output_type": "execute_result"
    }
   ],
   "source": [
    "from sklearn.metrics import mean_absolute_error\n",
    "mean_absolute_error(predicted, Y_test)"
   ]
  },
  {
   "cell_type": "code",
   "execution_count": 29,
   "id": "15aee808",
   "metadata": {},
   "outputs": [],
   "source": [
    "import math\n",
    "trainScore = regressor.evaluate(X_train, Y_train, verbose=0)\n",
    "\n"
   ]
  },
  {
   "cell_type": "code",
   "execution_count": 31,
   "id": "07896017",
   "metadata": {},
   "outputs": [
    {
     "data": {
      "text/plain": [
       "[0.006309434771537781, 0.006309434771537781]"
      ]
     },
     "execution_count": 31,
     "metadata": {},
     "output_type": "execute_result"
    }
   ],
   "source": [
    "trainScore"
   ]
  },
  {
   "cell_type": "code",
   "execution_count": 32,
   "id": "624b02e7",
   "metadata": {},
   "outputs": [
    {
     "name": "stdout",
     "output_type": "stream",
     "text": [
      "Train Score: 0.006309435 MSE (0.079431951 RMSE)\n"
     ]
    }
   ],
   "source": [
    "print('Train Score: %.9f MSE (%.9f RMSE)' % (trainScore[0], math.sqrt(trainScore[0])))"
   ]
  },
  {
   "cell_type": "code",
   "execution_count": 39,
   "id": "9ae6f28b",
   "metadata": {},
   "outputs": [
    {
     "data": {
      "text/plain": [
       "0.0641292993105081"
      ]
     },
     "execution_count": 39,
     "metadata": {},
     "output_type": "execute_result"
    }
   ],
   "source": [
    "from sklearn.metrics import mean_absolute_error\n",
    "mean_absolute_error(predicted1, Y_test)"
   ]
  },
  {
   "cell_type": "code",
   "execution_count": 51,
   "id": "a327f545",
   "metadata": {},
   "outputs": [
    {
     "ename": "NameError",
     "evalue": "name 'max_fatures' is not defined",
     "output_type": "error",
     "traceback": [
      "\u001b[1;31m---------------------------------------------------------------------------\u001b[0m",
      "\u001b[1;31mNameError\u001b[0m                                 Traceback (most recent call last)",
      "Input \u001b[1;32mIn [51]\u001b[0m, in \u001b[0;36m<cell line: 5>\u001b[1;34m()\u001b[0m\n\u001b[0;32m      2\u001b[0m lstm_out \u001b[38;5;241m=\u001b[39m \u001b[38;5;241m196\u001b[39m\n\u001b[0;32m      4\u001b[0m model2 \u001b[38;5;241m=\u001b[39m Sequential()\n\u001b[1;32m----> 5\u001b[0m model\u001b[38;5;241m.\u001b[39madd(Embedding(\u001b[43mmax_fatures\u001b[49m, embed_dim,input_length \u001b[38;5;241m=\u001b[39m X\u001b[38;5;241m.\u001b[39mshape[\u001b[38;5;241m1\u001b[39m]))\n\u001b[0;32m      6\u001b[0m model\u001b[38;5;241m.\u001b[39madd(SpatialDropout1D(\u001b[38;5;241m0.4\u001b[39m))\n\u001b[0;32m      7\u001b[0m model\u001b[38;5;241m.\u001b[39madd(LSTM(lstm_out, dropout\u001b[38;5;241m=\u001b[39m\u001b[38;5;241m0.2\u001b[39m, recurrent_dropout\u001b[38;5;241m=\u001b[39m\u001b[38;5;241m0.2\u001b[39m))\n",
      "\u001b[1;31mNameError\u001b[0m: name 'max_fatures' is not defined"
     ]
    }
   ],
   "source": [
    "embed_dim = 128\n",
    "lstm_out = 196\n",
    "\n",
    "model2 = Sequential()\n",
    "model.add(Embedding(max_fatures, embed_dim,input_length = X.shape[1]))\n",
    "model.add(SpatialDropout1D(0.4))\n",
    "model.add(LSTM(lstm_out, dropout=0.2, recurrent_dropout=0.2))\n",
    "model.add(Dense(2,activation='relu'))\n",
    "model.compile(loss='mean_squared_error', optimizer='adam',metrics = ['MeanSquaredError'])\n",
    "print(model.summary())"
   ]
  },
  {
   "cell_type": "code",
   "execution_count": 52,
   "id": "e593008a",
   "metadata": {},
   "outputs": [],
   "source": [
    "#Hijibiji Try"
   ]
  },
  {
   "cell_type": "code",
   "execution_count": 69,
   "id": "34492d0b",
   "metadata": {},
   "outputs": [],
   "source": [
    "seq_length=150\n",
    "nlp_input = Input(shape=(seq_length,), name='nlp_input')\n",
    "meta_input = Input(shape=(10,), name='meta_input')\n",
    "emb = Embedding(output_dim=embed_dim, input_dim=100, input_length=seq_length)(nlp_input)\n",
    "nlp_out = Bidirectional(LSTM(128, dropout=0.3, recurrent_dropout=0.3))(emb)\n",
    "x = concatenate([nlp_out, meta_input])\n",
    "\n",
    "\n",
    "x = Dense(1, activation='sigmoid')(x)\n",
    "model = Model(inputs=[nlp_input , meta_input], outputs=[x])"
   ]
  },
  {
   "cell_type": "code",
   "execution_count": 71,
   "id": "fa1e75d3",
   "metadata": {},
   "outputs": [
    {
     "name": "stdout",
     "output_type": "stream",
     "text": [
      "Model: \"model\"\n",
      "__________________________________________________________________________________________________\n",
      " Layer (type)                   Output Shape         Param #     Connected to                     \n",
      "==================================================================================================\n",
      " nlp_input (InputLayer)         [(None, 150)]        0           []                               \n",
      "                                                                                                  \n",
      " embedding_4 (Embedding)        (None, 150, 128)     12800       ['nlp_input[0][0]']              \n",
      "                                                                                                  \n",
      " bidirectional_3 (Bidirectional  (None, 256)         263168      ['embedding_4[0][0]']            \n",
      " )                                                                                                \n",
      "                                                                                                  \n",
      " meta_input (InputLayer)        [(None, 10)]         0           []                               \n",
      "                                                                                                  \n",
      " concatenate_2 (Concatenate)    (None, 266)          0           ['bidirectional_3[0][0]',        \n",
      "                                                                  'meta_input[0][0]']             \n",
      "                                                                                                  \n",
      " dense_6 (Dense)                (None, 1)            267         ['concatenate_2[0][0]']          \n",
      "                                                                                                  \n",
      "==================================================================================================\n",
      "Total params: 276,235\n",
      "Trainable params: 276,235\n",
      "Non-trainable params: 0\n",
      "__________________________________________________________________________________________________\n"
     ]
    }
   ],
   "source": [
    "model.summary()"
   ]
  },
  {
   "cell_type": "code",
   "execution_count": 73,
   "id": "d41f00ed",
   "metadata": {},
   "outputs": [
    {
     "data": {
      "text/plain": [
       "Index(['Tweet', 'sentiment', 'Date', 'depression_Intensity', 'text',\n",
       "       'text_clean', 'text_clean_tokens', '0', '1', '2', '3', '4', '5', '6',\n",
       "       '7', '8', '9', '10', '11', '12', '13', '14', '15', '16', '17', '18',\n",
       "       '19', '20', '21', '22', '23', '24', '25', '26', '27', '28', '29', '30',\n",
       "       '31', '32', '33', '34', '35', '36', 'T1', 'T2', 'T3', 'T4', 'T5', 'T6',\n",
       "       'T7', 'T8', 'T9', 'T10', 'T11', 'T12', 'T13', 'T14', 'T15', 'T16',\n",
       "       'T17', 'T18', 'T19', 'T20', 'T21', 'T22', 'T23', 'T24', 'T25'],\n",
       "      dtype='object')"
      ]
     },
     "execution_count": 73,
     "metadata": {},
     "output_type": "execute_result"
    }
   ],
   "source": [
    "data.columns"
   ]
  },
  {
   "cell_type": "code",
   "execution_count": 77,
   "id": "0a2f6491",
   "metadata": {},
   "outputs": [
    {
     "ename": "ValueError",
     "evalue": "Failed to convert a NumPy array to a Tensor (Unsupported object type float).",
     "output_type": "error",
     "traceback": [
      "\u001b[1;31m---------------------------------------------------------------------------\u001b[0m",
      "\u001b[1;31mValueError\u001b[0m                                Traceback (most recent call last)",
      "Input \u001b[1;32mIn [77]\u001b[0m, in \u001b[0;36m<cell line: 5>\u001b[1;34m()\u001b[0m\n\u001b[0;32m      1\u001b[0m model\u001b[38;5;241m.\u001b[39mcompile(optimizer\u001b[38;5;241m=\u001b[39m\u001b[38;5;124m'\u001b[39m\u001b[38;5;124madam\u001b[39m\u001b[38;5;124m'\u001b[39m,metrics \u001b[38;5;241m=\u001b[39m [\u001b[38;5;124m'\u001b[39m\u001b[38;5;124mmean_squared_error\u001b[39m\u001b[38;5;124m'\u001b[39m],loss\u001b[38;5;241m=\u001b[39m\u001b[38;5;124m'\u001b[39m\u001b[38;5;124mmean_squared_error\u001b[39m\u001b[38;5;124m'\u001b[39m)\n\u001b[0;32m      3\u001b[0m \u001b[38;5;66;03m# fit to the training set\u001b[39;00m\n\u001b[1;32m----> 5\u001b[0m \u001b[43mmodel\u001b[49m\u001b[38;5;241;43m.\u001b[39;49m\u001b[43mfit\u001b[49m\u001b[43m(\u001b[49m\u001b[43mdata\u001b[49m\u001b[43m[\u001b[49m\u001b[38;5;124;43m'\u001b[39;49m\u001b[38;5;124;43mtext_clean\u001b[39;49m\u001b[38;5;124;43m'\u001b[39;49m\u001b[43m]\u001b[49m\u001b[43m,\u001b[49m\u001b[43m \u001b[49m\u001b[43mdata\u001b[49m\u001b[43m[\u001b[49m\u001b[38;5;124;43m'\u001b[39;49m\u001b[38;5;124;43mdepression_Intensity\u001b[39;49m\u001b[38;5;124;43m'\u001b[39;49m\u001b[43m]\u001b[49m\u001b[43m,\u001b[49m\u001b[43m \u001b[49m\u001b[43mepochs\u001b[49m\u001b[38;5;241;43m=\u001b[39;49m\u001b[38;5;241;43m25\u001b[39;49m\u001b[43m,\u001b[49m\u001b[43m \u001b[49m\u001b[43mbatch_size\u001b[49m\u001b[38;5;241;43m=\u001b[39;49m\u001b[38;5;241;43m32\u001b[39;49m\u001b[43m)\u001b[49m\n",
      "File \u001b[1;32m~\\AppData\\Roaming\\Python\\Python310\\site-packages\\keras\\utils\\traceback_utils.py:70\u001b[0m, in \u001b[0;36mfilter_traceback.<locals>.error_handler\u001b[1;34m(*args, **kwargs)\u001b[0m\n\u001b[0;32m     67\u001b[0m     filtered_tb \u001b[38;5;241m=\u001b[39m _process_traceback_frames(e\u001b[38;5;241m.\u001b[39m__traceback__)\n\u001b[0;32m     68\u001b[0m     \u001b[38;5;66;03m# To get the full stack trace, call:\u001b[39;00m\n\u001b[0;32m     69\u001b[0m     \u001b[38;5;66;03m# `tf.debugging.disable_traceback_filtering()`\u001b[39;00m\n\u001b[1;32m---> 70\u001b[0m     \u001b[38;5;28;01mraise\u001b[39;00m e\u001b[38;5;241m.\u001b[39mwith_traceback(filtered_tb) \u001b[38;5;28;01mfrom\u001b[39;00m \u001b[38;5;28mNone\u001b[39m\n\u001b[0;32m     71\u001b[0m \u001b[38;5;28;01mfinally\u001b[39;00m:\n\u001b[0;32m     72\u001b[0m     \u001b[38;5;28;01mdel\u001b[39;00m filtered_tb\n",
      "File \u001b[1;32m~\\AppData\\Roaming\\Python\\Python310\\site-packages\\tensorflow\\python\\framework\\constant_op.py:102\u001b[0m, in \u001b[0;36mconvert_to_eager_tensor\u001b[1;34m(value, ctx, dtype)\u001b[0m\n\u001b[0;32m    100\u001b[0m     dtype \u001b[38;5;241m=\u001b[39m dtypes\u001b[38;5;241m.\u001b[39mas_dtype(dtype)\u001b[38;5;241m.\u001b[39mas_datatype_enum\n\u001b[0;32m    101\u001b[0m ctx\u001b[38;5;241m.\u001b[39mensure_initialized()\n\u001b[1;32m--> 102\u001b[0m \u001b[38;5;28;01mreturn\u001b[39;00m \u001b[43mops\u001b[49m\u001b[38;5;241;43m.\u001b[39;49m\u001b[43mEagerTensor\u001b[49m\u001b[43m(\u001b[49m\u001b[43mvalue\u001b[49m\u001b[43m,\u001b[49m\u001b[43m \u001b[49m\u001b[43mctx\u001b[49m\u001b[38;5;241;43m.\u001b[39;49m\u001b[43mdevice_name\u001b[49m\u001b[43m,\u001b[49m\u001b[43m \u001b[49m\u001b[43mdtype\u001b[49m\u001b[43m)\u001b[49m\n",
      "\u001b[1;31mValueError\u001b[0m: Failed to convert a NumPy array to a Tensor (Unsupported object type float)."
     ]
    }
   ],
   "source": [
    "model.compile(optimizer='adam',metrics = ['mean_squared_error'],loss='mean_squared_error')\n",
    "\n",
    "# fit to the training set\n",
    "\n",
    "model.fit(data['text_clean'], data['depression_Intensity'], epochs=25, batch_size=32)"
   ]
  },
  {
   "cell_type": "code",
   "execution_count": null,
   "id": "bc11012f",
   "metadata": {},
   "outputs": [],
   "source": []
  },
  {
   "cell_type": "code",
   "execution_count": null,
   "id": "61fccefc",
   "metadata": {},
   "outputs": [],
   "source": []
  },
  {
   "cell_type": "code",
   "execution_count": null,
   "id": "6e97dbe2",
   "metadata": {},
   "outputs": [],
   "source": []
  },
  {
   "cell_type": "code",
   "execution_count": null,
   "id": "606134ff",
   "metadata": {},
   "outputs": [],
   "source": []
  },
  {
   "cell_type": "code",
   "execution_count": 45,
   "id": "ce36c4db",
   "metadata": {},
   "outputs": [
    {
     "name": "stdout",
     "output_type": "stream",
     "text": [
      "Model: \"sequential_7\"\n",
      "_________________________________________________________________\n",
      " Layer (type)                Output Shape              Param #   \n",
      "=================================================================\n",
      " lstm_15 (LSTM)              (None, 62, 50)            10400     \n",
      "                                                                 \n",
      " spatial_dropout1d_4 (Spatia  (None, 62, 50)           0         \n",
      " lDropout1D)                                                     \n",
      "                                                                 \n",
      " lstm_16 (LSTM)              (None, 50)                20200     \n",
      "                                                                 \n",
      " dense_4 (Dense)             (None, 2)                 102       \n",
      "                                                                 \n",
      "=================================================================\n",
      "Total params: 30,702\n",
      "Trainable params: 30,702\n",
      "Non-trainable params: 0\n",
      "_________________________________________________________________\n",
      "None\n"
     ]
    }
   ],
   "source": [
    "\n",
    "model = Sequential()\n",
    "model.add(LSTM(units=50, return_sequences=True, input_shape=(X_train.shape[1],1)))\n",
    "model.add(SpatialDropout1D(0.4))\n",
    "\n",
    "#regressor.add(Dropout(0.2))\n",
    "\n",
    "# add second layer\n",
    "\n",
    "#regressor.add(LSTM(units=50, return_sequences=True))\n",
    "\n",
    "model.add(LSTM(dropout=0.2,units=50, recurrent_dropout=0.2))\n",
    "model.add(Dense(2,activation='relu'))\n",
    "model.compile(loss='mean_squared_error', optimizer='adam',metrics = ['MeanSquaredError'])\n",
    "print(model.summary())"
   ]
  },
  {
   "cell_type": "code",
   "execution_count": 46,
   "id": "ff2f57ad",
   "metadata": {},
   "outputs": [
    {
     "name": "stdout",
     "output_type": "stream",
     "text": [
      "Epoch 1/25\n",
      "1851/1851 [==============================] - 208s 109ms/step - loss: 0.0079 - mean_squared_error: 0.0079\n",
      "Epoch 2/25\n",
      "1851/1851 [==============================] - 190s 103ms/step - loss: 0.0067 - mean_squared_error: 0.0067\n",
      "Epoch 3/25\n",
      "1851/1851 [==============================] - 194s 105ms/step - loss: 0.0064 - mean_squared_error: 0.0064\n",
      "Epoch 4/25\n",
      "1851/1851 [==============================] - 196s 106ms/step - loss: 0.0063 - mean_squared_error: 0.0063\n",
      "Epoch 5/25\n",
      "1851/1851 [==============================] - 219s 118ms/step - loss: 0.0062 - mean_squared_error: 0.0062\n",
      "Epoch 6/25\n",
      "1851/1851 [==============================] - 221s 119ms/step - loss: 0.0062 - mean_squared_error: 0.0062\n",
      "Epoch 7/25\n",
      " 312/1851 [====>.........................] - ETA: 2:47 - loss: 0.0062 - mean_squared_error: 0.0062"
     ]
    },
    {
     "ename": "KeyboardInterrupt",
     "evalue": "",
     "output_type": "error",
     "traceback": [
      "\u001b[1;31m---------------------------------------------------------------------------\u001b[0m",
      "\u001b[1;31mKeyboardInterrupt\u001b[0m                         Traceback (most recent call last)",
      "Input \u001b[1;32mIn [46]\u001b[0m, in \u001b[0;36m<cell line: 5>\u001b[1;34m()\u001b[0m\n\u001b[0;32m      1\u001b[0m model\u001b[38;5;241m.\u001b[39mcompile(optimizer\u001b[38;5;241m=\u001b[39m\u001b[38;5;124m'\u001b[39m\u001b[38;5;124madam\u001b[39m\u001b[38;5;124m'\u001b[39m,metrics \u001b[38;5;241m=\u001b[39m [\u001b[38;5;124m'\u001b[39m\u001b[38;5;124mmean_squared_error\u001b[39m\u001b[38;5;124m'\u001b[39m],loss\u001b[38;5;241m=\u001b[39m\u001b[38;5;124m'\u001b[39m\u001b[38;5;124mmean_squared_error\u001b[39m\u001b[38;5;124m'\u001b[39m)\n\u001b[0;32m      3\u001b[0m \u001b[38;5;66;03m# fit to the training set\u001b[39;00m\n\u001b[1;32m----> 5\u001b[0m \u001b[43mmodel\u001b[49m\u001b[38;5;241;43m.\u001b[39;49m\u001b[43mfit\u001b[49m\u001b[43m(\u001b[49m\u001b[43mX_train\u001b[49m\u001b[43m,\u001b[49m\u001b[43m \u001b[49m\u001b[43mY_train\u001b[49m\u001b[43m,\u001b[49m\u001b[43m \u001b[49m\u001b[43mepochs\u001b[49m\u001b[38;5;241;43m=\u001b[39;49m\u001b[38;5;241;43m25\u001b[39;49m\u001b[43m,\u001b[49m\u001b[43m \u001b[49m\u001b[43mbatch_size\u001b[49m\u001b[38;5;241;43m=\u001b[39;49m\u001b[38;5;241;43m32\u001b[39;49m\u001b[43m)\u001b[49m\n",
      "File \u001b[1;32m~\\AppData\\Roaming\\Python\\Python310\\site-packages\\keras\\utils\\traceback_utils.py:65\u001b[0m, in \u001b[0;36mfilter_traceback.<locals>.error_handler\u001b[1;34m(*args, **kwargs)\u001b[0m\n\u001b[0;32m     63\u001b[0m filtered_tb \u001b[38;5;241m=\u001b[39m \u001b[38;5;28;01mNone\u001b[39;00m\n\u001b[0;32m     64\u001b[0m \u001b[38;5;28;01mtry\u001b[39;00m:\n\u001b[1;32m---> 65\u001b[0m     \u001b[38;5;28;01mreturn\u001b[39;00m fn(\u001b[38;5;241m*\u001b[39margs, \u001b[38;5;241m*\u001b[39m\u001b[38;5;241m*\u001b[39mkwargs)\n\u001b[0;32m     66\u001b[0m \u001b[38;5;28;01mexcept\u001b[39;00m \u001b[38;5;167;01mException\u001b[39;00m \u001b[38;5;28;01mas\u001b[39;00m e:\n\u001b[0;32m     67\u001b[0m     filtered_tb \u001b[38;5;241m=\u001b[39m _process_traceback_frames(e\u001b[38;5;241m.\u001b[39m__traceback__)\n",
      "File \u001b[1;32m~\\AppData\\Roaming\\Python\\Python310\\site-packages\\keras\\engine\\training.py:1564\u001b[0m, in \u001b[0;36mModel.fit\u001b[1;34m(self, x, y, batch_size, epochs, verbose, callbacks, validation_split, validation_data, shuffle, class_weight, sample_weight, initial_epoch, steps_per_epoch, validation_steps, validation_batch_size, validation_freq, max_queue_size, workers, use_multiprocessing)\u001b[0m\n\u001b[0;32m   1556\u001b[0m \u001b[38;5;28;01mwith\u001b[39;00m tf\u001b[38;5;241m.\u001b[39mprofiler\u001b[38;5;241m.\u001b[39mexperimental\u001b[38;5;241m.\u001b[39mTrace(\n\u001b[0;32m   1557\u001b[0m     \u001b[38;5;124m\"\u001b[39m\u001b[38;5;124mtrain\u001b[39m\u001b[38;5;124m\"\u001b[39m,\n\u001b[0;32m   1558\u001b[0m     epoch_num\u001b[38;5;241m=\u001b[39mepoch,\n\u001b[1;32m   (...)\u001b[0m\n\u001b[0;32m   1561\u001b[0m     _r\u001b[38;5;241m=\u001b[39m\u001b[38;5;241m1\u001b[39m,\n\u001b[0;32m   1562\u001b[0m ):\n\u001b[0;32m   1563\u001b[0m     callbacks\u001b[38;5;241m.\u001b[39mon_train_batch_begin(step)\n\u001b[1;32m-> 1564\u001b[0m     tmp_logs \u001b[38;5;241m=\u001b[39m \u001b[38;5;28;43mself\u001b[39;49m\u001b[38;5;241;43m.\u001b[39;49m\u001b[43mtrain_function\u001b[49m\u001b[43m(\u001b[49m\u001b[43miterator\u001b[49m\u001b[43m)\u001b[49m\n\u001b[0;32m   1565\u001b[0m     \u001b[38;5;28;01mif\u001b[39;00m data_handler\u001b[38;5;241m.\u001b[39mshould_sync:\n\u001b[0;32m   1566\u001b[0m         context\u001b[38;5;241m.\u001b[39masync_wait()\n",
      "File \u001b[1;32m~\\AppData\\Roaming\\Python\\Python310\\site-packages\\tensorflow\\python\\util\\traceback_utils.py:150\u001b[0m, in \u001b[0;36mfilter_traceback.<locals>.error_handler\u001b[1;34m(*args, **kwargs)\u001b[0m\n\u001b[0;32m    148\u001b[0m filtered_tb \u001b[38;5;241m=\u001b[39m \u001b[38;5;28;01mNone\u001b[39;00m\n\u001b[0;32m    149\u001b[0m \u001b[38;5;28;01mtry\u001b[39;00m:\n\u001b[1;32m--> 150\u001b[0m   \u001b[38;5;28;01mreturn\u001b[39;00m fn(\u001b[38;5;241m*\u001b[39margs, \u001b[38;5;241m*\u001b[39m\u001b[38;5;241m*\u001b[39mkwargs)\n\u001b[0;32m    151\u001b[0m \u001b[38;5;28;01mexcept\u001b[39;00m \u001b[38;5;167;01mException\u001b[39;00m \u001b[38;5;28;01mas\u001b[39;00m e:\n\u001b[0;32m    152\u001b[0m   filtered_tb \u001b[38;5;241m=\u001b[39m _process_traceback_frames(e\u001b[38;5;241m.\u001b[39m__traceback__)\n",
      "File \u001b[1;32m~\\AppData\\Roaming\\Python\\Python310\\site-packages\\tensorflow\\python\\eager\\def_function.py:915\u001b[0m, in \u001b[0;36mFunction.__call__\u001b[1;34m(self, *args, **kwds)\u001b[0m\n\u001b[0;32m    912\u001b[0m compiler \u001b[38;5;241m=\u001b[39m \u001b[38;5;124m\"\u001b[39m\u001b[38;5;124mxla\u001b[39m\u001b[38;5;124m\"\u001b[39m \u001b[38;5;28;01mif\u001b[39;00m \u001b[38;5;28mself\u001b[39m\u001b[38;5;241m.\u001b[39m_jit_compile \u001b[38;5;28;01melse\u001b[39;00m \u001b[38;5;124m\"\u001b[39m\u001b[38;5;124mnonXla\u001b[39m\u001b[38;5;124m\"\u001b[39m\n\u001b[0;32m    914\u001b[0m \u001b[38;5;28;01mwith\u001b[39;00m OptionalXlaContext(\u001b[38;5;28mself\u001b[39m\u001b[38;5;241m.\u001b[39m_jit_compile):\n\u001b[1;32m--> 915\u001b[0m   result \u001b[38;5;241m=\u001b[39m \u001b[38;5;28mself\u001b[39m\u001b[38;5;241m.\u001b[39m_call(\u001b[38;5;241m*\u001b[39margs, \u001b[38;5;241m*\u001b[39m\u001b[38;5;241m*\u001b[39mkwds)\n\u001b[0;32m    917\u001b[0m new_tracing_count \u001b[38;5;241m=\u001b[39m \u001b[38;5;28mself\u001b[39m\u001b[38;5;241m.\u001b[39mexperimental_get_tracing_count()\n\u001b[0;32m    918\u001b[0m without_tracing \u001b[38;5;241m=\u001b[39m (tracing_count \u001b[38;5;241m==\u001b[39m new_tracing_count)\n",
      "File \u001b[1;32m~\\AppData\\Roaming\\Python\\Python310\\site-packages\\tensorflow\\python\\eager\\def_function.py:947\u001b[0m, in \u001b[0;36mFunction._call\u001b[1;34m(self, *args, **kwds)\u001b[0m\n\u001b[0;32m    944\u001b[0m   \u001b[38;5;28mself\u001b[39m\u001b[38;5;241m.\u001b[39m_lock\u001b[38;5;241m.\u001b[39mrelease()\n\u001b[0;32m    945\u001b[0m   \u001b[38;5;66;03m# In this case we have created variables on the first call, so we run the\u001b[39;00m\n\u001b[0;32m    946\u001b[0m   \u001b[38;5;66;03m# defunned version which is guaranteed to never create variables.\u001b[39;00m\n\u001b[1;32m--> 947\u001b[0m   \u001b[38;5;28;01mreturn\u001b[39;00m \u001b[38;5;28mself\u001b[39m\u001b[38;5;241m.\u001b[39m_stateless_fn(\u001b[38;5;241m*\u001b[39margs, \u001b[38;5;241m*\u001b[39m\u001b[38;5;241m*\u001b[39mkwds)  \u001b[38;5;66;03m# pylint: disable=not-callable\u001b[39;00m\n\u001b[0;32m    948\u001b[0m \u001b[38;5;28;01melif\u001b[39;00m \u001b[38;5;28mself\u001b[39m\u001b[38;5;241m.\u001b[39m_stateful_fn \u001b[38;5;129;01mis\u001b[39;00m \u001b[38;5;129;01mnot\u001b[39;00m \u001b[38;5;28;01mNone\u001b[39;00m:\n\u001b[0;32m    949\u001b[0m   \u001b[38;5;66;03m# Release the lock early so that multiple threads can perform the call\u001b[39;00m\n\u001b[0;32m    950\u001b[0m   \u001b[38;5;66;03m# in parallel.\u001b[39;00m\n\u001b[0;32m    951\u001b[0m   \u001b[38;5;28mself\u001b[39m\u001b[38;5;241m.\u001b[39m_lock\u001b[38;5;241m.\u001b[39mrelease()\n",
      "File \u001b[1;32m~\\AppData\\Roaming\\Python\\Python310\\site-packages\\tensorflow\\python\\eager\\function.py:2496\u001b[0m, in \u001b[0;36mFunction.__call__\u001b[1;34m(self, *args, **kwargs)\u001b[0m\n\u001b[0;32m   2493\u001b[0m \u001b[38;5;28;01mwith\u001b[39;00m \u001b[38;5;28mself\u001b[39m\u001b[38;5;241m.\u001b[39m_lock:\n\u001b[0;32m   2494\u001b[0m   (graph_function,\n\u001b[0;32m   2495\u001b[0m    filtered_flat_args) \u001b[38;5;241m=\u001b[39m \u001b[38;5;28mself\u001b[39m\u001b[38;5;241m.\u001b[39m_maybe_define_function(args, kwargs)\n\u001b[1;32m-> 2496\u001b[0m \u001b[38;5;28;01mreturn\u001b[39;00m \u001b[43mgraph_function\u001b[49m\u001b[38;5;241;43m.\u001b[39;49m\u001b[43m_call_flat\u001b[49m\u001b[43m(\u001b[49m\n\u001b[0;32m   2497\u001b[0m \u001b[43m    \u001b[49m\u001b[43mfiltered_flat_args\u001b[49m\u001b[43m,\u001b[49m\u001b[43m \u001b[49m\u001b[43mcaptured_inputs\u001b[49m\u001b[38;5;241;43m=\u001b[39;49m\u001b[43mgraph_function\u001b[49m\u001b[38;5;241;43m.\u001b[39;49m\u001b[43mcaptured_inputs\u001b[49m\u001b[43m)\u001b[49m\n",
      "File \u001b[1;32m~\\AppData\\Roaming\\Python\\Python310\\site-packages\\tensorflow\\python\\eager\\function.py:1862\u001b[0m, in \u001b[0;36mConcreteFunction._call_flat\u001b[1;34m(self, args, captured_inputs, cancellation_manager)\u001b[0m\n\u001b[0;32m   1858\u001b[0m possible_gradient_type \u001b[38;5;241m=\u001b[39m gradients_util\u001b[38;5;241m.\u001b[39mPossibleTapeGradientTypes(args)\n\u001b[0;32m   1859\u001b[0m \u001b[38;5;28;01mif\u001b[39;00m (possible_gradient_type \u001b[38;5;241m==\u001b[39m gradients_util\u001b[38;5;241m.\u001b[39mPOSSIBLE_GRADIENT_TYPES_NONE\n\u001b[0;32m   1860\u001b[0m     \u001b[38;5;129;01mand\u001b[39;00m executing_eagerly):\n\u001b[0;32m   1861\u001b[0m   \u001b[38;5;66;03m# No tape is watching; skip to running the function.\u001b[39;00m\n\u001b[1;32m-> 1862\u001b[0m   \u001b[38;5;28;01mreturn\u001b[39;00m \u001b[38;5;28mself\u001b[39m\u001b[38;5;241m.\u001b[39m_build_call_outputs(\u001b[38;5;28;43mself\u001b[39;49m\u001b[38;5;241;43m.\u001b[39;49m\u001b[43m_inference_function\u001b[49m\u001b[38;5;241;43m.\u001b[39;49m\u001b[43mcall\u001b[49m\u001b[43m(\u001b[49m\n\u001b[0;32m   1863\u001b[0m \u001b[43m      \u001b[49m\u001b[43mctx\u001b[49m\u001b[43m,\u001b[49m\u001b[43m \u001b[49m\u001b[43margs\u001b[49m\u001b[43m,\u001b[49m\u001b[43m \u001b[49m\u001b[43mcancellation_manager\u001b[49m\u001b[38;5;241;43m=\u001b[39;49m\u001b[43mcancellation_manager\u001b[49m\u001b[43m)\u001b[49m)\n\u001b[0;32m   1864\u001b[0m forward_backward \u001b[38;5;241m=\u001b[39m \u001b[38;5;28mself\u001b[39m\u001b[38;5;241m.\u001b[39m_select_forward_and_backward_functions(\n\u001b[0;32m   1865\u001b[0m     args,\n\u001b[0;32m   1866\u001b[0m     possible_gradient_type,\n\u001b[0;32m   1867\u001b[0m     executing_eagerly)\n\u001b[0;32m   1868\u001b[0m forward_function, args_with_tangents \u001b[38;5;241m=\u001b[39m forward_backward\u001b[38;5;241m.\u001b[39mforward()\n",
      "File \u001b[1;32m~\\AppData\\Roaming\\Python\\Python310\\site-packages\\tensorflow\\python\\eager\\function.py:499\u001b[0m, in \u001b[0;36m_EagerDefinedFunction.call\u001b[1;34m(self, ctx, args, cancellation_manager)\u001b[0m\n\u001b[0;32m    497\u001b[0m \u001b[38;5;28;01mwith\u001b[39;00m _InterpolateFunctionError(\u001b[38;5;28mself\u001b[39m):\n\u001b[0;32m    498\u001b[0m   \u001b[38;5;28;01mif\u001b[39;00m cancellation_manager \u001b[38;5;129;01mis\u001b[39;00m \u001b[38;5;28;01mNone\u001b[39;00m:\n\u001b[1;32m--> 499\u001b[0m     outputs \u001b[38;5;241m=\u001b[39m \u001b[43mexecute\u001b[49m\u001b[38;5;241;43m.\u001b[39;49m\u001b[43mexecute\u001b[49m\u001b[43m(\u001b[49m\n\u001b[0;32m    500\u001b[0m \u001b[43m        \u001b[49m\u001b[38;5;28;43mstr\u001b[39;49m\u001b[43m(\u001b[49m\u001b[38;5;28;43mself\u001b[39;49m\u001b[38;5;241;43m.\u001b[39;49m\u001b[43msignature\u001b[49m\u001b[38;5;241;43m.\u001b[39;49m\u001b[43mname\u001b[49m\u001b[43m)\u001b[49m\u001b[43m,\u001b[49m\n\u001b[0;32m    501\u001b[0m \u001b[43m        \u001b[49m\u001b[43mnum_outputs\u001b[49m\u001b[38;5;241;43m=\u001b[39;49m\u001b[38;5;28;43mself\u001b[39;49m\u001b[38;5;241;43m.\u001b[39;49m\u001b[43m_num_outputs\u001b[49m\u001b[43m,\u001b[49m\n\u001b[0;32m    502\u001b[0m \u001b[43m        \u001b[49m\u001b[43minputs\u001b[49m\u001b[38;5;241;43m=\u001b[39;49m\u001b[43margs\u001b[49m\u001b[43m,\u001b[49m\n\u001b[0;32m    503\u001b[0m \u001b[43m        \u001b[49m\u001b[43mattrs\u001b[49m\u001b[38;5;241;43m=\u001b[39;49m\u001b[43mattrs\u001b[49m\u001b[43m,\u001b[49m\n\u001b[0;32m    504\u001b[0m \u001b[43m        \u001b[49m\u001b[43mctx\u001b[49m\u001b[38;5;241;43m=\u001b[39;49m\u001b[43mctx\u001b[49m\u001b[43m)\u001b[49m\n\u001b[0;32m    505\u001b[0m   \u001b[38;5;28;01melse\u001b[39;00m:\n\u001b[0;32m    506\u001b[0m     outputs \u001b[38;5;241m=\u001b[39m execute\u001b[38;5;241m.\u001b[39mexecute_with_cancellation(\n\u001b[0;32m    507\u001b[0m         \u001b[38;5;28mstr\u001b[39m(\u001b[38;5;28mself\u001b[39m\u001b[38;5;241m.\u001b[39msignature\u001b[38;5;241m.\u001b[39mname),\n\u001b[0;32m    508\u001b[0m         num_outputs\u001b[38;5;241m=\u001b[39m\u001b[38;5;28mself\u001b[39m\u001b[38;5;241m.\u001b[39m_num_outputs,\n\u001b[1;32m   (...)\u001b[0m\n\u001b[0;32m    511\u001b[0m         ctx\u001b[38;5;241m=\u001b[39mctx,\n\u001b[0;32m    512\u001b[0m         cancellation_manager\u001b[38;5;241m=\u001b[39mcancellation_manager)\n",
      "File \u001b[1;32m~\\AppData\\Roaming\\Python\\Python310\\site-packages\\tensorflow\\python\\eager\\execute.py:54\u001b[0m, in \u001b[0;36mquick_execute\u001b[1;34m(op_name, num_outputs, inputs, attrs, ctx, name)\u001b[0m\n\u001b[0;32m     52\u001b[0m \u001b[38;5;28;01mtry\u001b[39;00m:\n\u001b[0;32m     53\u001b[0m   ctx\u001b[38;5;241m.\u001b[39mensure_initialized()\n\u001b[1;32m---> 54\u001b[0m   tensors \u001b[38;5;241m=\u001b[39m \u001b[43mpywrap_tfe\u001b[49m\u001b[38;5;241;43m.\u001b[39;49m\u001b[43mTFE_Py_Execute\u001b[49m\u001b[43m(\u001b[49m\u001b[43mctx\u001b[49m\u001b[38;5;241;43m.\u001b[39;49m\u001b[43m_handle\u001b[49m\u001b[43m,\u001b[49m\u001b[43m \u001b[49m\u001b[43mdevice_name\u001b[49m\u001b[43m,\u001b[49m\u001b[43m \u001b[49m\u001b[43mop_name\u001b[49m\u001b[43m,\u001b[49m\n\u001b[0;32m     55\u001b[0m \u001b[43m                                      \u001b[49m\u001b[43minputs\u001b[49m\u001b[43m,\u001b[49m\u001b[43m \u001b[49m\u001b[43mattrs\u001b[49m\u001b[43m,\u001b[49m\u001b[43m \u001b[49m\u001b[43mnum_outputs\u001b[49m\u001b[43m)\u001b[49m\n\u001b[0;32m     56\u001b[0m \u001b[38;5;28;01mexcept\u001b[39;00m core\u001b[38;5;241m.\u001b[39m_NotOkStatusException \u001b[38;5;28;01mas\u001b[39;00m e:\n\u001b[0;32m     57\u001b[0m   \u001b[38;5;28;01mif\u001b[39;00m name \u001b[38;5;129;01mis\u001b[39;00m \u001b[38;5;129;01mnot\u001b[39;00m \u001b[38;5;28;01mNone\u001b[39;00m:\n",
      "\u001b[1;31mKeyboardInterrupt\u001b[0m: "
     ]
    }
   ],
   "source": [
    "model.compile(optimizer='adam',metrics = ['mean_squared_error'],loss='mean_squared_error')\n",
    "\n",
    "# fit to the training set\n",
    "\n",
    "model.fit(X_train, Y_train, epochs=25, batch_size=32)"
   ]
  },
  {
   "cell_type": "code",
   "execution_count": 38,
   "id": "37965c20",
   "metadata": {},
   "outputs": [
    {
     "name": "stdout",
     "output_type": "stream",
     "text": [
      "556/556 [==============================] - 27s 49ms/step\n"
     ]
    }
   ],
   "source": [
    "# predicting the stock prices for test set\n",
    "\n",
    "predicted1 = model.predict(X_test)\n",
    "#predicted = sc.inverse_transform(predicted)"
   ]
  },
  {
   "cell_type": "code",
   "execution_count": 40,
   "id": "0f122e01",
   "metadata": {},
   "outputs": [
    {
     "data": {
      "text/plain": [
       "0.0641292993105081"
      ]
     },
     "execution_count": 40,
     "metadata": {},
     "output_type": "execute_result"
    }
   ],
   "source": [
    "from sklearn.metrics import mean_absolute_error\n",
    "mean_absolute_error(predicted, Y_test)"
   ]
  },
  {
   "cell_type": "code",
   "execution_count": 44,
   "id": "196b1bd2",
   "metadata": {},
   "outputs": [
    {
     "name": "stdout",
     "output_type": "stream",
     "text": [
      "238/238 [==============================] - 11s 47ms/step\n"
     ]
    },
    {
     "data": {
      "text/plain": [
       "0.0641775812304546"
      ]
     },
     "execution_count": 44,
     "metadata": {},
     "output_type": "execute_result"
    }
   ],
   "source": [
    "predicted_vald = model.predict(X_vald)\n",
    "mean_absolute_error(predicted_vald, Y_vald)"
   ]
  },
  {
   "cell_type": "code",
   "execution_count": 41,
   "id": "5136708f",
   "metadata": {},
   "outputs": [],
   "source": [
    "import math\n",
    "testScore = model.evaluate(X_test, Y_test, verbose=0)\n",
    "\n"
   ]
  },
  {
   "cell_type": "code",
   "execution_count": 42,
   "id": "54bbb705",
   "metadata": {},
   "outputs": [
    {
     "name": "stdout",
     "output_type": "stream",
     "text": [
      "Train Score: 0.006372601 MSE (0.079828574 RMSE)\n"
     ]
    }
   ],
   "source": [
    "print('Train Score: %.9f MSE (%.9f RMSE)' % (testScore[0], math.sqrt(testScore[0])))"
   ]
  },
  {
   "cell_type": "code",
   "execution_count": null,
   "id": "615a3eb8",
   "metadata": {},
   "outputs": [],
   "source": []
  },
  {
   "cell_type": "code",
   "execution_count": null,
   "id": "efdd3305",
   "metadata": {},
   "outputs": [],
   "source": []
  },
  {
   "cell_type": "code",
   "execution_count": 58,
   "id": "16520edb",
   "metadata": {},
   "outputs": [],
   "source": [
    "import numpy as np # linear algebra\n",
    "import pandas as pd # data processing, CSV file I/O (e.g. pd.read_csv)\n",
    "\n",
    "from sklearn.feature_extraction.text import CountVectorizer\n",
    "from keras.preprocessing.text import Tokenizer\n",
    "from keras_preprocessing.sequence import pad_sequences\n",
    "from keras.models import Sequential\n",
    "from keras.layers import Dense, Embedding, LSTM, SpatialDropout1D\n",
    "from sklearn.model_selection import train_test_split\n",
    "from keras.utils.np_utils import to_categorical\n",
    "from sklearn.utils import resample\n",
    "from sklearn.utils import shuffle\n",
    "from sklearn.metrics import confusion_matrix,classification_report\n",
    "import re"
   ]
  },
  {
   "cell_type": "code",
   "execution_count": 18,
   "id": "a17a1869",
   "metadata": {},
   "outputs": [],
   "source": [
    "p=str(data['text_clean'])"
   ]
  },
  {
   "cell_type": "code",
   "execution_count": 20,
   "id": "1a7607ed",
   "metadata": {},
   "outputs": [
    {
     "data": {
      "text/plain": [
       "array([[   0,    0,    0,    0,    0,    0,    0,    0,    0,    0,    0,\n",
       "           0,    0,    0,    0,    0,    0,    0,    0,    0,    0,    0,\n",
       "           0,    0,    0,    0,    0,    0,    0,    0,    0,    0,    0,\n",
       "           0,    0,    0,    0,    0,    0,    0,    0,    0,    0,    0,\n",
       "           0,    0,    0,    0,   20,    8,   50,   52,    3,   92,  124,\n",
       "          36],\n",
       "       [   0,    0,    0,    0,    0,    0,    0,    0,    0,    0,    0,\n",
       "           0,    0,    0,    0,    0,    0,    0,    0,    0,    0,    0,\n",
       "           0,    0,    0,    0,    0,    0,    0,    0,    0,    0,    0,\n",
       "           0,    0,    0,    0,    0,    0,    0,    0,    0,    0,    0,\n",
       "           0,    0,   52,   32,   28,  966,  391,  148,   13,  200, 1796,\n",
       "        1194]])"
      ]
     },
     "execution_count": 20,
     "metadata": {},
     "output_type": "execute_result"
    }
   ],
   "source": [
    "    \n",
    "max_fatures = 2000\n",
    "tokenizer = Tokenizer(num_words=max_fatures, split=' ')\n",
    "tokenizer.fit_on_texts(data['Tweet'].values)\n",
    "X = tokenizer.texts_to_sequences(data['Tweet'].values)\n",
    "X = pad_sequences(X)\n",
    "X[:2]"
   ]
  },
  {
   "cell_type": "code",
   "execution_count": 26,
   "id": "63f94b64",
   "metadata": {},
   "outputs": [
    {
     "data": {
      "text/plain": [
       "(84603, 62)"
      ]
     },
     "execution_count": 26,
     "metadata": {},
     "output_type": "execute_result"
    }
   ],
   "source": [
    "X.shape"
   ]
  },
  {
   "cell_type": "code",
   "execution_count": 39,
   "id": "337a1f41",
   "metadata": {},
   "outputs": [
    {
     "name": "stdout",
     "output_type": "stream",
     "text": [
      "(59222, 62) (59222, 2)\n",
      "(25381, 62) (25381, 2)\n"
     ]
    }
   ],
   "source": [
    "\n",
    "X_train, X_rem, Y_train, Y_rem = train_test_split(X,Y, test_size = 0.30, random_state = 42)\n",
    "print(X_train.shape,Y_train.shape)\n",
    "print(X_rem.shape,Y_rem.shape)\n",
    "import tensorflow as tf\n",
    "import numpy as np\n",
    "\n",
    "#X_train[0]\n",
    "from keras import backend as K\n",
    "X_train1 = K.cast_to_floatx(X_train)\n",
    "Y_train1 = K.cast_to_floatx(Y_train)"
   ]
  },
  {
   "cell_type": "code",
   "execution_count": null,
   "id": "49cfaf6b",
   "metadata": {},
   "outputs": [],
   "source": []
  },
  {
   "cell_type": "code",
   "execution_count": 59,
   "id": "5a3a21b9",
   "metadata": {},
   "outputs": [],
   "source": [
    "from keras.models import Model\n",
    "from keras.layers import Input\n",
    "from keras import layers, models\n",
    "from keras.layers import Activation\n",
    "from keras.utils.generic_utils import get_custom_objects\n",
    "from keras.models import Sequential\n",
    "from keras.layers import Dense, LSTM, Embedding,Dropout\n",
    "from keras.preprocessing import sequence\n",
    "from keras.utils import to_categorical\n",
    "import scipy.io as sio\n",
    "from keras import backend as K\n",
    "import h5py\n",
    "import numpy as np\n",
    "import os\n",
    "import keras\n",
    "from numpy import array\n",
    "np.random.seed(1337)"
   ]
  },
  {
   "cell_type": "code",
   "execution_count": 40,
   "id": "fe509ad1",
   "metadata": {},
   "outputs": [],
   "source": [
    "def build_model_LSTM():\n",
    "    inputs = Input(shape=(62,1,))\n",
    "    x = LSTM(32,return_sequences=True)(inputs)\n",
    "    x = LSTM(16,return_sequences=True)(x)\n",
    "    x = LSTM(4,return_sequences=False)(x)\n",
    "    output_dep = Dense(1, activation='sigmoid')(x)\n",
    "    model = Model(input=[inputs], output=[output_dep])\n",
    "    model.summary()\n",
    "    return model"
   ]
  },
  {
   "cell_type": "code",
   "execution_count": 41,
   "id": "5207bbf9",
   "metadata": {},
   "outputs": [
    {
     "ename": "TypeError",
     "evalue": "('Keyword argument not understood:', 'input')",
     "output_type": "error",
     "traceback": [
      "\u001b[1;31m---------------------------------------------------------------------------\u001b[0m",
      "\u001b[1;31mTypeError\u001b[0m                                 Traceback (most recent call last)",
      "Input \u001b[1;32mIn [41]\u001b[0m, in \u001b[0;36m<cell line: 1>\u001b[1;34m()\u001b[0m\n\u001b[1;32m----> 1\u001b[0m model1 \u001b[38;5;241m=\u001b[39m \u001b[43mbuild_model_LSTM\u001b[49m\u001b[43m(\u001b[49m\u001b[43m)\u001b[49m\n\u001b[0;32m      3\u001b[0m sgd \u001b[38;5;241m=\u001b[39m keras\u001b[38;5;241m.\u001b[39moptimizers\u001b[38;5;241m.\u001b[39mSGD(lr\u001b[38;5;241m=\u001b[39m\u001b[38;5;241m0.01\u001b[39m, decay\u001b[38;5;241m=\u001b[39m\u001b[38;5;241m1e-6\u001b[39m, momentum\u001b[38;5;241m=\u001b[39m\u001b[38;5;241m0.9\u001b[39m, nesterov\u001b[38;5;241m=\u001b[39m\u001b[38;5;28;01mTrue\u001b[39;00m)\n\u001b[0;32m      4\u001b[0m checkpoint \u001b[38;5;241m=\u001b[39m keras\u001b[38;5;241m.\u001b[39mcallbacks\u001b[38;5;241m.\u001b[39mModelCheckpoint(\u001b[38;5;124m'\u001b[39m\u001b[38;5;124m./models/best_weights.h5\u001b[39m\u001b[38;5;124m'\u001b[39m, monitor\u001b[38;5;241m=\u001b[39m\u001b[38;5;124m'\u001b[39m\u001b[38;5;124mval_dense_4_loss\u001b[39m\u001b[38;5;124m'\u001b[39m, save_best_only\u001b[38;5;241m=\u001b[39m\u001b[38;5;28;01mTrue\u001b[39;00m,                                            verbose\u001b[38;5;241m=\u001b[39m\u001b[38;5;241m1\u001b[39m,mode\u001b[38;5;241m=\u001b[39m\u001b[38;5;124m'\u001b[39m\u001b[38;5;124mmin\u001b[39m\u001b[38;5;124m'\u001b[39m)\n",
      "Input \u001b[1;32mIn [40]\u001b[0m, in \u001b[0;36mbuild_model_LSTM\u001b[1;34m()\u001b[0m\n\u001b[0;32m      5\u001b[0m x \u001b[38;5;241m=\u001b[39m LSTM(\u001b[38;5;241m4\u001b[39m,return_sequences\u001b[38;5;241m=\u001b[39m\u001b[38;5;28;01mFalse\u001b[39;00m)(x)\n\u001b[0;32m      6\u001b[0m output_dep \u001b[38;5;241m=\u001b[39m Dense(\u001b[38;5;241m1\u001b[39m, activation\u001b[38;5;241m=\u001b[39m\u001b[38;5;124m'\u001b[39m\u001b[38;5;124msigmoid\u001b[39m\u001b[38;5;124m'\u001b[39m)(x)\n\u001b[1;32m----> 7\u001b[0m model \u001b[38;5;241m=\u001b[39m \u001b[43mModel\u001b[49m\u001b[43m(\u001b[49m\u001b[38;5;28;43minput\u001b[39;49m\u001b[38;5;241;43m=\u001b[39;49m\u001b[43m[\u001b[49m\u001b[43minputs\u001b[49m\u001b[43m]\u001b[49m\u001b[43m,\u001b[49m\u001b[43m \u001b[49m\u001b[43moutput\u001b[49m\u001b[38;5;241;43m=\u001b[39;49m\u001b[43m[\u001b[49m\u001b[43moutput_dep\u001b[49m\u001b[43m]\u001b[49m\u001b[43m)\u001b[49m\n\u001b[0;32m      8\u001b[0m model\u001b[38;5;241m.\u001b[39msummary()\n\u001b[0;32m      9\u001b[0m \u001b[38;5;28;01mreturn\u001b[39;00m model\n",
      "File \u001b[1;32m~\\AppData\\Roaming\\Python\\Python310\\site-packages\\tensorflow\\python\\trackable\\base.py:205\u001b[0m, in \u001b[0;36mno_automatic_dependency_tracking.<locals>._method_wrapper\u001b[1;34m(self, *args, **kwargs)\u001b[0m\n\u001b[0;32m    203\u001b[0m \u001b[38;5;28mself\u001b[39m\u001b[38;5;241m.\u001b[39m_self_setattr_tracking \u001b[38;5;241m=\u001b[39m \u001b[38;5;28;01mFalse\u001b[39;00m  \u001b[38;5;66;03m# pylint: disable=protected-access\u001b[39;00m\n\u001b[0;32m    204\u001b[0m \u001b[38;5;28;01mtry\u001b[39;00m:\n\u001b[1;32m--> 205\u001b[0m   result \u001b[38;5;241m=\u001b[39m method(\u001b[38;5;28mself\u001b[39m, \u001b[38;5;241m*\u001b[39margs, \u001b[38;5;241m*\u001b[39m\u001b[38;5;241m*\u001b[39mkwargs)\n\u001b[0;32m    206\u001b[0m \u001b[38;5;28;01mfinally\u001b[39;00m:\n\u001b[0;32m    207\u001b[0m   \u001b[38;5;28mself\u001b[39m\u001b[38;5;241m.\u001b[39m_self_setattr_tracking \u001b[38;5;241m=\u001b[39m previous_value  \u001b[38;5;66;03m# pylint: disable=protected-access\u001b[39;00m\n",
      "File \u001b[1;32m~\\AppData\\Roaming\\Python\\Python310\\site-packages\\keras\\utils\\traceback_utils.py:70\u001b[0m, in \u001b[0;36mfilter_traceback.<locals>.error_handler\u001b[1;34m(*args, **kwargs)\u001b[0m\n\u001b[0;32m     67\u001b[0m     filtered_tb \u001b[38;5;241m=\u001b[39m _process_traceback_frames(e\u001b[38;5;241m.\u001b[39m__traceback__)\n\u001b[0;32m     68\u001b[0m     \u001b[38;5;66;03m# To get the full stack trace, call:\u001b[39;00m\n\u001b[0;32m     69\u001b[0m     \u001b[38;5;66;03m# `tf.debugging.disable_traceback_filtering()`\u001b[39;00m\n\u001b[1;32m---> 70\u001b[0m     \u001b[38;5;28;01mraise\u001b[39;00m e\u001b[38;5;241m.\u001b[39mwith_traceback(filtered_tb) \u001b[38;5;28;01mfrom\u001b[39;00m \u001b[38;5;28mNone\u001b[39m\n\u001b[0;32m     71\u001b[0m \u001b[38;5;28;01mfinally\u001b[39;00m:\n\u001b[0;32m     72\u001b[0m     \u001b[38;5;28;01mdel\u001b[39;00m filtered_tb\n",
      "File \u001b[1;32m~\\AppData\\Roaming\\Python\\Python310\\site-packages\\keras\\utils\\generic_utils.py:1269\u001b[0m, in \u001b[0;36mvalidate_kwargs\u001b[1;34m(kwargs, allowed_kwargs, error_message)\u001b[0m\n\u001b[0;32m   1267\u001b[0m \u001b[38;5;28;01mfor\u001b[39;00m kwarg \u001b[38;5;129;01min\u001b[39;00m kwargs:\n\u001b[0;32m   1268\u001b[0m     \u001b[38;5;28;01mif\u001b[39;00m kwarg \u001b[38;5;129;01mnot\u001b[39;00m \u001b[38;5;129;01min\u001b[39;00m allowed_kwargs:\n\u001b[1;32m-> 1269\u001b[0m         \u001b[38;5;28;01mraise\u001b[39;00m \u001b[38;5;167;01mTypeError\u001b[39;00m(error_message, kwarg)\n",
      "\u001b[1;31mTypeError\u001b[0m: ('Keyword argument not understood:', 'input')"
     ]
    }
   ],
   "source": [
    "model1 = build_model_LSTM()\n",
    "\n",
    "sgd = keras.optimizers.SGD(lr=0.01, decay=1e-6, momentum=0.9, nesterov=True)\n",
    "checkpoint = keras.callbacks.ModelCheckpoint('./models/best_weights.h5', monitor='val_dense_4_loss', save_best_only=True,                                            verbose=1,mode='min')\n",
    "early_stopping=keras.callbacks.EarlyStopping(monitor='val_dense_4_loss', patience=20, verbose=1, mode='min')\n",
    "model.compile(\n",
    "    optimizer=sgd,\n",
    "    loss='binary_crossentropy', #similar to tf sigmoid_cross_entropy_with_logits\n",
    "    metrics=['acc']\n",
    ")"
   ]
  },
  {
   "cell_type": "code",
   "execution_count": 28,
   "id": "dceace7e",
   "metadata": {},
   "outputs": [
    {
     "ename": "ValueError",
     "evalue": "Input 0 of layer \"lstm_3\" is incompatible with the layer: expected ndim=3, found ndim=4. Full shape received: (None, 62, 128, 62)",
     "output_type": "error",
     "traceback": [
      "\u001b[1;31m---------------------------------------------------------------------------\u001b[0m",
      "\u001b[1;31mValueError\u001b[0m                                Traceback (most recent call last)",
      "Input \u001b[1;32mIn [28]\u001b[0m, in \u001b[0;36m<cell line: 7>\u001b[1;34m()\u001b[0m\n\u001b[0;32m      4\u001b[0m model \u001b[38;5;241m=\u001b[39m Sequential()\n\u001b[0;32m      5\u001b[0m \u001b[38;5;66;03m#model.add(Embedding(max_fatures, embed_dim,input_length = X.shape[1]))\u001b[39;00m\n\u001b[0;32m      6\u001b[0m \u001b[38;5;66;03m#model.add(SpatialDropout1D(0.4))\u001b[39;00m\n\u001b[1;32m----> 7\u001b[0m model\u001b[38;5;241m.\u001b[39madd(\u001b[43mmodel\u001b[49m\u001b[38;5;241;43m.\u001b[39;49m\u001b[43madd\u001b[49m\u001b[43m(\u001b[49m\u001b[43mLSTM\u001b[49m\u001b[43m(\u001b[49m\u001b[38;5;241;43m64\u001b[39;49m\u001b[43m,\u001b[49m\u001b[43m \u001b[49m\u001b[43mactivation\u001b[49m\u001b[38;5;241;43m=\u001b[39;49m\u001b[38;5;124;43m'\u001b[39;49m\u001b[38;5;124;43mrelu\u001b[39;49m\u001b[38;5;124;43m'\u001b[39;49m\u001b[43m,\u001b[49m\u001b[43m \u001b[49m\u001b[43minput_shape\u001b[49m\u001b[38;5;241;43m=\u001b[39;49m\u001b[43m(\u001b[49m\u001b[38;5;241;43m62\u001b[39;49m\u001b[43m,\u001b[49m\u001b[38;5;241;43m128\u001b[39;49m\u001b[43m,\u001b[49m\u001b[43m \u001b[49m\u001b[43mX_train\u001b[49m\u001b[38;5;241;43m.\u001b[39;49m\u001b[43mshape\u001b[49m\u001b[43m[\u001b[49m\u001b[38;5;241;43m1\u001b[39;49m\u001b[43m]\u001b[49m\u001b[43m)\u001b[49m\u001b[43m,\u001b[49m\u001b[43m \u001b[49m\u001b[43mreturn_sequences\u001b[49m\u001b[38;5;241;43m=\u001b[39;49m\u001b[38;5;28;43;01mTrue\u001b[39;49;00m\u001b[43m)\u001b[49m\u001b[43m)\u001b[49m)\n\u001b[0;32m      8\u001b[0m model\u001b[38;5;241m.\u001b[39madd(Dense(\u001b[38;5;241m2\u001b[39m,activation\u001b[38;5;241m=\u001b[39m\u001b[38;5;124m'\u001b[39m\u001b[38;5;124msoftmax\u001b[39m\u001b[38;5;124m'\u001b[39m))\n\u001b[0;32m      9\u001b[0m model\u001b[38;5;241m.\u001b[39mcompile(loss \u001b[38;5;241m=\u001b[39m \u001b[38;5;124m'\u001b[39m\u001b[38;5;124mcategorical_crossentropy\u001b[39m\u001b[38;5;124m'\u001b[39m, optimizer\u001b[38;5;241m=\u001b[39m\u001b[38;5;124m'\u001b[39m\u001b[38;5;124madam\u001b[39m\u001b[38;5;124m'\u001b[39m,metrics \u001b[38;5;241m=\u001b[39m [\u001b[38;5;124m'\u001b[39m\u001b[38;5;124maccuracy\u001b[39m\u001b[38;5;124m'\u001b[39m])\n",
      "File \u001b[1;32m~\\AppData\\Roaming\\Python\\Python310\\site-packages\\tensorflow\\python\\trackable\\base.py:205\u001b[0m, in \u001b[0;36mno_automatic_dependency_tracking.<locals>._method_wrapper\u001b[1;34m(self, *args, **kwargs)\u001b[0m\n\u001b[0;32m    203\u001b[0m \u001b[38;5;28mself\u001b[39m\u001b[38;5;241m.\u001b[39m_self_setattr_tracking \u001b[38;5;241m=\u001b[39m \u001b[38;5;28;01mFalse\u001b[39;00m  \u001b[38;5;66;03m# pylint: disable=protected-access\u001b[39;00m\n\u001b[0;32m    204\u001b[0m \u001b[38;5;28;01mtry\u001b[39;00m:\n\u001b[1;32m--> 205\u001b[0m   result \u001b[38;5;241m=\u001b[39m method(\u001b[38;5;28mself\u001b[39m, \u001b[38;5;241m*\u001b[39margs, \u001b[38;5;241m*\u001b[39m\u001b[38;5;241m*\u001b[39mkwargs)\n\u001b[0;32m    206\u001b[0m \u001b[38;5;28;01mfinally\u001b[39;00m:\n\u001b[0;32m    207\u001b[0m   \u001b[38;5;28mself\u001b[39m\u001b[38;5;241m.\u001b[39m_self_setattr_tracking \u001b[38;5;241m=\u001b[39m previous_value  \u001b[38;5;66;03m# pylint: disable=protected-access\u001b[39;00m\n",
      "File \u001b[1;32m~\\AppData\\Roaming\\Python\\Python310\\site-packages\\keras\\utils\\traceback_utils.py:70\u001b[0m, in \u001b[0;36mfilter_traceback.<locals>.error_handler\u001b[1;34m(*args, **kwargs)\u001b[0m\n\u001b[0;32m     67\u001b[0m     filtered_tb \u001b[38;5;241m=\u001b[39m _process_traceback_frames(e\u001b[38;5;241m.\u001b[39m__traceback__)\n\u001b[0;32m     68\u001b[0m     \u001b[38;5;66;03m# To get the full stack trace, call:\u001b[39;00m\n\u001b[0;32m     69\u001b[0m     \u001b[38;5;66;03m# `tf.debugging.disable_traceback_filtering()`\u001b[39;00m\n\u001b[1;32m---> 70\u001b[0m     \u001b[38;5;28;01mraise\u001b[39;00m e\u001b[38;5;241m.\u001b[39mwith_traceback(filtered_tb) \u001b[38;5;28;01mfrom\u001b[39;00m \u001b[38;5;28mNone\u001b[39m\n\u001b[0;32m     71\u001b[0m \u001b[38;5;28;01mfinally\u001b[39;00m:\n\u001b[0;32m     72\u001b[0m     \u001b[38;5;28;01mdel\u001b[39;00m filtered_tb\n",
      "File \u001b[1;32m~\\AppData\\Roaming\\Python\\Python310\\site-packages\\keras\\engine\\input_spec.py:232\u001b[0m, in \u001b[0;36massert_input_compatibility\u001b[1;34m(input_spec, inputs, layer_name)\u001b[0m\n\u001b[0;32m    230\u001b[0m     ndim \u001b[38;5;241m=\u001b[39m shape\u001b[38;5;241m.\u001b[39mrank\n\u001b[0;32m    231\u001b[0m     \u001b[38;5;28;01mif\u001b[39;00m ndim \u001b[38;5;241m!=\u001b[39m spec\u001b[38;5;241m.\u001b[39mndim:\n\u001b[1;32m--> 232\u001b[0m         \u001b[38;5;28;01mraise\u001b[39;00m \u001b[38;5;167;01mValueError\u001b[39;00m(\n\u001b[0;32m    233\u001b[0m             \u001b[38;5;124mf\u001b[39m\u001b[38;5;124m'\u001b[39m\u001b[38;5;124mInput \u001b[39m\u001b[38;5;132;01m{\u001b[39;00minput_index\u001b[38;5;132;01m}\u001b[39;00m\u001b[38;5;124m of layer \u001b[39m\u001b[38;5;124m\"\u001b[39m\u001b[38;5;132;01m{\u001b[39;00mlayer_name\u001b[38;5;132;01m}\u001b[39;00m\u001b[38;5;124m\"\u001b[39m\u001b[38;5;124m \u001b[39m\u001b[38;5;124m'\u001b[39m\n\u001b[0;32m    234\u001b[0m             \u001b[38;5;124m\"\u001b[39m\u001b[38;5;124mis incompatible with the layer: \u001b[39m\u001b[38;5;124m\"\u001b[39m\n\u001b[0;32m    235\u001b[0m             \u001b[38;5;124mf\u001b[39m\u001b[38;5;124m\"\u001b[39m\u001b[38;5;124mexpected ndim=\u001b[39m\u001b[38;5;132;01m{\u001b[39;00mspec\u001b[38;5;241m.\u001b[39mndim\u001b[38;5;132;01m}\u001b[39;00m\u001b[38;5;124m, found ndim=\u001b[39m\u001b[38;5;132;01m{\u001b[39;00mndim\u001b[38;5;132;01m}\u001b[39;00m\u001b[38;5;124m. \u001b[39m\u001b[38;5;124m\"\u001b[39m\n\u001b[0;32m    236\u001b[0m             \u001b[38;5;124mf\u001b[39m\u001b[38;5;124m\"\u001b[39m\u001b[38;5;124mFull shape received: \u001b[39m\u001b[38;5;132;01m{\u001b[39;00m\u001b[38;5;28mtuple\u001b[39m(shape)\u001b[38;5;132;01m}\u001b[39;00m\u001b[38;5;124m\"\u001b[39m\n\u001b[0;32m    237\u001b[0m         )\n\u001b[0;32m    238\u001b[0m \u001b[38;5;28;01mif\u001b[39;00m spec\u001b[38;5;241m.\u001b[39mmax_ndim \u001b[38;5;129;01mis\u001b[39;00m \u001b[38;5;129;01mnot\u001b[39;00m \u001b[38;5;28;01mNone\u001b[39;00m:\n\u001b[0;32m    239\u001b[0m     ndim \u001b[38;5;241m=\u001b[39m x\u001b[38;5;241m.\u001b[39mshape\u001b[38;5;241m.\u001b[39mrank\n",
      "\u001b[1;31mValueError\u001b[0m: Input 0 of layer \"lstm_3\" is incompatible with the layer: expected ndim=3, found ndim=4. Full shape received: (None, 62, 128, 62)"
     ]
    }
   ],
   "source": [
    "embed_dim = 128\n",
    "lstm_out = 196\n",
    "\n",
    "model = Sequential()\n",
    "#model.add(Embedding(max_fatures, embed_dim,input_length = X.shape[1]))\n",
    "#model.add(SpatialDropout1D(0.4))\n",
    "model.add(model.add(LSTM(64, activation='relu', input_shape=(62,128, X_train.shape[1]), return_sequences=True)))\n",
    "model.add(Dense(2,activation='softmax'))\n",
    "model.compile(loss = 'categorical_crossentropy', optimizer='adam',metrics = ['accuracy'])\n",
    "print(model.summary())"
   ]
  },
  {
   "cell_type": "code",
   "execution_count": 18,
   "id": "56fab728",
   "metadata": {},
   "outputs": [
    {
     "data": {
      "text/html": [
       "<div>\n",
       "<style scoped>\n",
       "    .dataframe tbody tr th:only-of-type {\n",
       "        vertical-align: middle;\n",
       "    }\n",
       "\n",
       "    .dataframe tbody tr th {\n",
       "        vertical-align: top;\n",
       "    }\n",
       "\n",
       "    .dataframe thead th {\n",
       "        text-align: right;\n",
       "    }\n",
       "</style>\n",
       "<table border=\"1\" class=\"dataframe\">\n",
       "  <thead>\n",
       "    <tr style=\"text-align: right;\">\n",
       "      <th></th>\n",
       "      <th>Tweet</th>\n",
       "      <th>sentiment</th>\n",
       "      <th>Date</th>\n",
       "      <th>depression_Intensity</th>\n",
       "      <th>text</th>\n",
       "      <th>text_clean</th>\n",
       "      <th>text_clean_tokens</th>\n",
       "      <th>0</th>\n",
       "      <th>1</th>\n",
       "      <th>2</th>\n",
       "      <th>...</th>\n",
       "      <th>T16</th>\n",
       "      <th>T17</th>\n",
       "      <th>T18</th>\n",
       "      <th>T19</th>\n",
       "      <th>T20</th>\n",
       "      <th>T21</th>\n",
       "      <th>T22</th>\n",
       "      <th>T23</th>\n",
       "      <th>T24</th>\n",
       "      <th>T25</th>\n",
       "    </tr>\n",
       "  </thead>\n",
       "  <tbody>\n",
       "    <tr>\n",
       "      <th>0</th>\n",
       "      <td>this is about how festive i feel right now</td>\n",
       "      <td>Depressed</td>\n",
       "      <td>2022-12-23 17:39:14+00:00</td>\n",
       "      <td>0.558321</td>\n",
       "      <td>This about festive feel right</td>\n",
       "      <td>festive feel right</td>\n",
       "      <td>['f', 'e', 's', 't', 'i', 'v', 'e', ' ', 'f', ...</td>\n",
       "      <td>5</td>\n",
       "      <td>15</td>\n",
       "      <td>2267</td>\n",
       "      <td>...</td>\n",
       "      <td>0.010000</td>\n",
       "      <td>0.010000</td>\n",
       "      <td>0.010000</td>\n",
       "      <td>0.010000</td>\n",
       "      <td>0.010000</td>\n",
       "      <td>0.010000</td>\n",
       "      <td>0.260000</td>\n",
       "      <td>0.010000</td>\n",
       "      <td>0.010000</td>\n",
       "      <td>0.510000</td>\n",
       "    </tr>\n",
       "    <tr>\n",
       "      <th>1</th>\n",
       "      <td>how can we deliver order without getting on ...</td>\n",
       "      <td>Depressed</td>\n",
       "      <td>2022-12-23 17:05:55+00:00</td>\n",
       "      <td>0.506055</td>\n",
       "      <td>deliver order without getting</td>\n",
       "      <td>deliver order without getting</td>\n",
       "      <td>['d', 'e', 'l', 'i', 'v', 'e', 'r', ' ', 'o', ...</td>\n",
       "      <td>2268</td>\n",
       "      <td>722</td>\n",
       "      <td>266</td>\n",
       "      <td>...</td>\n",
       "      <td>0.008000</td>\n",
       "      <td>0.008000</td>\n",
       "      <td>0.008000</td>\n",
       "      <td>0.008000</td>\n",
       "      <td>0.008000</td>\n",
       "      <td>0.008000</td>\n",
       "      <td>0.008000</td>\n",
       "      <td>0.008000</td>\n",
       "      <td>0.008000</td>\n",
       "      <td>0.259919</td>\n",
       "    </tr>\n",
       "    <tr>\n",
       "      <th>2</th>\n",
       "      <td>not all  are the same and it is important to u...</td>\n",
       "      <td>Depressed</td>\n",
       "      <td>2022-12-23 16:34:07+00:00</td>\n",
       "      <td>0.506055</td>\n",
       "      <td>same important understand before agree medicat...</td>\n",
       "      <td>important understand agree medications someone...</td>\n",
       "      <td>['i', 'm', 'p', 'o', 'r', 't', 'a', 'n', 't', ...</td>\n",
       "      <td>141</td>\n",
       "      <td>296</td>\n",
       "      <td>327</td>\n",
       "      <td>...</td>\n",
       "      <td>0.003636</td>\n",
       "      <td>0.003636</td>\n",
       "      <td>0.003636</td>\n",
       "      <td>0.003636</td>\n",
       "      <td>0.003636</td>\n",
       "      <td>0.003636</td>\n",
       "      <td>0.003636</td>\n",
       "      <td>0.003636</td>\n",
       "      <td>0.003636</td>\n",
       "      <td>0.912727</td>\n",
       "    </tr>\n",
       "    <tr>\n",
       "      <th>3</th>\n",
       "      <td>Ã£ÂÃ¢ÂÃ£ÂÃ¢Â¿sientes que estÃ£ÂÃ¢ÂÃ£ÂÃ¢Â...</td>\n",
       "      <td>Depressed</td>\n",
       "      <td>2022-12-23 16:08:03+00:00</td>\n",
       "      <td>0.506055</td>\n",
       "      <td>Sientes cayendo oscuridad Manga Oyasumi Punpun...</td>\n",
       "      <td>sientes cayendo oscuridad manga oyasumi punpun...</td>\n",
       "      <td>['s', 'i', 'e', 'n', 't', 'e', 's', ' ', 'c', ...</td>\n",
       "      <td>11261</td>\n",
       "      <td>20462</td>\n",
       "      <td>20463</td>\n",
       "      <td>...</td>\n",
       "      <td>0.006667</td>\n",
       "      <td>0.006667</td>\n",
       "      <td>0.006667</td>\n",
       "      <td>0.006667</td>\n",
       "      <td>0.006667</td>\n",
       "      <td>0.006667</td>\n",
       "      <td>0.006667</td>\n",
       "      <td>0.006667</td>\n",
       "      <td>0.006667</td>\n",
       "      <td>0.006667</td>\n",
       "    </tr>\n",
       "    <tr>\n",
       "      <th>4</th>\n",
       "      <td>i am depressed, heartbroken the one who is don...</td>\n",
       "      <td>Depressed</td>\n",
       "      <td>2022-12-23 14:57:10+00:00</td>\n",
       "      <td>0.588954</td>\n",
       "      <td>depressed heartbroken done with this world peo...</td>\n",
       "      <td>depressed heartbroken done world people thinks...</td>\n",
       "      <td>['d', 'e', 'p', 'r', 'e', 's', 's', 'e', 'd', ...</td>\n",
       "      <td>478</td>\n",
       "      <td>8239</td>\n",
       "      <td>119</td>\n",
       "      <td>...</td>\n",
       "      <td>0.003333</td>\n",
       "      <td>0.003333</td>\n",
       "      <td>0.003333</td>\n",
       "      <td>0.003333</td>\n",
       "      <td>0.003333</td>\n",
       "      <td>0.101737</td>\n",
       "      <td>0.003333</td>\n",
       "      <td>0.003333</td>\n",
       "      <td>0.003333</td>\n",
       "      <td>0.224738</td>\n",
       "    </tr>\n",
       "    <tr>\n",
       "      <th>...</th>\n",
       "      <td>...</td>\n",
       "      <td>...</td>\n",
       "      <td>...</td>\n",
       "      <td>...</td>\n",
       "      <td>...</td>\n",
       "      <td>...</td>\n",
       "      <td>...</td>\n",
       "      <td>...</td>\n",
       "      <td>...</td>\n",
       "      <td>...</td>\n",
       "      <td>...</td>\n",
       "      <td>...</td>\n",
       "      <td>...</td>\n",
       "      <td>...</td>\n",
       "      <td>...</td>\n",
       "      <td>...</td>\n",
       "      <td>...</td>\n",
       "      <td>...</td>\n",
       "      <td>...</td>\n",
       "      <td>...</td>\n",
       "      <td>...</td>\n",
       "    </tr>\n",
       "    <tr>\n",
       "      <th>84598</th>\n",
       "      <td>slow day. @work. lots op people have the day o...</td>\n",
       "      <td>Non-Depressive</td>\n",
       "      <td>Fri May 22 02:19:22 PDT 2009</td>\n",
       "      <td>0.344886</td>\n",
       "      <td>Slow Lots people have nooo Gotta defend fortre...</td>\n",
       "      <td>slow lots people nooo gotta defend fortress</td>\n",
       "      <td>['s', 'l', 'o', 'w', ' ', 'l', 'o', 't', 's', ...</td>\n",
       "      <td>1001</td>\n",
       "      <td>348</td>\n",
       "      <td>25</td>\n",
       "      <td>...</td>\n",
       "      <td>0.003636</td>\n",
       "      <td>0.003636</td>\n",
       "      <td>0.094545</td>\n",
       "      <td>0.003636</td>\n",
       "      <td>0.003636</td>\n",
       "      <td>0.276364</td>\n",
       "      <td>0.003636</td>\n",
       "      <td>0.094545</td>\n",
       "      <td>0.094545</td>\n",
       "      <td>0.003636</td>\n",
       "    </tr>\n",
       "    <tr>\n",
       "      <th>84599</th>\n",
       "      <td>@durian_girl here's a song to celebrate the ar...</td>\n",
       "      <td>Non-Depressive</td>\n",
       "      <td>Sun May 31 03:24:02 PDT 2009</td>\n",
       "      <td>0.444724</td>\n",
       "      <td>Here song celebrate arrival loveliest sweetest...</td>\n",
       "      <td>song celebrate arrival loveliest sweetest baby...</td>\n",
       "      <td>['s', 'o', 'n', 'g', ' ', 'c', 'e', 'l', 'e', ...</td>\n",
       "      <td>26</td>\n",
       "      <td>144</td>\n",
       "      <td>1077</td>\n",
       "      <td>...</td>\n",
       "      <td>0.005000</td>\n",
       "      <td>0.005000</td>\n",
       "      <td>0.005000</td>\n",
       "      <td>0.005000</td>\n",
       "      <td>0.005000</td>\n",
       "      <td>0.005000</td>\n",
       "      <td>0.005000</td>\n",
       "      <td>0.130000</td>\n",
       "      <td>0.005000</td>\n",
       "      <td>0.005000</td>\n",
       "    </tr>\n",
       "    <tr>\n",
       "      <th>84600</th>\n",
       "      <td>from some strange mystical force i got my suit...</td>\n",
       "      <td>Non-Depressive</td>\n",
       "      <td>Sat May 30 20:49:03 PDT 2009</td>\n",
       "      <td>0.313655</td>\n",
       "      <td>From some strange mystical force suitcase shov...</td>\n",
       "      <td>strange mystical force suitcase shoved zipped</td>\n",
       "      <td>['s', 't', 'r', 'a', 'n', 'g', 'e', ' ', 'm', ...</td>\n",
       "      <td>10</td>\n",
       "      <td>21</td>\n",
       "      <td>1302</td>\n",
       "      <td>...</td>\n",
       "      <td>0.013333</td>\n",
       "      <td>0.013333</td>\n",
       "      <td>0.013333</td>\n",
       "      <td>0.013333</td>\n",
       "      <td>0.013333</td>\n",
       "      <td>0.013333</td>\n",
       "      <td>0.013333</td>\n",
       "      <td>0.013333</td>\n",
       "      <td>0.013333</td>\n",
       "      <td>0.013333</td>\n",
       "    </tr>\n",
       "    <tr>\n",
       "      <th>84601</th>\n",
       "      <td>skyy vodka-raspberry mixed w/ sprite......my d...</td>\n",
       "      <td>Non-Depressive</td>\n",
       "      <td>Sat May 16 20:29:04 PDT 2009</td>\n",
       "      <td>0.344886</td>\n",
       "      <td>skyy vodka raspberry mixed sprite drink choice...</td>\n",
       "      <td>skyy vodka raspberry mixed sprite drink choice...</td>\n",
       "      <td>['s', 'k', 'y', 'y', ' ', 'v', 'o', 'd', 'k', ...</td>\n",
       "      <td>51825</td>\n",
       "      <td>3007</td>\n",
       "      <td>5536</td>\n",
       "      <td>...</td>\n",
       "      <td>0.006667</td>\n",
       "      <td>0.006667</td>\n",
       "      <td>0.006667</td>\n",
       "      <td>0.173333</td>\n",
       "      <td>0.006667</td>\n",
       "      <td>0.006667</td>\n",
       "      <td>0.006667</td>\n",
       "      <td>0.006667</td>\n",
       "      <td>0.006667</td>\n",
       "      <td>0.006667</td>\n",
       "    </tr>\n",
       "    <tr>\n",
       "      <th>84602</th>\n",
       "      <td>@diancatt te regalo mis 30 free tracks</td>\n",
       "      <td>Non-Depressive</td>\n",
       "      <td>Sun Jun 14 23:32:11 PDT 2009</td>\n",
       "      <td>0.423713</td>\n",
       "      <td>regalo free tracks</td>\n",
       "      <td>regalo free tracks</td>\n",
       "      <td>['r', 'e', 'g', 'a', 'l', 'o', ' ', 'f', 'r', ...</td>\n",
       "      <td>11692</td>\n",
       "      <td>72</td>\n",
       "      <td>2930</td>\n",
       "      <td>...</td>\n",
       "      <td>0.008000</td>\n",
       "      <td>0.008000</td>\n",
       "      <td>0.008000</td>\n",
       "      <td>0.008000</td>\n",
       "      <td>0.008000</td>\n",
       "      <td>0.008000</td>\n",
       "      <td>0.008000</td>\n",
       "      <td>0.008000</td>\n",
       "      <td>0.208000</td>\n",
       "      <td>0.008000</td>\n",
       "    </tr>\n",
       "  </tbody>\n",
       "</table>\n",
       "<p>84603 rows × 69 columns</p>\n",
       "</div>"
      ],
      "text/plain": [
       "                                                   Tweet       sentiment  \\\n",
       "0         this is about how festive i feel right now           Depressed   \n",
       "1        how can we deliver order without getting on ...       Depressed   \n",
       "2      not all  are the same and it is important to u...       Depressed   \n",
       "3      Ã£ÂÃ¢ÂÃ£ÂÃ¢Â¿sientes que estÃ£ÂÃ¢ÂÃ£ÂÃ¢Â...       Depressed   \n",
       "4      i am depressed, heartbroken the one who is don...       Depressed   \n",
       "...                                                  ...             ...   \n",
       "84598  slow day. @work. lots op people have the day o...  Non-Depressive   \n",
       "84599  @durian_girl here's a song to celebrate the ar...  Non-Depressive   \n",
       "84600  from some strange mystical force i got my suit...  Non-Depressive   \n",
       "84601  skyy vodka-raspberry mixed w/ sprite......my d...  Non-Depressive   \n",
       "84602            @diancatt te regalo mis 30 free tracks   Non-Depressive   \n",
       "\n",
       "                               Date  depression_Intensity  \\\n",
       "0         2022-12-23 17:39:14+00:00              0.558321   \n",
       "1         2022-12-23 17:05:55+00:00              0.506055   \n",
       "2         2022-12-23 16:34:07+00:00              0.506055   \n",
       "3         2022-12-23 16:08:03+00:00              0.506055   \n",
       "4         2022-12-23 14:57:10+00:00              0.588954   \n",
       "...                             ...                   ...   \n",
       "84598  Fri May 22 02:19:22 PDT 2009              0.344886   \n",
       "84599  Sun May 31 03:24:02 PDT 2009              0.444724   \n",
       "84600  Sat May 30 20:49:03 PDT 2009              0.313655   \n",
       "84601  Sat May 16 20:29:04 PDT 2009              0.344886   \n",
       "84602  Sun Jun 14 23:32:11 PDT 2009              0.423713   \n",
       "\n",
       "                                                    text  \\\n",
       "0                          This about festive feel right   \n",
       "1                          deliver order without getting   \n",
       "2      same important understand before agree medicat...   \n",
       "3      Sientes cayendo oscuridad Manga Oyasumi Punpun...   \n",
       "4      depressed heartbroken done with this world peo...   \n",
       "...                                                  ...   \n",
       "84598  Slow Lots people have nooo Gotta defend fortre...   \n",
       "84599  Here song celebrate arrival loveliest sweetest...   \n",
       "84600  From some strange mystical force suitcase shov...   \n",
       "84601  skyy vodka raspberry mixed sprite drink choice...   \n",
       "84602                                 regalo free tracks   \n",
       "\n",
       "                                              text_clean  \\\n",
       "0                                     festive feel right   \n",
       "1                          deliver order without getting   \n",
       "2      important understand agree medications someone...   \n",
       "3      sientes cayendo oscuridad manga oyasumi punpun...   \n",
       "4      depressed heartbroken done world people thinks...   \n",
       "...                                                  ...   \n",
       "84598        slow lots people nooo gotta defend fortress   \n",
       "84599  song celebrate arrival loveliest sweetest baby...   \n",
       "84600      strange mystical force suitcase shoved zipped   \n",
       "84601  skyy vodka raspberry mixed sprite drink choice...   \n",
       "84602                                 regalo free tracks   \n",
       "\n",
       "                                       text_clean_tokens      0      1      2  \\\n",
       "0      ['f', 'e', 's', 't', 'i', 'v', 'e', ' ', 'f', ...      5     15   2267   \n",
       "1      ['d', 'e', 'l', 'i', 'v', 'e', 'r', ' ', 'o', ...   2268    722    266   \n",
       "2      ['i', 'm', 'p', 'o', 'r', 't', 'a', 'n', 't', ...    141    296    327   \n",
       "3      ['s', 'i', 'e', 'n', 't', 'e', 's', ' ', 'c', ...  11261  20462  20463   \n",
       "4      ['d', 'e', 'p', 'r', 'e', 's', 's', 'e', 'd', ...    478   8239    119   \n",
       "...                                                  ...    ...    ...    ...   \n",
       "84598  ['s', 'l', 'o', 'w', ' ', 'l', 'o', 't', 's', ...   1001    348     25   \n",
       "84599  ['s', 'o', 'n', 'g', ' ', 'c', 'e', 'l', 'e', ...     26    144   1077   \n",
       "84600  ['s', 't', 'r', 'a', 'n', 'g', 'e', ' ', 'm', ...     10     21   1302   \n",
       "84601  ['s', 'k', 'y', 'y', ' ', 'v', 'o', 'd', 'k', ...  51825   3007   5536   \n",
       "84602  ['r', 'e', 'g', 'a', 'l', 'o', ' ', 'f', 'r', ...  11692     72   2930   \n",
       "\n",
       "       ...       T16       T17       T18       T19       T20       T21  \\\n",
       "0      ...  0.010000  0.010000  0.010000  0.010000  0.010000  0.010000   \n",
       "1      ...  0.008000  0.008000  0.008000  0.008000  0.008000  0.008000   \n",
       "2      ...  0.003636  0.003636  0.003636  0.003636  0.003636  0.003636   \n",
       "3      ...  0.006667  0.006667  0.006667  0.006667  0.006667  0.006667   \n",
       "4      ...  0.003333  0.003333  0.003333  0.003333  0.003333  0.101737   \n",
       "...    ...       ...       ...       ...       ...       ...       ...   \n",
       "84598  ...  0.003636  0.003636  0.094545  0.003636  0.003636  0.276364   \n",
       "84599  ...  0.005000  0.005000  0.005000  0.005000  0.005000  0.005000   \n",
       "84600  ...  0.013333  0.013333  0.013333  0.013333  0.013333  0.013333   \n",
       "84601  ...  0.006667  0.006667  0.006667  0.173333  0.006667  0.006667   \n",
       "84602  ...  0.008000  0.008000  0.008000  0.008000  0.008000  0.008000   \n",
       "\n",
       "            T22       T23       T24       T25  \n",
       "0      0.260000  0.010000  0.010000  0.510000  \n",
       "1      0.008000  0.008000  0.008000  0.259919  \n",
       "2      0.003636  0.003636  0.003636  0.912727  \n",
       "3      0.006667  0.006667  0.006667  0.006667  \n",
       "4      0.003333  0.003333  0.003333  0.224738  \n",
       "...         ...       ...       ...       ...  \n",
       "84598  0.003636  0.094545  0.094545  0.003636  \n",
       "84599  0.005000  0.130000  0.005000  0.005000  \n",
       "84600  0.013333  0.013333  0.013333  0.013333  \n",
       "84601  0.006667  0.006667  0.006667  0.006667  \n",
       "84602  0.008000  0.008000  0.208000  0.008000  \n",
       "\n",
       "[84603 rows x 69 columns]"
      ]
     },
     "execution_count": 18,
     "metadata": {},
     "output_type": "execute_result"
    }
   ],
   "source": [
    "data"
   ]
  },
  {
   "cell_type": "code",
   "execution_count": 19,
   "id": "1d7c1295",
   "metadata": {},
   "outputs": [
    {
     "data": {
      "text/plain": [
       "27998    0\n",
       "53580    0\n",
       "7283     1\n",
       "1279     1\n",
       "66643    0\n",
       "66138    0\n",
       "3478     1\n",
       "39719    0\n",
       "34685    0\n",
       "70858    0\n",
       "19268    1\n",
       "53208    0\n",
       "15439    1\n",
       "76917    0\n",
       "1273     1\n",
       "Name: sentiment, dtype: int64"
      ]
     },
     "execution_count": 19,
     "metadata": {},
     "output_type": "execute_result"
    }
   ],
   "source": [
    "y_t=y1.apply(lambda x: 1 if x=='Depressed' else 0)\n",
    "y_t.sample(15)"
   ]
  },
  {
   "cell_type": "code",
   "execution_count": 20,
   "id": "c8bb0fe4",
   "metadata": {},
   "outputs": [],
   "source": [
    "Y = pd.get_dummies(y_t).values"
   ]
  },
  {
   "cell_type": "code",
   "execution_count": 23,
   "id": "35b2229c",
   "metadata": {},
   "outputs": [
    {
     "name": "stdout",
     "output_type": "stream",
     "text": [
      "Epoch 1/50\n"
     ]
    },
    {
     "ename": "InvalidArgumentError",
     "evalue": "Graph execution error:\n\nDetected at node 'sequential/embedding/embedding_lookup' defined at (most recent call last):\n    File \"C:\\Program Files\\Python310\\lib\\runpy.py\", line 196, in _run_module_as_main\n      return _run_code(code, main_globals, None,\n    File \"C:\\Program Files\\Python310\\lib\\runpy.py\", line 86, in _run_code\n      exec(code, run_globals)\n    File \"C:\\Users\\HP\\AppData\\Roaming\\Python\\Python310\\site-packages\\ipykernel_launcher.py\", line 17, in <module>\n      app.launch_new_instance()\n    File \"C:\\Users\\HP\\AppData\\Roaming\\Python\\Python310\\site-packages\\traitlets\\config\\application.py\", line 846, in launch_instance\n      app.start()\n    File \"C:\\Users\\HP\\AppData\\Roaming\\Python\\Python310\\site-packages\\ipykernel\\kernelapp.py\", line 712, in start\n      self.io_loop.start()\n    File \"C:\\Users\\HP\\AppData\\Roaming\\Python\\Python310\\site-packages\\tornado\\platform\\asyncio.py\", line 199, in start\n      self.asyncio_loop.run_forever()\n    File \"C:\\Program Files\\Python310\\lib\\asyncio\\base_events.py\", line 595, in run_forever\n      self._run_once()\n    File \"C:\\Program Files\\Python310\\lib\\asyncio\\base_events.py\", line 1881, in _run_once\n      handle._run()\n    File \"C:\\Program Files\\Python310\\lib\\asyncio\\events.py\", line 80, in _run\n      self._context.run(self._callback, *self._args)\n    File \"C:\\Users\\HP\\AppData\\Roaming\\Python\\Python310\\site-packages\\ipykernel\\kernelbase.py\", line 504, in dispatch_queue\n      await self.process_one()\n    File \"C:\\Users\\HP\\AppData\\Roaming\\Python\\Python310\\site-packages\\ipykernel\\kernelbase.py\", line 493, in process_one\n      await dispatch(*args)\n    File \"C:\\Users\\HP\\AppData\\Roaming\\Python\\Python310\\site-packages\\ipykernel\\kernelbase.py\", line 400, in dispatch_shell\n      await result\n    File \"C:\\Users\\HP\\AppData\\Roaming\\Python\\Python310\\site-packages\\ipykernel\\kernelbase.py\", line 724, in execute_request\n      reply_content = await reply_content\n    File \"C:\\Users\\HP\\AppData\\Roaming\\Python\\Python310\\site-packages\\ipykernel\\ipkernel.py\", line 390, in do_execute\n      res = shell.run_cell(code, store_history=store_history, silent=silent)\n    File \"C:\\Users\\HP\\AppData\\Roaming\\Python\\Python310\\site-packages\\ipykernel\\zmqshell.py\", line 528, in run_cell\n      return super().run_cell(*args, **kwargs)\n    File \"C:\\Users\\HP\\AppData\\Roaming\\Python\\Python310\\site-packages\\IPython\\core\\interactiveshell.py\", line 2863, in run_cell\n      result = self._run_cell(\n    File \"C:\\Users\\HP\\AppData\\Roaming\\Python\\Python310\\site-packages\\IPython\\core\\interactiveshell.py\", line 2909, in _run_cell\n      return runner(coro)\n    File \"C:\\Users\\HP\\AppData\\Roaming\\Python\\Python310\\site-packages\\IPython\\core\\async_helpers.py\", line 129, in _pseudo_sync_runner\n      coro.send(None)\n    File \"C:\\Users\\HP\\AppData\\Roaming\\Python\\Python310\\site-packages\\IPython\\core\\interactiveshell.py\", line 3106, in run_cell_async\n      has_raised = await self.run_ast_nodes(code_ast.body, cell_name,\n    File \"C:\\Users\\HP\\AppData\\Roaming\\Python\\Python310\\site-packages\\IPython\\core\\interactiveshell.py\", line 3309, in run_ast_nodes\n      if await self.run_code(code, result, async_=asy):\n    File \"C:\\Users\\HP\\AppData\\Roaming\\Python\\Python310\\site-packages\\IPython\\core\\interactiveshell.py\", line 3369, in run_code\n      exec(code_obj, self.user_global_ns, self.user_ns)\n    File \"C:\\Users\\HP\\AppData\\Local\\Temp\\ipykernel_4116\\2476775037.py\", line 2, in <cell line: 2>\n      model.fit(X_train, Y_train, epochs = 50, batch_size=batch_size, verbose = 1)\n    File \"C:\\Users\\HP\\AppData\\Roaming\\Python\\Python310\\site-packages\\keras\\utils\\traceback_utils.py\", line 65, in error_handler\n      return fn(*args, **kwargs)\n    File \"C:\\Users\\HP\\AppData\\Roaming\\Python\\Python310\\site-packages\\keras\\engine\\training.py\", line 1564, in fit\n      tmp_logs = self.train_function(iterator)\n    File \"C:\\Users\\HP\\AppData\\Roaming\\Python\\Python310\\site-packages\\keras\\engine\\training.py\", line 1160, in train_function\n      return step_function(self, iterator)\n    File \"C:\\Users\\HP\\AppData\\Roaming\\Python\\Python310\\site-packages\\keras\\engine\\training.py\", line 1146, in step_function\n      outputs = model.distribute_strategy.run(run_step, args=(data,))\n    File \"C:\\Users\\HP\\AppData\\Roaming\\Python\\Python310\\site-packages\\keras\\engine\\training.py\", line 1135, in run_step\n      outputs = model.train_step(data)\n    File \"C:\\Users\\HP\\AppData\\Roaming\\Python\\Python310\\site-packages\\keras\\engine\\training.py\", line 993, in train_step\n      y_pred = self(x, training=True)\n    File \"C:\\Users\\HP\\AppData\\Roaming\\Python\\Python310\\site-packages\\keras\\utils\\traceback_utils.py\", line 65, in error_handler\n      return fn(*args, **kwargs)\n    File \"C:\\Users\\HP\\AppData\\Roaming\\Python\\Python310\\site-packages\\keras\\engine\\training.py\", line 557, in __call__\n      return super().__call__(*args, **kwargs)\n    File \"C:\\Users\\HP\\AppData\\Roaming\\Python\\Python310\\site-packages\\keras\\utils\\traceback_utils.py\", line 65, in error_handler\n      return fn(*args, **kwargs)\n    File \"C:\\Users\\HP\\AppData\\Roaming\\Python\\Python310\\site-packages\\keras\\engine\\base_layer.py\", line 1097, in __call__\n      outputs = call_fn(inputs, *args, **kwargs)\n    File \"C:\\Users\\HP\\AppData\\Roaming\\Python\\Python310\\site-packages\\keras\\utils\\traceback_utils.py\", line 96, in error_handler\n      return fn(*args, **kwargs)\n    File \"C:\\Users\\HP\\AppData\\Roaming\\Python\\Python310\\site-packages\\keras\\engine\\sequential.py\", line 410, in call\n      return super().call(inputs, training=training, mask=mask)\n    File \"C:\\Users\\HP\\AppData\\Roaming\\Python\\Python310\\site-packages\\keras\\engine\\functional.py\", line 510, in call\n      return self._run_internal_graph(inputs, training=training, mask=mask)\n    File \"C:\\Users\\HP\\AppData\\Roaming\\Python\\Python310\\site-packages\\keras\\engine\\functional.py\", line 667, in _run_internal_graph\n      outputs = node.layer(*args, **kwargs)\n    File \"C:\\Users\\HP\\AppData\\Roaming\\Python\\Python310\\site-packages\\keras\\utils\\traceback_utils.py\", line 65, in error_handler\n      return fn(*args, **kwargs)\n    File \"C:\\Users\\HP\\AppData\\Roaming\\Python\\Python310\\site-packages\\keras\\engine\\base_layer.py\", line 1097, in __call__\n      outputs = call_fn(inputs, *args, **kwargs)\n    File \"C:\\Users\\HP\\AppData\\Roaming\\Python\\Python310\\site-packages\\keras\\utils\\traceback_utils.py\", line 96, in error_handler\n      return fn(*args, **kwargs)\n    File \"C:\\Users\\HP\\AppData\\Roaming\\Python\\Python310\\site-packages\\keras\\layers\\core\\embedding.py\", line 208, in call\n      out = tf.nn.embedding_lookup(self.embeddings, inputs)\nNode: 'sequential/embedding/embedding_lookup'\nindices[121,0] = 3568 is not in [0, 2000)\n\t [[{{node sequential/embedding/embedding_lookup}}]] [Op:__inference_train_function_4008]",
     "output_type": "error",
     "traceback": [
      "\u001b[1;31m---------------------------------------------------------------------------\u001b[0m",
      "\u001b[1;31mInvalidArgumentError\u001b[0m                      Traceback (most recent call last)",
      "Input \u001b[1;32mIn [23]\u001b[0m, in \u001b[0;36m<cell line: 2>\u001b[1;34m()\u001b[0m\n\u001b[0;32m      1\u001b[0m batch_size \u001b[38;5;241m=\u001b[39m \u001b[38;5;241m128\u001b[39m\n\u001b[1;32m----> 2\u001b[0m \u001b[43mmodel\u001b[49m\u001b[38;5;241;43m.\u001b[39;49m\u001b[43mfit\u001b[49m\u001b[43m(\u001b[49m\u001b[43mX_train\u001b[49m\u001b[43m,\u001b[49m\u001b[43m \u001b[49m\u001b[43mY_train\u001b[49m\u001b[43m,\u001b[49m\u001b[43m \u001b[49m\u001b[43mepochs\u001b[49m\u001b[43m \u001b[49m\u001b[38;5;241;43m=\u001b[39;49m\u001b[43m \u001b[49m\u001b[38;5;241;43m50\u001b[39;49m\u001b[43m,\u001b[49m\u001b[43m \u001b[49m\u001b[43mbatch_size\u001b[49m\u001b[38;5;241;43m=\u001b[39;49m\u001b[43mbatch_size\u001b[49m\u001b[43m,\u001b[49m\u001b[43m \u001b[49m\u001b[43mverbose\u001b[49m\u001b[43m \u001b[49m\u001b[38;5;241;43m=\u001b[39;49m\u001b[43m \u001b[49m\u001b[38;5;241;43m1\u001b[39;49m\u001b[43m)\u001b[49m\n",
      "File \u001b[1;32m~\\AppData\\Roaming\\Python\\Python310\\site-packages\\keras\\utils\\traceback_utils.py:70\u001b[0m, in \u001b[0;36mfilter_traceback.<locals>.error_handler\u001b[1;34m(*args, **kwargs)\u001b[0m\n\u001b[0;32m     67\u001b[0m     filtered_tb \u001b[38;5;241m=\u001b[39m _process_traceback_frames(e\u001b[38;5;241m.\u001b[39m__traceback__)\n\u001b[0;32m     68\u001b[0m     \u001b[38;5;66;03m# To get the full stack trace, call:\u001b[39;00m\n\u001b[0;32m     69\u001b[0m     \u001b[38;5;66;03m# `tf.debugging.disable_traceback_filtering()`\u001b[39;00m\n\u001b[1;32m---> 70\u001b[0m     \u001b[38;5;28;01mraise\u001b[39;00m e\u001b[38;5;241m.\u001b[39mwith_traceback(filtered_tb) \u001b[38;5;28;01mfrom\u001b[39;00m \u001b[38;5;28mNone\u001b[39m\n\u001b[0;32m     71\u001b[0m \u001b[38;5;28;01mfinally\u001b[39;00m:\n\u001b[0;32m     72\u001b[0m     \u001b[38;5;28;01mdel\u001b[39;00m filtered_tb\n",
      "File \u001b[1;32m~\\AppData\\Roaming\\Python\\Python310\\site-packages\\tensorflow\\python\\eager\\execute.py:54\u001b[0m, in \u001b[0;36mquick_execute\u001b[1;34m(op_name, num_outputs, inputs, attrs, ctx, name)\u001b[0m\n\u001b[0;32m     52\u001b[0m \u001b[38;5;28;01mtry\u001b[39;00m:\n\u001b[0;32m     53\u001b[0m   ctx\u001b[38;5;241m.\u001b[39mensure_initialized()\n\u001b[1;32m---> 54\u001b[0m   tensors \u001b[38;5;241m=\u001b[39m pywrap_tfe\u001b[38;5;241m.\u001b[39mTFE_Py_Execute(ctx\u001b[38;5;241m.\u001b[39m_handle, device_name, op_name,\n\u001b[0;32m     55\u001b[0m                                       inputs, attrs, num_outputs)\n\u001b[0;32m     56\u001b[0m \u001b[38;5;28;01mexcept\u001b[39;00m core\u001b[38;5;241m.\u001b[39m_NotOkStatusException \u001b[38;5;28;01mas\u001b[39;00m e:\n\u001b[0;32m     57\u001b[0m   \u001b[38;5;28;01mif\u001b[39;00m name \u001b[38;5;129;01mis\u001b[39;00m \u001b[38;5;129;01mnot\u001b[39;00m \u001b[38;5;28;01mNone\u001b[39;00m:\n",
      "\u001b[1;31mInvalidArgumentError\u001b[0m: Graph execution error:\n\nDetected at node 'sequential/embedding/embedding_lookup' defined at (most recent call last):\n    File \"C:\\Program Files\\Python310\\lib\\runpy.py\", line 196, in _run_module_as_main\n      return _run_code(code, main_globals, None,\n    File \"C:\\Program Files\\Python310\\lib\\runpy.py\", line 86, in _run_code\n      exec(code, run_globals)\n    File \"C:\\Users\\HP\\AppData\\Roaming\\Python\\Python310\\site-packages\\ipykernel_launcher.py\", line 17, in <module>\n      app.launch_new_instance()\n    File \"C:\\Users\\HP\\AppData\\Roaming\\Python\\Python310\\site-packages\\traitlets\\config\\application.py\", line 846, in launch_instance\n      app.start()\n    File \"C:\\Users\\HP\\AppData\\Roaming\\Python\\Python310\\site-packages\\ipykernel\\kernelapp.py\", line 712, in start\n      self.io_loop.start()\n    File \"C:\\Users\\HP\\AppData\\Roaming\\Python\\Python310\\site-packages\\tornado\\platform\\asyncio.py\", line 199, in start\n      self.asyncio_loop.run_forever()\n    File \"C:\\Program Files\\Python310\\lib\\asyncio\\base_events.py\", line 595, in run_forever\n      self._run_once()\n    File \"C:\\Program Files\\Python310\\lib\\asyncio\\base_events.py\", line 1881, in _run_once\n      handle._run()\n    File \"C:\\Program Files\\Python310\\lib\\asyncio\\events.py\", line 80, in _run\n      self._context.run(self._callback, *self._args)\n    File \"C:\\Users\\HP\\AppData\\Roaming\\Python\\Python310\\site-packages\\ipykernel\\kernelbase.py\", line 504, in dispatch_queue\n      await self.process_one()\n    File \"C:\\Users\\HP\\AppData\\Roaming\\Python\\Python310\\site-packages\\ipykernel\\kernelbase.py\", line 493, in process_one\n      await dispatch(*args)\n    File \"C:\\Users\\HP\\AppData\\Roaming\\Python\\Python310\\site-packages\\ipykernel\\kernelbase.py\", line 400, in dispatch_shell\n      await result\n    File \"C:\\Users\\HP\\AppData\\Roaming\\Python\\Python310\\site-packages\\ipykernel\\kernelbase.py\", line 724, in execute_request\n      reply_content = await reply_content\n    File \"C:\\Users\\HP\\AppData\\Roaming\\Python\\Python310\\site-packages\\ipykernel\\ipkernel.py\", line 390, in do_execute\n      res = shell.run_cell(code, store_history=store_history, silent=silent)\n    File \"C:\\Users\\HP\\AppData\\Roaming\\Python\\Python310\\site-packages\\ipykernel\\zmqshell.py\", line 528, in run_cell\n      return super().run_cell(*args, **kwargs)\n    File \"C:\\Users\\HP\\AppData\\Roaming\\Python\\Python310\\site-packages\\IPython\\core\\interactiveshell.py\", line 2863, in run_cell\n      result = self._run_cell(\n    File \"C:\\Users\\HP\\AppData\\Roaming\\Python\\Python310\\site-packages\\IPython\\core\\interactiveshell.py\", line 2909, in _run_cell\n      return runner(coro)\n    File \"C:\\Users\\HP\\AppData\\Roaming\\Python\\Python310\\site-packages\\IPython\\core\\async_helpers.py\", line 129, in _pseudo_sync_runner\n      coro.send(None)\n    File \"C:\\Users\\HP\\AppData\\Roaming\\Python\\Python310\\site-packages\\IPython\\core\\interactiveshell.py\", line 3106, in run_cell_async\n      has_raised = await self.run_ast_nodes(code_ast.body, cell_name,\n    File \"C:\\Users\\HP\\AppData\\Roaming\\Python\\Python310\\site-packages\\IPython\\core\\interactiveshell.py\", line 3309, in run_ast_nodes\n      if await self.run_code(code, result, async_=asy):\n    File \"C:\\Users\\HP\\AppData\\Roaming\\Python\\Python310\\site-packages\\IPython\\core\\interactiveshell.py\", line 3369, in run_code\n      exec(code_obj, self.user_global_ns, self.user_ns)\n    File \"C:\\Users\\HP\\AppData\\Local\\Temp\\ipykernel_4116\\2476775037.py\", line 2, in <cell line: 2>\n      model.fit(X_train, Y_train, epochs = 50, batch_size=batch_size, verbose = 1)\n    File \"C:\\Users\\HP\\AppData\\Roaming\\Python\\Python310\\site-packages\\keras\\utils\\traceback_utils.py\", line 65, in error_handler\n      return fn(*args, **kwargs)\n    File \"C:\\Users\\HP\\AppData\\Roaming\\Python\\Python310\\site-packages\\keras\\engine\\training.py\", line 1564, in fit\n      tmp_logs = self.train_function(iterator)\n    File \"C:\\Users\\HP\\AppData\\Roaming\\Python\\Python310\\site-packages\\keras\\engine\\training.py\", line 1160, in train_function\n      return step_function(self, iterator)\n    File \"C:\\Users\\HP\\AppData\\Roaming\\Python\\Python310\\site-packages\\keras\\engine\\training.py\", line 1146, in step_function\n      outputs = model.distribute_strategy.run(run_step, args=(data,))\n    File \"C:\\Users\\HP\\AppData\\Roaming\\Python\\Python310\\site-packages\\keras\\engine\\training.py\", line 1135, in run_step\n      outputs = model.train_step(data)\n    File \"C:\\Users\\HP\\AppData\\Roaming\\Python\\Python310\\site-packages\\keras\\engine\\training.py\", line 993, in train_step\n      y_pred = self(x, training=True)\n    File \"C:\\Users\\HP\\AppData\\Roaming\\Python\\Python310\\site-packages\\keras\\utils\\traceback_utils.py\", line 65, in error_handler\n      return fn(*args, **kwargs)\n    File \"C:\\Users\\HP\\AppData\\Roaming\\Python\\Python310\\site-packages\\keras\\engine\\training.py\", line 557, in __call__\n      return super().__call__(*args, **kwargs)\n    File \"C:\\Users\\HP\\AppData\\Roaming\\Python\\Python310\\site-packages\\keras\\utils\\traceback_utils.py\", line 65, in error_handler\n      return fn(*args, **kwargs)\n    File \"C:\\Users\\HP\\AppData\\Roaming\\Python\\Python310\\site-packages\\keras\\engine\\base_layer.py\", line 1097, in __call__\n      outputs = call_fn(inputs, *args, **kwargs)\n    File \"C:\\Users\\HP\\AppData\\Roaming\\Python\\Python310\\site-packages\\keras\\utils\\traceback_utils.py\", line 96, in error_handler\n      return fn(*args, **kwargs)\n    File \"C:\\Users\\HP\\AppData\\Roaming\\Python\\Python310\\site-packages\\keras\\engine\\sequential.py\", line 410, in call\n      return super().call(inputs, training=training, mask=mask)\n    File \"C:\\Users\\HP\\AppData\\Roaming\\Python\\Python310\\site-packages\\keras\\engine\\functional.py\", line 510, in call\n      return self._run_internal_graph(inputs, training=training, mask=mask)\n    File \"C:\\Users\\HP\\AppData\\Roaming\\Python\\Python310\\site-packages\\keras\\engine\\functional.py\", line 667, in _run_internal_graph\n      outputs = node.layer(*args, **kwargs)\n    File \"C:\\Users\\HP\\AppData\\Roaming\\Python\\Python310\\site-packages\\keras\\utils\\traceback_utils.py\", line 65, in error_handler\n      return fn(*args, **kwargs)\n    File \"C:\\Users\\HP\\AppData\\Roaming\\Python\\Python310\\site-packages\\keras\\engine\\base_layer.py\", line 1097, in __call__\n      outputs = call_fn(inputs, *args, **kwargs)\n    File \"C:\\Users\\HP\\AppData\\Roaming\\Python\\Python310\\site-packages\\keras\\utils\\traceback_utils.py\", line 96, in error_handler\n      return fn(*args, **kwargs)\n    File \"C:\\Users\\HP\\AppData\\Roaming\\Python\\Python310\\site-packages\\keras\\layers\\core\\embedding.py\", line 208, in call\n      out = tf.nn.embedding_lookup(self.embeddings, inputs)\nNode: 'sequential/embedding/embedding_lookup'\nindices[121,0] = 3568 is not in [0, 2000)\n\t [[{{node sequential/embedding/embedding_lookup}}]] [Op:__inference_train_function_4008]"
     ]
    }
   ],
   "source": [
    "batch_size = 128\n",
    "model.fit(X_train, Y_train, epochs = 50, batch_size=batch_size, verbose = 1)"
   ]
  },
  {
   "cell_type": "code",
   "execution_count": 28,
   "id": "b1fcea60",
   "metadata": {},
   "outputs": [
    {
     "name": "stdout",
     "output_type": "stream",
     "text": [
      "Model: \"sequential_2\"\n",
      "_________________________________________________________________\n",
      " Layer (type)                Output Shape              Param #   \n",
      "=================================================================\n",
      " embedding_2 (Embedding)     (None, 56, 128)           256000    \n",
      "                                                                 \n",
      " spatial_dropout1d_2 (Spatia  (None, 56, 128)          0         \n",
      " lDropout1D)                                                     \n",
      "                                                                 \n",
      " lstm_2 (LSTM)               (None, 196)               254800    \n",
      "                                                                 \n",
      " dense_2 (Dense)             (None, 2)                 394       \n",
      "                                                                 \n",
      "=================================================================\n",
      "Total params: 511,194\n",
      "Trainable params: 511,194\n",
      "Non-trainable params: 0\n",
      "_________________________________________________________________\n",
      "None\n"
     ]
    }
   ],
   "source": [
    "embed_dim = 128\n",
    "lstm_out = 196\n",
    "\n",
    "model = Sequential()\n",
    "model.add(Embedding(max_fatures, embed_dim,input_length = X.shape[1]))\n",
    "model.add(SpatialDropout1D(0.4))\n",
    "model.add(LSTM(lstm_out, dropout=0.2, recurrent_dropout=0.2))\n",
    "model.add(Dense(2,activation='relu'))\n",
    "model.compile(loss='mean_squared_error', optimizer='adam',metrics = ['MeanSquaredError'])\n",
    "print(model.summary())"
   ]
  },
  {
   "cell_type": "code",
   "execution_count": 30,
   "id": "2b1528fc",
   "metadata": {},
   "outputs": [
    {
     "name": "stdout",
     "output_type": "stream",
     "text": [
      "(67682, 56) (67682,)\n",
      "(16921, 56) (16921,)\n"
     ]
    }
   ],
   "source": [
    "Y = data['depression_Intensity'].values\n",
    "X_train, X_test, Y_train, Y_test = train_test_split(X,Y, test_size = 0.20, random_state = 42)\n",
    "print(X_train.shape,Y_train.shape)\n",
    "print(X_test.shape,Y_test.shape)"
   ]
  },
  {
   "cell_type": "code",
   "execution_count": 31,
   "id": "7532f216",
   "metadata": {},
   "outputs": [
    {
     "name": "stdout",
     "output_type": "stream",
     "text": [
      "Epoch 1/15\n",
      "529/529 [==============================] - 297s 555ms/step - loss: 0.0082 - mean_squared_error: 0.0082\n",
      "Epoch 2/15\n",
      "529/529 [==============================] - 325s 614ms/step - loss: 0.0037 - mean_squared_error: 0.0037\n",
      "Epoch 3/15\n",
      "529/529 [==============================] - 315s 595ms/step - loss: 0.0035 - mean_squared_error: 0.0035\n",
      "Epoch 4/15\n",
      "529/529 [==============================] - 323s 611ms/step - loss: 0.0033 - mean_squared_error: 0.0033\n",
      "Epoch 5/15\n",
      "529/529 [==============================] - 345s 652ms/step - loss: 0.0032 - mean_squared_error: 0.0032\n",
      "Epoch 6/15\n",
      "529/529 [==============================] - 330s 624ms/step - loss: 0.0032 - mean_squared_error: 0.0032\n",
      "Epoch 7/15\n",
      "529/529 [==============================] - 341s 644ms/step - loss: 0.0031 - mean_squared_error: 0.0031\n",
      "Epoch 8/15\n",
      "529/529 [==============================] - 346s 655ms/step - loss: 0.0030 - mean_squared_error: 0.0030\n",
      "Epoch 9/15\n",
      "529/529 [==============================] - 329s 622ms/step - loss: 0.0029 - mean_squared_error: 0.0029\n",
      "Epoch 10/15\n",
      "529/529 [==============================] - 329s 622ms/step - loss: 0.0028 - mean_squared_error: 0.0028\n",
      "Epoch 11/15\n",
      "529/529 [==============================] - 330s 625ms/step - loss: 0.0028 - mean_squared_error: 0.0028\n",
      "Epoch 12/15\n",
      "529/529 [==============================] - 345s 653ms/step - loss: 0.0027 - mean_squared_error: 0.0027\n",
      "Epoch 13/15\n",
      "529/529 [==============================] - 332s 627ms/step - loss: 0.0026 - mean_squared_error: 0.0026\n",
      "Epoch 14/15\n",
      "529/529 [==============================] - 332s 627ms/step - loss: 0.0025 - mean_squared_error: 0.0025\n",
      "Epoch 15/15\n",
      "529/529 [==============================] - 329s 622ms/step - loss: 0.0024 - mean_squared_error: 0.0024\n"
     ]
    },
    {
     "data": {
      "text/plain": [
       "<keras.callbacks.History at 0x1dbc2df6770>"
      ]
     },
     "execution_count": 31,
     "metadata": {},
     "output_type": "execute_result"
    }
   ],
   "source": [
    "batch_size = 128\n",
    "model.fit(X_train, Y_train, epochs = 15, batch_size=batch_size, verbose = 1)"
   ]
  },
  {
   "cell_type": "code",
   "execution_count": 32,
   "id": "fc0ab8b4",
   "metadata": {},
   "outputs": [
    {
     "data": {
      "text/plain": [
       "array([0.55832128, 0.50605484, 0.50605484, ..., 0.31365496, 0.34488614,\n",
       "       0.42371285])"
      ]
     },
     "execution_count": 32,
     "metadata": {},
     "output_type": "execute_result"
    }
   ],
   "source": [
    "Y"
   ]
  },
  {
   "cell_type": "code",
   "execution_count": 44,
   "id": "ce8c8418",
   "metadata": {},
   "outputs": [
    {
     "ename": "TypeError",
     "evalue": "not all arguments converted during string formatting",
     "output_type": "error",
     "traceback": [
      "\u001b[1;31m---------------------------------------------------------------------------\u001b[0m",
      "\u001b[1;31mTypeError\u001b[0m                                 Traceback (most recent call last)",
      "Input \u001b[1;32mIn [44]\u001b[0m, in \u001b[0;36m<cell line: 3>\u001b[1;34m()\u001b[0m\n\u001b[0;32m      1\u001b[0m \u001b[38;5;28;01mimport\u001b[39;00m \u001b[38;5;21;01mmath\u001b[39;00m\n\u001b[0;32m      2\u001b[0m trainScore \u001b[38;5;241m=\u001b[39m model\u001b[38;5;241m.\u001b[39mevaluate(X_train, Y_train, verbose\u001b[38;5;241m=\u001b[39m\u001b[38;5;241m0\u001b[39m)\n\u001b[1;32m----> 3\u001b[0m \u001b[38;5;28mprint\u001b[39m(\u001b[38;5;124;43m'\u001b[39;49m\u001b[38;5;124;43mTrain Score:  MSE ( RMSE)\u001b[39;49m\u001b[38;5;124;43m'\u001b[39;49m\u001b[43m \u001b[49m\u001b[38;5;241;43m%\u001b[39;49m\u001b[43m \u001b[49m\u001b[43m(\u001b[49m\u001b[43mtrainScore\u001b[49m\u001b[43m[\u001b[49m\u001b[38;5;241;43m0\u001b[39;49m\u001b[43m]\u001b[49m\u001b[43m,\u001b[49m\u001b[43m \u001b[49m\u001b[43mmath\u001b[49m\u001b[38;5;241;43m.\u001b[39;49m\u001b[43msqrt\u001b[49m\u001b[43m(\u001b[49m\u001b[43mtrainScore\u001b[49m\u001b[43m[\u001b[49m\u001b[38;5;241;43m0\u001b[39;49m\u001b[43m]\u001b[49m\u001b[43m)\u001b[49m\u001b[43m)\u001b[49m)\n",
      "\u001b[1;31mTypeError\u001b[0m: not all arguments converted during string formatting"
     ]
    }
   ],
   "source": [
    "import math\n",
    "trainScore = model.evaluate(X_train, Y_train, verbose=0)\n",
    "\n"
   ]
  },
  {
   "cell_type": "code",
   "execution_count": 46,
   "id": "095a3011",
   "metadata": {},
   "outputs": [
    {
     "name": "stdout",
     "output_type": "stream",
     "text": [
      "Train Score: 0.002187935 MSE (0.046775367 RMSE)\n"
     ]
    }
   ],
   "source": [
    "print('Train Score: %.9f MSE (%.9f RMSE)' % (trainScore[0], math.sqrt(trainScore[0])))"
   ]
  },
  {
   "cell_type": "code",
   "execution_count": 38,
   "id": "91dd2a68",
   "metadata": {},
   "outputs": [
    {
     "data": {
      "text/plain": [
       "[0.002187934936955571, 0.002187934936955571]"
      ]
     },
     "execution_count": 38,
     "metadata": {},
     "output_type": "execute_result"
    }
   ],
   "source": [
    "trainScore"
   ]
  },
  {
   "cell_type": "code",
   "execution_count": 40,
   "id": "57f72125",
   "metadata": {},
   "outputs": [],
   "source": [
    "tests = model.evaluate(X_test, Y_test, verbose=0)\n",
    "\n"
   ]
  },
  {
   "cell_type": "code",
   "execution_count": 42,
   "id": "a1cb752c",
   "metadata": {},
   "outputs": [
    {
     "data": {
      "text/plain": [
       "0.0029542502015829086"
      ]
     },
     "execution_count": 42,
     "metadata": {},
     "output_type": "execute_result"
    }
   ],
   "source": [
    "tests[0]"
   ]
  },
  {
   "cell_type": "code",
   "execution_count": 48,
   "id": "eefbb294",
   "metadata": {},
   "outputs": [
    {
     "name": "stdout",
     "output_type": "stream",
     "text": [
      "2116/2116 [==============================] - 103s 48ms/step\n",
      "529/529 [==============================] - 25s 47ms/step\n"
     ]
    }
   ],
   "source": [
    "trainPredict = model.predict(X_train)\n",
    "testPredict = model.predict(X_test)"
   ]
  },
  {
   "cell_type": "code",
   "execution_count": 65,
   "id": "48b0f725",
   "metadata": {},
   "outputs": [
    {
     "data": {
      "text/plain": [
       "array([[0.37795675, 0.3773162 ],\n",
       "       [0.4034699 , 0.401003  ],\n",
       "       [0.389361  , 0.3897096 ],\n",
       "       ...,\n",
       "       [0.34816152, 0.34813195],\n",
       "       [0.41651562, 0.41502422],\n",
       "       [0.35404903, 0.35469863]], dtype=float32)"
      ]
     },
     "execution_count": 65,
     "metadata": {},
     "output_type": "execute_result"
    }
   ],
   "source": [
    "testPredict"
   ]
  },
  {
   "cell_type": "code",
   "execution_count": 64,
   "id": "f5183ee8",
   "metadata": {},
   "outputs": [
    {
     "data": {
      "text/plain": [
       "array([0.50605484, 0.40995755, 0.34488614, ..., 0.34488614, 0.40995755,\n",
       "       0.34488614])"
      ]
     },
     "execution_count": 64,
     "metadata": {},
     "output_type": "execute_result"
    }
   ],
   "source": [
    "Y_test"
   ]
  },
  {
   "cell_type": "code",
   "execution_count": 68,
   "id": "7515f7c8",
   "metadata": {},
   "outputs": [
    {
     "data": {
      "image/png": "[encoded data removed]",
      "text/plain": [
       "<Figure size 1296x1080 with 1 Axes>"
      ]
     },
     "metadata": {
      "needs_background": "light"
     },
     "output_type": "display_data"
    }
   ],
   "source": [
    "# line plot of observed vs predicted\n",
    "plt.figure(figsize=(18, 15))\n",
    "plt.plot(Y_train)\n",
    "plt.plot(trainPredict)\n",
    "plt.show()"
   ]
  },
  {
   "cell_type": "code",
   "execution_count": 67,
   "id": "56313c88",
   "metadata": {},
   "outputs": [
    {
     "data": {
      "image/png": "[encoded data removed]",
      "text/plain": [
       "<Figure size 1296x1080 with 1 Axes>"
      ]
     },
     "metadata": {
      "needs_background": "light"
     },
     "output_type": "display_data"
    }
   ],
   "source": [
    "# line plot of observed vs predicted\n",
    "plt.figure(figsize=(18, 15))\n",
    "plt.plot(Y_test)\n",
    "plt.plot(testPredict)\n",
    "plt.show()"
   ]
  },
  {
   "cell_type": "code",
   "execution_count": 53,
   "id": "ded3b92e",
   "metadata": {},
   "outputs": [],
   "source": [
    "import numpy\n",
    "import matplotlib.pyplot as plt\n",
    "import pandas as pd\n",
    "import math\n",
    "from keras.models import Sequential\n",
    "from keras.layers import Dense,Dropout\n",
    "from keras.layers import LSTM\n",
    "from sklearn.preprocessing import MinMaxScaler\n",
    "from sklearn.metrics import mean_squared_error"
   ]
  },
  {
   "cell_type": "code",
   "execution_count": 3,
   "id": "6caf77cf",
   "metadata": {},
   "outputs": [],
   "source": [
    "#WordCloud"
   ]
  },
  {
   "cell_type": "code",
   "execution_count": 4,
   "id": "d2809966",
   "metadata": {},
   "outputs": [],
   "source": [
    "from wordcloud import WordCloud\n",
    "import matplotlib.pyplot as plt\n"
   ]
  },
  {
   "cell_type": "code",
   "execution_count": 7,
   "id": "3ef5d7fc",
   "metadata": {},
   "outputs": [
    {
     "data": {
      "text/plain": [
       "Index(['Tweet', 'sentiment', 'Date', 'depression_Intensity', 'text',\n",
       "       'text_clean', 'text_clean_tokens', '0', '1', '2', '3', '4', '5', '6',\n",
       "       '7', '8', '9', '10', '11', '12', '13', '14', '15', '16', '17', '18',\n",
       "       '19', '20', '21', '22', '23', '24', '25', '26', '27', '28', '29', '30',\n",
       "       '31', '32', '33', '34', '35', '36', 'T1', 'T2', 'T3', 'T4', 'T5', 'T6',\n",
       "       'T7', 'T8', 'T9', 'T10', 'T11', 'T12', 'T13', 'T14', 'T15', 'T16',\n",
       "       'T17', 'T18', 'T19', 'T20', 'T21', 'T22', 'T23', 'T24', 'T25'],\n",
       "      dtype='object')"
      ]
     },
     "execution_count": 7,
     "metadata": {},
     "output_type": "execute_result"
    }
   ],
   "source": [
    "data.columns"
   ]
  },
  {
   "cell_type": "code",
   "execution_count": 54,
   "id": "eae5e630",
   "metadata": {},
   "outputs": [
    {
     "data": {
      "text/html": [
       "<div>\n",
       "<style scoped>\n",
       "    .dataframe tbody tr th:only-of-type {\n",
       "        vertical-align: middle;\n",
       "    }\n",
       "\n",
       "    .dataframe tbody tr th {\n",
       "        vertical-align: top;\n",
       "    }\n",
       "\n",
       "    .dataframe thead th {\n",
       "        text-align: right;\n",
       "    }\n",
       "</style>\n",
       "<table border=\"1\" class=\"dataframe\">\n",
       "  <thead>\n",
       "    <tr style=\"text-align: right;\">\n",
       "      <th></th>\n",
       "      <th>Tweet</th>\n",
       "      <th>sentiment</th>\n",
       "      <th>Date</th>\n",
       "      <th>depression_Intensity</th>\n",
       "      <th>text</th>\n",
       "      <th>text_clean</th>\n",
       "      <th>text_clean_tokens</th>\n",
       "      <th>0</th>\n",
       "      <th>1</th>\n",
       "      <th>2</th>\n",
       "      <th>...</th>\n",
       "      <th>T16</th>\n",
       "      <th>T17</th>\n",
       "      <th>T18</th>\n",
       "      <th>T19</th>\n",
       "      <th>T20</th>\n",
       "      <th>T21</th>\n",
       "      <th>T22</th>\n",
       "      <th>T23</th>\n",
       "      <th>T24</th>\n",
       "      <th>T25</th>\n",
       "    </tr>\n",
       "  </thead>\n",
       "  <tbody>\n",
       "    <tr>\n",
       "      <th>20673</th>\n",
       "      <td>@robinbankzz thanks for followiiiiing  legend</td>\n",
       "      <td>Non-Depressive</td>\n",
       "      <td>Sat Jun 06 16:23:05 PDT 2009</td>\n",
       "      <td>0.412875</td>\n",
       "      <td>thanks followiiiiing legend</td>\n",
       "      <td>thanks followiiiiing legend</td>\n",
       "      <td>['t', 'h', 'a', 'n', 'k', 's', ' ', 'f', 'o', ...</td>\n",
       "      <td>24</td>\n",
       "      <td>30281</td>\n",
       "      <td>3165</td>\n",
       "      <td>...</td>\n",
       "      <td>0.013333</td>\n",
       "      <td>0.013333</td>\n",
       "      <td>0.013333</td>\n",
       "      <td>0.013333</td>\n",
       "      <td>0.013333</td>\n",
       "      <td>0.013333</td>\n",
       "      <td>0.013333</td>\n",
       "      <td>0.013333</td>\n",
       "      <td>0.013333</td>\n",
       "      <td>0.013333</td>\n",
       "    </tr>\n",
       "    <tr>\n",
       "      <th>20674</th>\n",
       "      <td>@emmajg that's my plan.  it's only 10 am here,...</td>\n",
       "      <td>Non-Depressive</td>\n",
       "      <td>Sun Jun 07 06:57:27 PDT 2009</td>\n",
       "      <td>0.344886</td>\n",
       "      <td>That plan only here plan whole jammies</td>\n",
       "      <td>plan plan whole jammies</td>\n",
       "      <td>['p', 'l', 'a', 'n', ' ', 'p', 'l', 'a', 'n', ...</td>\n",
       "      <td>1</td>\n",
       "      <td>533</td>\n",
       "      <td>57</td>\n",
       "      <td>...</td>\n",
       "      <td>0.008000</td>\n",
       "      <td>0.008000</td>\n",
       "      <td>0.008000</td>\n",
       "      <td>0.008000</td>\n",
       "      <td>0.008000</td>\n",
       "      <td>0.208000</td>\n",
       "      <td>0.008000</td>\n",
       "      <td>0.008000</td>\n",
       "      <td>0.208000</td>\n",
       "      <td>0.008000</td>\n",
       "    </tr>\n",
       "    <tr>\n",
       "      <th>20675</th>\n",
       "      <td>@yungryfunk have a safe flight!</td>\n",
       "      <td>Non-Depressive</td>\n",
       "      <td>Wed Jun 03 03:05:17 PDT 2009</td>\n",
       "      <td>0.420934</td>\n",
       "      <td>Have safe flight</td>\n",
       "      <td>safe flight</td>\n",
       "      <td>['s', 'a', 'f', 'e', ' ', 'f', 'l', 'i', 'g', ...</td>\n",
       "      <td>3</td>\n",
       "      <td>644</td>\n",
       "      <td>1099</td>\n",
       "      <td>...</td>\n",
       "      <td>0.013333</td>\n",
       "      <td>0.013333</td>\n",
       "      <td>0.013333</td>\n",
       "      <td>0.013333</td>\n",
       "      <td>0.013333</td>\n",
       "      <td>0.013333</td>\n",
       "      <td>0.013333</td>\n",
       "      <td>0.013333</td>\n",
       "      <td>0.013333</td>\n",
       "      <td>0.013333</td>\n",
       "    </tr>\n",
       "    <tr>\n",
       "      <th>20676</th>\n",
       "      <td>hey! @lons sighting at fred 62. i swear i am n...</td>\n",
       "      <td>Non-Depressive</td>\n",
       "      <td>Sat May 02 12:28:19 PDT 2009</td>\n",
       "      <td>0.300517</td>\n",
       "      <td>sighting Fred swear stalker Just</td>\n",
       "      <td>sighting fred swear stalker</td>\n",
       "      <td>['s', 'i', 'g', 'h', 't', 'i', 'n', 'g', ' ', ...</td>\n",
       "      <td>17207</td>\n",
       "      <td>4455</td>\n",
       "      <td>1758</td>\n",
       "      <td>...</td>\n",
       "      <td>0.008000</td>\n",
       "      <td>0.008000</td>\n",
       "      <td>0.008000</td>\n",
       "      <td>0.008000</td>\n",
       "      <td>0.008000</td>\n",
       "      <td>0.208000</td>\n",
       "      <td>0.008000</td>\n",
       "      <td>0.008000</td>\n",
       "      <td>0.008000</td>\n",
       "      <td>0.008000</td>\n",
       "    </tr>\n",
       "    <tr>\n",
       "      <th>20677</th>\n",
       "      <td>@davidarchie aww they're all playing in the uk...</td>\n",
       "      <td>Non-Depressive</td>\n",
       "      <td>Sun May 03 16:29:00 PDT 2009</td>\n",
       "      <td>0.399074</td>\n",
       "      <td>they playing right maybe they come YOUR show</td>\n",
       "      <td>playing right maybe come show</td>\n",
       "      <td>['p', 'l', 'a', 'y', 'i', 'n', 'g', ' ', 'r', ...</td>\n",
       "      <td>27</td>\n",
       "      <td>251</td>\n",
       "      <td>58</td>\n",
       "      <td>...</td>\n",
       "      <td>0.004000</td>\n",
       "      <td>0.004000</td>\n",
       "      <td>0.104000</td>\n",
       "      <td>0.004000</td>\n",
       "      <td>0.004000</td>\n",
       "      <td>0.004000</td>\n",
       "      <td>0.004000</td>\n",
       "      <td>0.004000</td>\n",
       "      <td>0.119306</td>\n",
       "      <td>0.004000</td>\n",
       "    </tr>\n",
       "    <tr>\n",
       "      <th>...</th>\n",
       "      <td>...</td>\n",
       "      <td>...</td>\n",
       "      <td>...</td>\n",
       "      <td>...</td>\n",
       "      <td>...</td>\n",
       "      <td>...</td>\n",
       "      <td>...</td>\n",
       "      <td>...</td>\n",
       "      <td>...</td>\n",
       "      <td>...</td>\n",
       "      <td>...</td>\n",
       "      <td>...</td>\n",
       "      <td>...</td>\n",
       "      <td>...</td>\n",
       "      <td>...</td>\n",
       "      <td>...</td>\n",
       "      <td>...</td>\n",
       "      <td>...</td>\n",
       "      <td>...</td>\n",
       "      <td>...</td>\n",
       "      <td>...</td>\n",
       "    </tr>\n",
       "    <tr>\n",
       "      <th>84598</th>\n",
       "      <td>slow day. @work. lots op people have the day o...</td>\n",
       "      <td>Non-Depressive</td>\n",
       "      <td>Fri May 22 02:19:22 PDT 2009</td>\n",
       "      <td>0.344886</td>\n",
       "      <td>Slow Lots people have nooo Gotta defend fortre...</td>\n",
       "      <td>slow lots people nooo gotta defend fortress</td>\n",
       "      <td>['s', 'l', 'o', 'w', ' ', 'l', 'o', 't', 's', ...</td>\n",
       "      <td>1001</td>\n",
       "      <td>348</td>\n",
       "      <td>25</td>\n",
       "      <td>...</td>\n",
       "      <td>0.003636</td>\n",
       "      <td>0.003636</td>\n",
       "      <td>0.094545</td>\n",
       "      <td>0.003636</td>\n",
       "      <td>0.003636</td>\n",
       "      <td>0.276364</td>\n",
       "      <td>0.003636</td>\n",
       "      <td>0.094545</td>\n",
       "      <td>0.094545</td>\n",
       "      <td>0.003636</td>\n",
       "    </tr>\n",
       "    <tr>\n",
       "      <th>84599</th>\n",
       "      <td>@durian_girl here's a song to celebrate the ar...</td>\n",
       "      <td>Non-Depressive</td>\n",
       "      <td>Sun May 31 03:24:02 PDT 2009</td>\n",
       "      <td>0.444724</td>\n",
       "      <td>Here song celebrate arrival loveliest sweetest...</td>\n",
       "      <td>song celebrate arrival loveliest sweetest baby...</td>\n",
       "      <td>['s', 'o', 'n', 'g', ' ', 'c', 'e', 'l', 'e', ...</td>\n",
       "      <td>26</td>\n",
       "      <td>144</td>\n",
       "      <td>1077</td>\n",
       "      <td>...</td>\n",
       "      <td>0.005000</td>\n",
       "      <td>0.005000</td>\n",
       "      <td>0.005000</td>\n",
       "      <td>0.005000</td>\n",
       "      <td>0.005000</td>\n",
       "      <td>0.005000</td>\n",
       "      <td>0.005000</td>\n",
       "      <td>0.130000</td>\n",
       "      <td>0.005000</td>\n",
       "      <td>0.005000</td>\n",
       "    </tr>\n",
       "    <tr>\n",
       "      <th>84600</th>\n",
       "      <td>from some strange mystical force i got my suit...</td>\n",
       "      <td>Non-Depressive</td>\n",
       "      <td>Sat May 30 20:49:03 PDT 2009</td>\n",
       "      <td>0.313655</td>\n",
       "      <td>From some strange mystical force suitcase shov...</td>\n",
       "      <td>strange mystical force suitcase shoved zipped</td>\n",
       "      <td>['s', 't', 'r', 'a', 'n', 'g', 'e', ' ', 'm', ...</td>\n",
       "      <td>10</td>\n",
       "      <td>21</td>\n",
       "      <td>1302</td>\n",
       "      <td>...</td>\n",
       "      <td>0.013333</td>\n",
       "      <td>0.013333</td>\n",
       "      <td>0.013333</td>\n",
       "      <td>0.013333</td>\n",
       "      <td>0.013333</td>\n",
       "      <td>0.013333</td>\n",
       "      <td>0.013333</td>\n",
       "      <td>0.013333</td>\n",
       "      <td>0.013333</td>\n",
       "      <td>0.013333</td>\n",
       "    </tr>\n",
       "    <tr>\n",
       "      <th>84601</th>\n",
       "      <td>skyy vodka-raspberry mixed w/ sprite......my d...</td>\n",
       "      <td>Non-Depressive</td>\n",
       "      <td>Sat May 16 20:29:04 PDT 2009</td>\n",
       "      <td>0.344886</td>\n",
       "      <td>skyy vodka raspberry mixed sprite drink choice...</td>\n",
       "      <td>skyy vodka raspberry mixed sprite drink choice...</td>\n",
       "      <td>['s', 'k', 'y', 'y', ' ', 'v', 'o', 'd', 'k', ...</td>\n",
       "      <td>51825</td>\n",
       "      <td>3007</td>\n",
       "      <td>5536</td>\n",
       "      <td>...</td>\n",
       "      <td>0.006667</td>\n",
       "      <td>0.006667</td>\n",
       "      <td>0.006667</td>\n",
       "      <td>0.173333</td>\n",
       "      <td>0.006667</td>\n",
       "      <td>0.006667</td>\n",
       "      <td>0.006667</td>\n",
       "      <td>0.006667</td>\n",
       "      <td>0.006667</td>\n",
       "      <td>0.006667</td>\n",
       "    </tr>\n",
       "    <tr>\n",
       "      <th>84602</th>\n",
       "      <td>@diancatt te regalo mis 30 free tracks</td>\n",
       "      <td>Non-Depressive</td>\n",
       "      <td>Sun Jun 14 23:32:11 PDT 2009</td>\n",
       "      <td>0.423713</td>\n",
       "      <td>regalo free tracks</td>\n",
       "      <td>regalo free tracks</td>\n",
       "      <td>['r', 'e', 'g', 'a', 'l', 'o', ' ', 'f', 'r', ...</td>\n",
       "      <td>11692</td>\n",
       "      <td>72</td>\n",
       "      <td>2930</td>\n",
       "      <td>...</td>\n",
       "      <td>0.008000</td>\n",
       "      <td>0.008000</td>\n",
       "      <td>0.008000</td>\n",
       "      <td>0.008000</td>\n",
       "      <td>0.008000</td>\n",
       "      <td>0.008000</td>\n",
       "      <td>0.008000</td>\n",
       "      <td>0.008000</td>\n",
       "      <td>0.208000</td>\n",
       "      <td>0.008000</td>\n",
       "    </tr>\n",
       "  </tbody>\n",
       "</table>\n",
       "<p>63930 rows × 69 columns</p>\n",
       "</div>"
      ],
      "text/plain": [
       "                                                   Tweet       sentiment  \\\n",
       "20673      @robinbankzz thanks for followiiiiing  legend  Non-Depressive   \n",
       "20674  @emmajg that's my plan.  it's only 10 am here,...  Non-Depressive   \n",
       "20675                   @yungryfunk have a safe flight!   Non-Depressive   \n",
       "20676  hey! @lons sighting at fred 62. i swear i am n...  Non-Depressive   \n",
       "20677  @davidarchie aww they're all playing in the uk...  Non-Depressive   \n",
       "...                                                  ...             ...   \n",
       "84598  slow day. @work. lots op people have the day o...  Non-Depressive   \n",
       "84599  @durian_girl here's a song to celebrate the ar...  Non-Depressive   \n",
       "84600  from some strange mystical force i got my suit...  Non-Depressive   \n",
       "84601  skyy vodka-raspberry mixed w/ sprite......my d...  Non-Depressive   \n",
       "84602            @diancatt te regalo mis 30 free tracks   Non-Depressive   \n",
       "\n",
       "                               Date  depression_Intensity  \\\n",
       "20673  Sat Jun 06 16:23:05 PDT 2009              0.412875   \n",
       "20674  Sun Jun 07 06:57:27 PDT 2009              0.344886   \n",
       "20675  Wed Jun 03 03:05:17 PDT 2009              0.420934   \n",
       "20676  Sat May 02 12:28:19 PDT 2009              0.300517   \n",
       "20677  Sun May 03 16:29:00 PDT 2009              0.399074   \n",
       "...                             ...                   ...   \n",
       "84598  Fri May 22 02:19:22 PDT 2009              0.344886   \n",
       "84599  Sun May 31 03:24:02 PDT 2009              0.444724   \n",
       "84600  Sat May 30 20:49:03 PDT 2009              0.313655   \n",
       "84601  Sat May 16 20:29:04 PDT 2009              0.344886   \n",
       "84602  Sun Jun 14 23:32:11 PDT 2009              0.423713   \n",
       "\n",
       "                                                    text  \\\n",
       "20673                        thanks followiiiiing legend   \n",
       "20674             That plan only here plan whole jammies   \n",
       "20675                                   Have safe flight   \n",
       "20676                   sighting Fred swear stalker Just   \n",
       "20677       they playing right maybe they come YOUR show   \n",
       "...                                                  ...   \n",
       "84598  Slow Lots people have nooo Gotta defend fortre...   \n",
       "84599  Here song celebrate arrival loveliest sweetest...   \n",
       "84600  From some strange mystical force suitcase shov...   \n",
       "84601  skyy vodka raspberry mixed sprite drink choice...   \n",
       "84602                                 regalo free tracks   \n",
       "\n",
       "                                              text_clean  \\\n",
       "20673                        thanks followiiiiing legend   \n",
       "20674                            plan plan whole jammies   \n",
       "20675                                        safe flight   \n",
       "20676                        sighting fred swear stalker   \n",
       "20677                      playing right maybe come show   \n",
       "...                                                  ...   \n",
       "84598        slow lots people nooo gotta defend fortress   \n",
       "84599  song celebrate arrival loveliest sweetest baby...   \n",
       "84600      strange mystical force suitcase shoved zipped   \n",
       "84601  skyy vodka raspberry mixed sprite drink choice...   \n",
       "84602                                 regalo free tracks   \n",
       "\n",
       "                                       text_clean_tokens      0      1     2  \\\n",
       "20673  ['t', 'h', 'a', 'n', 'k', 's', ' ', 'f', 'o', ...     24  30281  3165   \n",
       "20674  ['p', 'l', 'a', 'n', ' ', 'p', 'l', 'a', 'n', ...      1    533    57   \n",
       "20675  ['s', 'a', 'f', 'e', ' ', 'f', 'l', 'i', 'g', ...      3    644  1099   \n",
       "20676  ['s', 'i', 'g', 'h', 't', 'i', 'n', 'g', ' ', ...  17207   4455  1758   \n",
       "20677  ['p', 'l', 'a', 'y', 'i', 'n', 'g', ' ', 'r', ...     27    251    58   \n",
       "...                                                  ...    ...    ...   ...   \n",
       "84598  ['s', 'l', 'o', 'w', ' ', 'l', 'o', 't', 's', ...   1001    348    25   \n",
       "84599  ['s', 'o', 'n', 'g', ' ', 'c', 'e', 'l', 'e', ...     26    144  1077   \n",
       "84600  ['s', 't', 'r', 'a', 'n', 'g', 'e', ' ', 'm', ...     10     21  1302   \n",
       "84601  ['s', 'k', 'y', 'y', ' ', 'v', 'o', 'd', 'k', ...  51825   3007  5536   \n",
       "84602  ['r', 'e', 'g', 'a', 'l', 'o', ' ', 'f', 'r', ...  11692     72  2930   \n",
       "\n",
       "       ...       T16       T17       T18       T19       T20       T21  \\\n",
       "20673  ...  0.013333  0.013333  0.013333  0.013333  0.013333  0.013333   \n",
       "20674  ...  0.008000  0.008000  0.008000  0.008000  0.008000  0.208000   \n",
       "20675  ...  0.013333  0.013333  0.013333  0.013333  0.013333  0.013333   \n",
       "20676  ...  0.008000  0.008000  0.008000  0.008000  0.008000  0.208000   \n",
       "20677  ...  0.004000  0.004000  0.104000  0.004000  0.004000  0.004000   \n",
       "...    ...       ...       ...       ...       ...       ...       ...   \n",
       "84598  ...  0.003636  0.003636  0.094545  0.003636  0.003636  0.276364   \n",
       "84599  ...  0.005000  0.005000  0.005000  0.005000  0.005000  0.005000   \n",
       "84600  ...  0.013333  0.013333  0.013333  0.013333  0.013333  0.013333   \n",
       "84601  ...  0.006667  0.006667  0.006667  0.173333  0.006667  0.006667   \n",
       "84602  ...  0.008000  0.008000  0.008000  0.008000  0.008000  0.008000   \n",
       "\n",
       "            T22       T23       T24       T25  \n",
       "20673  0.013333  0.013333  0.013333  0.013333  \n",
       "20674  0.008000  0.008000  0.208000  0.008000  \n",
       "20675  0.013333  0.013333  0.013333  0.013333  \n",
       "20676  0.008000  0.008000  0.008000  0.008000  \n",
       "20677  0.004000  0.004000  0.119306  0.004000  \n",
       "...         ...       ...       ...       ...  \n",
       "84598  0.003636  0.094545  0.094545  0.003636  \n",
       "84599  0.005000  0.130000  0.005000  0.005000  \n",
       "84600  0.013333  0.013333  0.013333  0.013333  \n",
       "84601  0.006667  0.006667  0.006667  0.006667  \n",
       "84602  0.008000  0.008000  0.208000  0.008000  \n",
       "\n",
       "[63930 rows x 69 columns]"
      ]
     },
     "execution_count": 54,
     "metadata": {},
     "output_type": "execute_result"
    }
   ],
   "source": [
    "p=data[data['sentiment']!=\"Depressed\"]\n",
    "p"
   ]
  },
  {
   "cell_type": "code",
   "execution_count": 55,
   "id": "0c29a8a0",
   "metadata": {},
   "outputs": [
    {
     "data": {
      "image/png": "[encoded data removed]",
      "text/plain": [
       "<Figure size 432x288 with 1 Axes>"
      ]
     },
     "metadata": {},
     "output_type": "display_data"
    }
   ],
   "source": [
    "wc = WordCloud()\n",
    "wc.generate(str(p['text']))\n",
    "plt.imshow(wc, interpolation=\"bilinear\")\n",
    "plt.axis('off')\n",
    "plt.show()"
   ]
  },
  {
   "cell_type": "code",
   "execution_count": 56,
   "id": "d03e6f3e",
   "metadata": {},
   "outputs": [
    {
     "data": {
      "image/png": "[encoded data removed]",
      "text/plain": [
       "<Figure size 432x288 with 1 Axes>"
      ]
     },
     "metadata": {},
     "output_type": "display_data"
    }
   ],
   "source": [
    "from wordcloud import STOPWORDS\n",
    "\n",
    "wc = WordCloud(background_color=\"white\", max_words=2000,\n",
    "                max_font_size=256,stopwords=['festive','this','about'],\n",
    "               random_state=42, width=500, height=500)\n",
    "wc.generate(str(p['text_clean']))\n",
    "plt.imshow(wc, interpolation=\"bilinear\")\n",
    "plt.axis('off')\n",
    "plt.show()"
   ]
  },
  {
   "cell_type": "code",
   "execution_count": 57,
   "id": "6d307db1",
   "metadata": {},
   "outputs": [],
   "source": [
    "from PIL import Image\n",
    "import numpy as np"
   ]
  },
  {
   "cell_type": "code",
   "execution_count": 58,
   "id": "db2b744c",
   "metadata": {},
   "outputs": [
    {
     "data": {
      "image/png": "[encoded data removed]",
      "text/plain": [
       "<Figure size 432x288 with 1 Axes>"
      ]
     },
     "metadata": {},
     "output_type": "display_data"
    }
   ],
   "source": [
    "mask = np.array(Image.open('C:/Users/HP/Desktop/tweeter.jpg'))\n",
    "wc = WordCloud(stopwords=['festive','this','about'], \n",
    "               mask=mask, background_color=\"white\",\n",
    "               max_words=2000, max_font_size=200,\n",
    "               random_state=42, \n",
    "               )\n",
    "wc.generate(str(p['text_clean']))\n",
    "plt.imshow(wc, interpolation=\"bilinear\")\n",
    "plt.axis('off')\n",
    "plt.show()"
   ]
  },
  {
   "cell_type": "code",
   "execution_count": null,
   "id": "f24aa19d",
   "metadata": {},
   "outputs": [],
   "source": []
  }
 ],
 "metadata": {
  "kernelspec": {
   "display_name": "Python 3 (ipykernel)",
   "language": "python",
   "name": "python3"
  },
  "language_info": {
   "codemirror_mode": {
    "name": "ipython",
    "version": 3
   },
   "file_extension": ".py",
   "mimetype": "text/x-python",
   "name": "python",
   "nbconvert_exporter": "python",
   "pygments_lexer": "ipython3",
   "version": "3.10.1"
  }
 },
 "nbformat": 4,
 "nbformat_minor": 5
}
