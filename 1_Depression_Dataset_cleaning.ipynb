{
 "cells": [
  {
   "cell_type": "code",
   "execution_count": 2,
   "id": "9f895cbc",
   "metadata": {},
   "outputs": [],
   "source": [
    "import pandas as pd\n",
    "import re"
   ]
  },
  {
   "cell_type": "code",
   "execution_count": 3,
   "id": "3a13eef1",
   "metadata": {},
   "outputs": [],
   "source": [
    "#df =  pd.read_csv(\"C:/Users/HP/Downloads/Suicide_Depression_Intensity.csv\")"
   ]
  },
  {
   "cell_type": "code",
   "execution_count": 4,
   "id": "3be8801c",
   "metadata": {},
   "outputs": [],
   "source": [
    "df1 = pd.read_csv(\"tweets_depressed.csv\")\n",
    "df2 = pd.read_csv(\"tweets_depressed1.csv\")\n",
    "df3 = pd.read_csv(\"tweets_depressed2.csv\")\n",
    "df4 = pd.read_csv(\"tweets_depressed3.csv\")\n",
    "df_all = pd.concat([df1, df2,df3,df4])\n"
   ]
  },
  {
   "cell_type": "code",
   "execution_count": 7,
   "id": "aa502b53",
   "metadata": {},
   "outputs": [],
   "source": [
    "#df_all=df"
   ]
  },
  {
   "cell_type": "code",
   "execution_count": 8,
   "id": "f7dc16e9",
   "metadata": {},
   "outputs": [
    {
     "data": {
      "text/plain": [
       "(20000, 12816, 20000, 20000, 72816)"
      ]
     },
     "execution_count": 8,
     "metadata": {},
     "output_type": "execute_result"
    }
   ],
   "source": [
    "# Check for the size of each dataset\n",
    "len(df1), len(df2),len(df3), len(df4), len(df_all)"
   ]
  },
  {
   "cell_type": "code",
   "execution_count": 9,
   "id": "0bd28923",
   "metadata": {},
   "outputs": [],
   "source": [
    "df_all=df_all.drop(['Unnamed: 0'],axis=1)"
   ]
  },
  {
   "cell_type": "code",
   "execution_count": 10,
   "id": "dbcabb66",
   "metadata": {},
   "outputs": [],
   "source": [
    "df_all = df_all.drop_duplicates() "
   ]
  },
  {
   "cell_type": "code",
   "execution_count": 11,
   "id": "15d04ad0",
   "metadata": {},
   "outputs": [
    {
     "data": {
      "text/html": [
       "<div>\n",
       "<style scoped>\n",
       "    .dataframe tbody tr th:only-of-type {\n",
       "        vertical-align: middle;\n",
       "    }\n",
       "\n",
       "    .dataframe tbody tr th {\n",
       "        vertical-align: top;\n",
       "    }\n",
       "\n",
       "    .dataframe thead th {\n",
       "        text-align: right;\n",
       "    }\n",
       "</style>\n",
       "<table border=\"1\" class=\"dataframe\">\n",
       "  <thead>\n",
       "    <tr style=\"text-align: right;\">\n",
       "      <th></th>\n",
       "      <th>Date</th>\n",
       "      <th>User</th>\n",
       "      <th>Location</th>\n",
       "      <th>Tweet</th>\n",
       "    </tr>\n",
       "  </thead>\n",
       "  <tbody>\n",
       "    <tr>\n",
       "      <th>0</th>\n",
       "      <td>2022-12-23 19:43:01+00:00</td>\n",
       "      <td>celesteoliva1</td>\n",
       "      <td>NaN</td>\n",
       "      <td>Sad winners &amp;gt; \\n#depressed #Motivation #cob...</td>\n",
       "    </tr>\n",
       "    <tr>\n",
       "      <th>1</th>\n",
       "      <td>2022-12-23 19:00:49+00:00</td>\n",
       "      <td>coley042216</td>\n",
       "      <td>Charlotte, NC</td>\n",
       "      <td>The holidays after someone passes are the hard...</td>\n",
       "    </tr>\n",
       "    <tr>\n",
       "      <th>2</th>\n",
       "      <td>2022-12-23 18:36:55+00:00</td>\n",
       "      <td>YaedeProd</td>\n",
       "      <td>My thought's</td>\n",
       "      <td>Samples my OCD won't let me use (1/20?) #music...</td>\n",
       "    </tr>\n",
       "    <tr>\n",
       "      <th>3</th>\n",
       "      <td>2022-12-23 18:25:32+00:00</td>\n",
       "      <td>JanKucak</td>\n",
       "      <td>NaN</td>\n",
       "      <td>I just published 5 Surprising Ways to Boost Yo...</td>\n",
       "    </tr>\n",
       "    <tr>\n",
       "      <th>4</th>\n",
       "      <td>2022-12-23 17:46:49+00:00</td>\n",
       "      <td>stonestreetdsns</td>\n",
       "      <td>Melbourne, Victoria</td>\n",
       "      <td>Stick Figure https://t.co/9tZM77FdM3 #depresse...</td>\n",
       "    </tr>\n",
       "    <tr>\n",
       "      <th>...</th>\n",
       "      <td>...</td>\n",
       "      <td>...</td>\n",
       "      <td>...</td>\n",
       "      <td>...</td>\n",
       "    </tr>\n",
       "    <tr>\n",
       "      <th>19995</th>\n",
       "      <td>2022-04-08 13:38:01+00:00</td>\n",
       "      <td>RyanAndSteven</td>\n",
       "      <td>NaN</td>\n",
       "      <td>One of the most human-centered leaders we know...</td>\n",
       "    </tr>\n",
       "    <tr>\n",
       "      <th>19996</th>\n",
       "      <td>2022-04-08 13:31:01+00:00</td>\n",
       "      <td>Nans4Grans</td>\n",
       "      <td>Harpenden, St Albans</td>\n",
       "      <td>Rejuvenation of woman's skin could tackle dise...</td>\n",
       "    </tr>\n",
       "    <tr>\n",
       "      <th>19997</th>\n",
       "      <td>2022-04-08 13:23:00+00:00</td>\n",
       "      <td>KDolanWilliams</td>\n",
       "      <td>Chicago, IL</td>\n",
       "      <td>#Leaders aren't exempt from feeling lonely. In...</td>\n",
       "    </tr>\n",
       "    <tr>\n",
       "      <th>19998</th>\n",
       "      <td>2022-04-08 13:11:12+00:00</td>\n",
       "      <td>MEActNet</td>\n",
       "      <td>Global</td>\n",
       "      <td>Loneliness is certainly not unique to ME but w...</td>\n",
       "    </tr>\n",
       "    <tr>\n",
       "      <th>19999</th>\n",
       "      <td>2022-04-08 12:56:31+00:00</td>\n",
       "      <td>revnhavelka</td>\n",
       "      <td>Columbus, OH</td>\n",
       "      <td>\"You can feel just as lonely by yourself at ho...</td>\n",
       "    </tr>\n",
       "  </tbody>\n",
       "</table>\n",
       "<p>72636 rows × 4 columns</p>\n",
       "</div>"
      ],
      "text/plain": [
       "                            Date             User              Location  \\\n",
       "0      2022-12-23 19:43:01+00:00    celesteoliva1                   NaN   \n",
       "1      2022-12-23 19:00:49+00:00      coley042216         Charlotte, NC   \n",
       "2      2022-12-23 18:36:55+00:00        YaedeProd          My thought's   \n",
       "3      2022-12-23 18:25:32+00:00         JanKucak                   NaN   \n",
       "4      2022-12-23 17:46:49+00:00  stonestreetdsns   Melbourne, Victoria   \n",
       "...                          ...              ...                   ...   \n",
       "19995  2022-04-08 13:38:01+00:00    RyanAndSteven                   NaN   \n",
       "19996  2022-04-08 13:31:01+00:00       Nans4Grans  Harpenden, St Albans   \n",
       "19997  2022-04-08 13:23:00+00:00   KDolanWilliams           Chicago, IL   \n",
       "19998  2022-04-08 13:11:12+00:00         MEActNet                Global   \n",
       "19999  2022-04-08 12:56:31+00:00      revnhavelka          Columbus, OH   \n",
       "\n",
       "                                                   Tweet  \n",
       "0      Sad winners &gt; \\n#depressed #Motivation #cob...  \n",
       "1      The holidays after someone passes are the hard...  \n",
       "2      Samples my OCD won't let me use (1/20?) #music...  \n",
       "3      I just published 5 Surprising Ways to Boost Yo...  \n",
       "4      Stick Figure https://t.co/9tZM77FdM3 #depresse...  \n",
       "...                                                  ...  \n",
       "19995  One of the most human-centered leaders we know...  \n",
       "19996  Rejuvenation of woman's skin could tackle dise...  \n",
       "19997  #Leaders aren't exempt from feeling lonely. In...  \n",
       "19998  Loneliness is certainly not unique to ME but w...  \n",
       "19999  \"You can feel just as lonely by yourself at ho...  \n",
       "\n",
       "[72636 rows x 4 columns]"
      ]
     },
     "execution_count": 11,
     "metadata": {},
     "output_type": "execute_result"
    }
   ],
   "source": [
    "\n",
    "df_all"
   ]
  },
  {
   "cell_type": "code",
   "execution_count": 12,
   "id": "2088582a",
   "metadata": {},
   "outputs": [],
   "source": [
    "def extract_hash_tags(s):\n",
    "    return set(part[1:] for part in s.split() if part.startswith('#'))"
   ]
  },
  {
   "cell_type": "code",
   "execution_count": 14,
   "id": "9c28c877",
   "metadata": {},
   "outputs": [
    {
     "name": "stdout",
     "output_type": "stream",
     "text": [
      "\\Extracting#@word from dataframe columns:\n",
      "                            Date             User              Location  \\\n",
      "0      2022-12-23 19:43:01+00:00    celesteoliva1                   NaN   \n",
      "1      2022-12-23 19:00:49+00:00      coley042216         Charlotte, NC   \n",
      "2      2022-12-23 18:36:55+00:00        YaedeProd          My thought's   \n",
      "3      2022-12-23 18:25:32+00:00         JanKucak                   NaN   \n",
      "4      2022-12-23 17:46:49+00:00  stonestreetdsns   Melbourne, Victoria   \n",
      "...                          ...              ...                   ...   \n",
      "19995  2022-04-08 13:38:01+00:00    RyanAndSteven                   NaN   \n",
      "19996  2022-04-08 13:31:01+00:00       Nans4Grans  Harpenden, St Albans   \n",
      "19997  2022-04-08 13:23:00+00:00   KDolanWilliams           Chicago, IL   \n",
      "19998  2022-04-08 13:11:12+00:00         MEActNet                Global   \n",
      "19999  2022-04-08 12:56:31+00:00      revnhavelka          Columbus, OH   \n",
      "\n",
      "                                                   Tweet  \\\n",
      "0      Sad winners &gt; \\n#depressed #Motivation #cob...   \n",
      "1      The holidays after someone passes are the hard...   \n",
      "2      Samples my OCD won't let me use (1/20?) #music...   \n",
      "3      I just published 5 Surprising Ways to Boost Yo...   \n",
      "4      Stick Figure https://t.co/9tZM77FdM3 #depresse...   \n",
      "...                                                  ...   \n",
      "19995  One of the most human-centered leaders we know...   \n",
      "19996  Rejuvenation of woman's skin could tackle dise...   \n",
      "19997  #Leaders aren't exempt from feeling lonely. In...   \n",
      "19998  Loneliness is certainly not unique to ME but w...   \n",
      "19999  \"You can feel just as lonely by yourself at ho...   \n",
      "\n",
      "                                               hash_word  \n",
      "0                       depressed Motivation cobra sigma  \n",
      "1                sadonchristmas depressed doitforthwkids  \n",
      "2      music musicproducer indiemusic indieartist rel...  \n",
      "3      mentalhealth mentalillness Depresion depressed...  \n",
      "4      depressed depression sad stickfigure drawing s...  \n",
      "...                                                  ...  \n",
      "19995  loneliness mentalhealth connection belonging w...  \n",
      "19996  nans4grans olderpeople ageing seniors Harpende...  \n",
      "19997                         Leaders loneliness mentors  \n",
      "19998                          loneliness ChronicIllness  \n",
      "19999         LeadershipDevelopment Loneliness Community  \n",
      "\n",
      "[72636 rows x 5 columns]\n"
     ]
    }
   ],
   "source": [
    "def find_hash(text):\n",
    "    hword=re.findall(r'(?<=#)\\w+',text)\n",
    "    return \" \".join(hword)\n",
    "df_all['hash_word']=df_all['Tweet'].apply(lambda x: find_hash(x))\n",
    "print(\"\\Extracting#@word from dataframe columns:\")\n",
    "print(df_all)\n",
    "    "
   ]
  },
  {
   "cell_type": "code",
   "execution_count": 15,
   "id": "8e7d876b",
   "metadata": {},
   "outputs": [
    {
     "data": {
      "text/html": [
       "<div>\n",
       "<style scoped>\n",
       "    .dataframe tbody tr th:only-of-type {\n",
       "        vertical-align: middle;\n",
       "    }\n",
       "\n",
       "    .dataframe tbody tr th {\n",
       "        vertical-align: top;\n",
       "    }\n",
       "\n",
       "    .dataframe thead th {\n",
       "        text-align: right;\n",
       "    }\n",
       "</style>\n",
       "<table border=\"1\" class=\"dataframe\">\n",
       "  <thead>\n",
       "    <tr style=\"text-align: right;\">\n",
       "      <th></th>\n",
       "      <th>Date</th>\n",
       "      <th>User</th>\n",
       "      <th>Location</th>\n",
       "      <th>Tweet</th>\n",
       "      <th>hash_word</th>\n",
       "    </tr>\n",
       "  </thead>\n",
       "  <tbody>\n",
       "    <tr>\n",
       "      <th>0</th>\n",
       "      <td>2022-12-23 19:43:01+00:00</td>\n",
       "      <td>celesteoliva1</td>\n",
       "      <td>NaN</td>\n",
       "      <td>Sad winners &amp;gt; \\n#depressed #Motivation #cob...</td>\n",
       "      <td>depressed Motivation cobra sigma</td>\n",
       "    </tr>\n",
       "    <tr>\n",
       "      <th>1</th>\n",
       "      <td>2022-12-23 19:00:49+00:00</td>\n",
       "      <td>coley042216</td>\n",
       "      <td>Charlotte, NC</td>\n",
       "      <td>The holidays after someone passes are the hard...</td>\n",
       "      <td>sadonchristmas depressed doitforthwkids</td>\n",
       "    </tr>\n",
       "    <tr>\n",
       "      <th>2</th>\n",
       "      <td>2022-12-23 18:36:55+00:00</td>\n",
       "      <td>YaedeProd</td>\n",
       "      <td>My thought's</td>\n",
       "      <td>Samples my OCD won't let me use (1/20?) #music...</td>\n",
       "      <td>music musicproducer indiemusic indieartist rel...</td>\n",
       "    </tr>\n",
       "    <tr>\n",
       "      <th>3</th>\n",
       "      <td>2022-12-23 18:25:32+00:00</td>\n",
       "      <td>JanKucak</td>\n",
       "      <td>NaN</td>\n",
       "      <td>I just published 5 Surprising Ways to Boost Yo...</td>\n",
       "      <td>mentalhealth mentalillness Depresion depressed...</td>\n",
       "    </tr>\n",
       "    <tr>\n",
       "      <th>4</th>\n",
       "      <td>2022-12-23 17:46:49+00:00</td>\n",
       "      <td>stonestreetdsns</td>\n",
       "      <td>Melbourne, Victoria</td>\n",
       "      <td>Stick Figure https://t.co/9tZM77FdM3 #depresse...</td>\n",
       "      <td>depressed depression sad stickfigure drawing s...</td>\n",
       "    </tr>\n",
       "    <tr>\n",
       "      <th>...</th>\n",
       "      <td>...</td>\n",
       "      <td>...</td>\n",
       "      <td>...</td>\n",
       "      <td>...</td>\n",
       "      <td>...</td>\n",
       "    </tr>\n",
       "    <tr>\n",
       "      <th>19995</th>\n",
       "      <td>2022-04-08 13:38:01+00:00</td>\n",
       "      <td>RyanAndSteven</td>\n",
       "      <td>NaN</td>\n",
       "      <td>One of the most human-centered leaders we know...</td>\n",
       "      <td>loneliness mentalhealth connection belonging w...</td>\n",
       "    </tr>\n",
       "    <tr>\n",
       "      <th>19996</th>\n",
       "      <td>2022-04-08 13:31:01+00:00</td>\n",
       "      <td>Nans4Grans</td>\n",
       "      <td>Harpenden, St Albans</td>\n",
       "      <td>Rejuvenation of woman's skin could tackle dise...</td>\n",
       "      <td>nans4grans olderpeople ageing seniors Harpende...</td>\n",
       "    </tr>\n",
       "    <tr>\n",
       "      <th>19997</th>\n",
       "      <td>2022-04-08 13:23:00+00:00</td>\n",
       "      <td>KDolanWilliams</td>\n",
       "      <td>Chicago, IL</td>\n",
       "      <td>#Leaders aren't exempt from feeling lonely. In...</td>\n",
       "      <td>Leaders loneliness mentors</td>\n",
       "    </tr>\n",
       "    <tr>\n",
       "      <th>19998</th>\n",
       "      <td>2022-04-08 13:11:12+00:00</td>\n",
       "      <td>MEActNet</td>\n",
       "      <td>Global</td>\n",
       "      <td>Loneliness is certainly not unique to ME but w...</td>\n",
       "      <td>loneliness ChronicIllness</td>\n",
       "    </tr>\n",
       "    <tr>\n",
       "      <th>19999</th>\n",
       "      <td>2022-04-08 12:56:31+00:00</td>\n",
       "      <td>revnhavelka</td>\n",
       "      <td>Columbus, OH</td>\n",
       "      <td>\"You can feel just as lonely by yourself at ho...</td>\n",
       "      <td>LeadershipDevelopment Loneliness Community</td>\n",
       "    </tr>\n",
       "  </tbody>\n",
       "</table>\n",
       "<p>72636 rows × 5 columns</p>\n",
       "</div>"
      ],
      "text/plain": [
       "                            Date             User              Location  \\\n",
       "0      2022-12-23 19:43:01+00:00    celesteoliva1                   NaN   \n",
       "1      2022-12-23 19:00:49+00:00      coley042216         Charlotte, NC   \n",
       "2      2022-12-23 18:36:55+00:00        YaedeProd          My thought's   \n",
       "3      2022-12-23 18:25:32+00:00         JanKucak                   NaN   \n",
       "4      2022-12-23 17:46:49+00:00  stonestreetdsns   Melbourne, Victoria   \n",
       "...                          ...              ...                   ...   \n",
       "19995  2022-04-08 13:38:01+00:00    RyanAndSteven                   NaN   \n",
       "19996  2022-04-08 13:31:01+00:00       Nans4Grans  Harpenden, St Albans   \n",
       "19997  2022-04-08 13:23:00+00:00   KDolanWilliams           Chicago, IL   \n",
       "19998  2022-04-08 13:11:12+00:00         MEActNet                Global   \n",
       "19999  2022-04-08 12:56:31+00:00      revnhavelka          Columbus, OH   \n",
       "\n",
       "                                                   Tweet  \\\n",
       "0      Sad winners &gt; \\n#depressed #Motivation #cob...   \n",
       "1      The holidays after someone passes are the hard...   \n",
       "2      Samples my OCD won't let me use (1/20?) #music...   \n",
       "3      I just published 5 Surprising Ways to Boost Yo...   \n",
       "4      Stick Figure https://t.co/9tZM77FdM3 #depresse...   \n",
       "...                                                  ...   \n",
       "19995  One of the most human-centered leaders we know...   \n",
       "19996  Rejuvenation of woman's skin could tackle dise...   \n",
       "19997  #Leaders aren't exempt from feeling lonely. In...   \n",
       "19998  Loneliness is certainly not unique to ME but w...   \n",
       "19999  \"You can feel just as lonely by yourself at ho...   \n",
       "\n",
       "                                               hash_word  \n",
       "0                       depressed Motivation cobra sigma  \n",
       "1                sadonchristmas depressed doitforthwkids  \n",
       "2      music musicproducer indiemusic indieartist rel...  \n",
       "3      mentalhealth mentalillness Depresion depressed...  \n",
       "4      depressed depression sad stickfigure drawing s...  \n",
       "...                                                  ...  \n",
       "19995  loneliness mentalhealth connection belonging w...  \n",
       "19996  nans4grans olderpeople ageing seniors Harpende...  \n",
       "19997                         Leaders loneliness mentors  \n",
       "19998                          loneliness ChronicIllness  \n",
       "19999         LeadershipDevelopment Loneliness Community  \n",
       "\n",
       "[72636 rows x 5 columns]"
      ]
     },
     "execution_count": 15,
     "metadata": {},
     "output_type": "execute_result"
    }
   ],
   "source": [
    "df_all"
   ]
  },
  {
   "cell_type": "code",
   "execution_count": 29,
   "id": "1544fbb3",
   "metadata": {},
   "outputs": [
    {
     "data": {
      "text/plain": [
       "                                                                                                                                                                                                                    9217\n",
       "depressed                                                                                                                                                                                                           5281\n",
       "吐くフィルム                                                                                                                                                                                                              4379\n",
       "hopelessness                                                                                                                                                                                                        1741\n",
       "loneliness                                                                                                                                                                                                          1287\n",
       "                                                                                                                                                                                                                    ... \n",
       "depression sad depressed sadquotes lifesucks realityoflife fakesmile hatemylife depressedquotes depressedboy suicide depressedgirl iwannadie leavemealone feelingsad cry alone emotional reality memes darkmemes      18\n",
       "TodaysQuestion teslaAppStore loneliness activity mate                                                                                                                                                                 17\n",
       "depression depressed women selflove selfcare girl SuicidePrevention SuicideAwareness SelfHarmAndMe                                                                                                                    17\n",
       "life hope depressed                                                                                                                                                                                                   17\n",
       "depression depressed NotJustSad                                                                                                                                                                                       17\n",
       "Name: hash_word, Length: 100, dtype: int64"
      ]
     },
     "execution_count": 29,
     "metadata": {},
     "output_type": "execute_result"
    }
   ],
   "source": [
    "df_all.hash_word.value_counts().head(100)"
   ]
  },
  {
   "cell_type": "code",
   "execution_count": 22,
   "id": "e1349027",
   "metadata": {},
   "outputs": [],
   "source": [
    "#selection_to_remove = [\"Metallica\",\"Entertainment\",\"Metallica ScreamingSuicide NewSong 72SeasonsAlbum FifthMember MetFans Meâ\",\n",
    "#                      \"Akathisia SuicidePrevention\", \"wellnessjourney faith SuicidePrevention elevated\", \"wellnessjourney faith SuicidePrevention elevated\"\n",
    "#                      , \"ArrestSwatiMaliwal\"]\n",
    "\n",
    "selection_to_remove = [ \"MentalHealthAwarenessWeek\",\"MentalHealthAwarenessWeek2022\", \"吐くフィルム \", \"NFTCommunity\", \"MentalHealthMatters\", \"LonelinessAwarenessWeek\", \"Motivation\", \"LeadershipDevelopment\",\"Fiction\", \"health\", \"happiness\", \"mentalillness\", \"happy\", \"joy\", \"wellbeing\"]"
   ]
  },
  {
   "cell_type": "code",
   "execution_count": 23,
   "id": "213ce900",
   "metadata": {},
   "outputs": [],
   "source": [
    "## 1. remove entries that contain positive, or medical sounding tags\n"
   ]
  },
  {
   "cell_type": "code",
   "execution_count": 25,
   "id": "be5ec1e0",
   "metadata": {},
   "outputs": [
    {
     "data": {
      "text/plain": [
       "19967    67 days to Loneliness awareness week. The Gold...\n",
       "19969    Had a panic attack in the middle of the night…...\n",
       "19970    Loved Ones Gone — Hope’s Return. An Abandoned ...\n",
       "19971    Getting Rid of #Loneliness without Getting The...\n",
       "19973    How to reduce loneliness: Meaningful activitie...\n",
       "19988    Every day @THFNbefriending are #befriending - ...\n",
       "19991    It’s okay to be not okay 🤷🏼‍♀️😛\\n#women #amwri...\n",
       "19994    #Mental Health Awareness Week 9-15 May 2022 - ...\n",
       "19995    One of the most human-centered leaders we know...\n",
       "19999    \"You can feel just as lonely by yourself at ho...\n",
       "Name: Tweet, dtype: object"
      ]
     },
     "execution_count": 25,
     "metadata": {},
     "output_type": "execute_result"
    }
   ],
   "source": [
    "mask1 = df_all.hash_word.apply(lambda x: any(item for item in selection_to_remove if item in x))\n",
    "df_all[mask1].Tweet.tail(10)"
   ]
  },
  {
   "cell_type": "code",
   "execution_count": 27,
   "id": "52244636",
   "metadata": {},
   "outputs": [
    {
     "data": {
      "text/plain": [
       "1     The holidays after someone passes are the hard...\n",
       "2     Samples my OCD won't let me use (1/20?) #music...\n",
       "4     Stick Figure https://t.co/9tZM77FdM3 #depresse...\n",
       "6     This is about how festive I feel right now #de...\n",
       "7     COBRA on MOTIVATION BY DEPRESSION\\n\\n#cobra #d...\n",
       "8     @FiverrSupport @AqibMah35613691 How can we del...\n",
       "10    Not all #depressions are the same and it is im...\n",
       "12    ¿Sientes que estás cayendo más y más en la osc...\n",
       "13    Billionaire finds the cure to depression! #Cob...\n",
       "15    Isaiah 40, a (brief) summary:\\n\\n#Christmas #C...\n",
       "Name: Tweet, dtype: object"
      ]
     },
     "execution_count": 27,
     "metadata": {},
     "output_type": "execute_result"
    }
   ],
   "source": [
    "# review the result of remving certain tags\n",
    "df_all[mask1==False].Tweet.head(10)"
   ]
  },
  {
   "cell_type": "code",
   "execution_count": 28,
   "id": "47514de2",
   "metadata": {},
   "outputs": [
    {
     "data": {
      "text/plain": [
       "61148"
      ]
     },
     "execution_count": 28,
     "metadata": {},
     "output_type": "execute_result"
    }
   ],
   "source": [
    "# above results look good, let's apply the mask1\n",
    "df_all = df_all[mask1==False]\n",
    "len (df_all)"
   ]
  },
  {
   "cell_type": "code",
   "execution_count": 30,
   "id": "da186f20",
   "metadata": {},
   "outputs": [],
   "source": [
    "## 2. remove entries with more than five hashtags, as it may be promotional messages"
   ]
  },
  {
   "cell_type": "code",
   "execution_count": 31,
   "id": "65a89fab",
   "metadata": {},
   "outputs": [],
   "source": [
    "mask2 = df_all.hash_word.apply(lambda x: x.count(\" \") < 6)"
   ]
  },
  {
   "cell_type": "code",
   "execution_count": 32,
   "id": "0583c338",
   "metadata": {},
   "outputs": [],
   "source": [
    "# applying the mask2\n",
    "df_all = df_all[mask2]"
   ]
  },
  {
   "cell_type": "code",
   "execution_count": 33,
   "id": "e19feaaf",
   "metadata": {},
   "outputs": [
    {
     "data": {
      "text/plain": [
       "49869"
      ]
     },
     "execution_count": 33,
     "metadata": {},
     "output_type": "execute_result"
    }
   ],
   "source": [
    "#Check dataset size \n",
    "len(df_all)"
   ]
  },
  {
   "cell_type": "code",
   "execution_count": 34,
   "id": "c8b501a4",
   "metadata": {},
   "outputs": [
    {
     "data": {
      "text/html": [
       "<div>\n",
       "<style scoped>\n",
       "    .dataframe tbody tr th:only-of-type {\n",
       "        vertical-align: middle;\n",
       "    }\n",
       "\n",
       "    .dataframe tbody tr th {\n",
       "        vertical-align: top;\n",
       "    }\n",
       "\n",
       "    .dataframe thead th {\n",
       "        text-align: right;\n",
       "    }\n",
       "</style>\n",
       "<table border=\"1\" class=\"dataframe\">\n",
       "  <thead>\n",
       "    <tr style=\"text-align: right;\">\n",
       "      <th></th>\n",
       "      <th>Date</th>\n",
       "      <th>User</th>\n",
       "      <th>Location</th>\n",
       "      <th>Tweet</th>\n",
       "      <th>hash_word</th>\n",
       "    </tr>\n",
       "  </thead>\n",
       "  <tbody>\n",
       "    <tr>\n",
       "      <th>1</th>\n",
       "      <td>2022-12-23 19:00:49+00:00</td>\n",
       "      <td>coley042216</td>\n",
       "      <td>Charlotte, NC</td>\n",
       "      <td>The holidays after someone passes are the hard...</td>\n",
       "      <td>sadonchristmas depressed doitforthwkids</td>\n",
       "    </tr>\n",
       "    <tr>\n",
       "      <th>6</th>\n",
       "      <td>2022-12-23 17:39:14+00:00</td>\n",
       "      <td>WMurphyJerrett</td>\n",
       "      <td>South West, England</td>\n",
       "      <td>This is about how festive I feel right now #de...</td>\n",
       "      <td>depressed actor</td>\n",
       "    </tr>\n",
       "    <tr>\n",
       "      <th>8</th>\n",
       "      <td>2022-12-23 17:05:55+00:00</td>\n",
       "      <td>Abrar81159813</td>\n",
       "      <td>Punjab</td>\n",
       "      <td>@FiverrSupport @AqibMah35613691 How can we del...</td>\n",
       "      <td>depressed</td>\n",
       "    </tr>\n",
       "    <tr>\n",
       "      <th>10</th>\n",
       "      <td>2022-12-23 16:34:07+00:00</td>\n",
       "      <td>shannonpeel1</td>\n",
       "      <td>Vancouver, British Columbia</td>\n",
       "      <td>Not all #depressions are the same and it is im...</td>\n",
       "      <td>depressions depressed depression</td>\n",
       "    </tr>\n",
       "    <tr>\n",
       "      <th>12</th>\n",
       "      <td>2022-12-23 16:08:03+00:00</td>\n",
       "      <td>NoiseOne5</td>\n",
       "      <td>NaN</td>\n",
       "      <td>¿Sientes que estás cayendo más y más en la osc...</td>\n",
       "      <td>Depresion sad depressed suicidio oyasumipunpun</td>\n",
       "    </tr>\n",
       "  </tbody>\n",
       "</table>\n",
       "</div>"
      ],
      "text/plain": [
       "                         Date            User                     Location  \\\n",
       "1   2022-12-23 19:00:49+00:00     coley042216                Charlotte, NC   \n",
       "6   2022-12-23 17:39:14+00:00  WMurphyJerrett          South West, England   \n",
       "8   2022-12-23 17:05:55+00:00   Abrar81159813                       Punjab   \n",
       "10  2022-12-23 16:34:07+00:00    shannonpeel1  Vancouver, British Columbia   \n",
       "12  2022-12-23 16:08:03+00:00       NoiseOne5                          NaN   \n",
       "\n",
       "                                                Tweet  \\\n",
       "1   The holidays after someone passes are the hard...   \n",
       "6   This is about how festive I feel right now #de...   \n",
       "8   @FiverrSupport @AqibMah35613691 How can we del...   \n",
       "10  Not all #depressions are the same and it is im...   \n",
       "12  ¿Sientes que estás cayendo más y más en la osc...   \n",
       "\n",
       "                                         hash_word  \n",
       "1          sadonchristmas depressed doitforthwkids  \n",
       "6                                  depressed actor  \n",
       "8                                        depressed  \n",
       "10                depressions depressed depression  \n",
       "12  Depresion sad depressed suicidio oyasumipunpun  "
      ]
     },
     "execution_count": 34,
     "metadata": {},
     "output_type": "execute_result"
    }
   ],
   "source": [
    "df_all.head()"
   ]
  },
  {
   "cell_type": "code",
   "execution_count": 35,
   "id": "4e6684e2",
   "metadata": {},
   "outputs": [],
   "source": [
    "## 3. remove entries with less than x chars / words"
   ]
  },
  {
   "cell_type": "code",
   "execution_count": 37,
   "id": "94fe2f23",
   "metadata": {},
   "outputs": [],
   "source": [
    "df_all[\"Tweet\"] = df_all[\"Tweet\"].apply(lambda x: re.sub(r'#\\w+', '', x))\n",
    "   \n",
    "df_all[\"Tweet\"] = df_all[\"Tweet\"].apply(lambda x: re.sub(r'@\\w+' , '', x))"
   ]
  },
  {
   "cell_type": "code",
   "execution_count": 38,
   "id": "361eb1ab",
   "metadata": {},
   "outputs": [
    {
     "name": "stdout",
     "output_type": "stream",
     "text": [
      "1        The holidays after someone passes are the hard...\n",
      "6           This is about how festive I feel right now    \n",
      "8          How can we deliver order without getting on ...\n",
      "10       Not all  are the same and it is important to u...\n",
      "12       ¿Sientes que estás cayendo más y más en la osc...\n",
      "                               ...                        \n",
      "19987    Media Lounge\\n Day 8\\n \\n\\nYou will (Not) Rema...\n",
      "19992                              Courage To Act by      \n",
      "19993                                              To  .  \n",
      "19997     aren't exempt from feeling lonely. In fact, e...\n",
      "19998    Loneliness is certainly not unique to ME but w...\n",
      "Name: Tweet, Length: 49869, dtype: object\n"
     ]
    },
    {
     "name": "stderr",
     "output_type": "stream",
     "text": [
      "C:\\Users\\HP\\AppData\\Local\\Temp\\ipykernel_13184\\4263778418.py:3: FutureWarning: The default value of regex will change from True to False in a future version.\n",
      "  df_all['Tweet'] = df_all['Tweet'].str.replace('http[s]?://(?:[a-zA-Z]|[0-9]|[$-_@.&+]|[!*\\(\\),]|(?:%[0-9a-fA-F][0-9a-fA-F]))+', ' ')\n"
     ]
    }
   ],
   "source": [
    "def clean_data(dataframe):\n",
    "#replace URL of a text\n",
    "    df_all['Tweet'] = df_all['Tweet'].str.replace('http[s]?://(?:[a-zA-Z]|[0-9]|[$-_@.&+]|[!*\\(\\),]|(?:%[0-9a-fA-F][0-9a-fA-F]))+', ' ')\n",
    "\n",
    "clean_data(df_all)\n",
    "print(df_all['Tweet']);"
   ]
  },
  {
   "cell_type": "code",
   "execution_count": 40,
   "id": "5747bd4a",
   "metadata": {},
   "outputs": [],
   "source": [
    "mask4a = df_all.Tweet.apply(lambda x: len(x) > 25)"
   ]
  },
  {
   "cell_type": "code",
   "execution_count": 41,
   "id": "aa981862",
   "metadata": {},
   "outputs": [
    {
     "data": {
      "text/plain": [
       "44235"
      ]
     },
     "execution_count": 41,
     "metadata": {},
     "output_type": "execute_result"
    }
   ],
   "source": [
    "df_all = df_all[mask4a]\n",
    "len(df_all)"
   ]
  },
  {
   "cell_type": "code",
   "execution_count": 43,
   "id": "1230e0d3",
   "metadata": {},
   "outputs": [],
   "source": [
    "\n",
    "mask4b = df_all.Tweet.apply(lambda x: x.count(\" \") > 5)"
   ]
  },
  {
   "cell_type": "code",
   "execution_count": 44,
   "id": "78bfce38",
   "metadata": {},
   "outputs": [
    {
     "data": {
      "text/plain": [
       "30791"
      ]
     },
     "execution_count": 44,
     "metadata": {},
     "output_type": "execute_result"
    }
   ],
   "source": [
    "df_all = df_all[mask4b]\n",
    "len(df_all)"
   ]
  },
  {
   "cell_type": "code",
   "execution_count": 46,
   "id": "ed6516a1",
   "metadata": {},
   "outputs": [
    {
     "data": {
      "text/plain": [
       "1        The holidays after someone passes are the hard...\n",
       "6           This is about how festive I feel right now    \n",
       "8          How can we deliver order without getting on ...\n",
       "10       Not all  are the same and it is important to u...\n",
       "12       ¿Sientes que estás cayendo más y más en la osc...\n",
       "                               ...                        \n",
       "19983    Feeling really positive about my new Women's S...\n",
       "19984     in London: what do we know and where are the ...\n",
       "19987    Media Lounge\\n Day 8\\n \\n\\nYou will (Not) Rema...\n",
       "19997     aren't exempt from feeling lonely. In fact, e...\n",
       "19998    Loneliness is certainly not unique to ME but w...\n",
       "Name: Tweet, Length: 30791, dtype: object"
      ]
     },
     "execution_count": 46,
     "metadata": {},
     "output_type": "execute_result"
    }
   ],
   "source": [
    "df_all.Tweet"
   ]
  },
  {
   "cell_type": "code",
   "execution_count": 47,
   "id": "f90616e4",
   "metadata": {},
   "outputs": [],
   "source": [
    "df_all.to_csv(\"Depressed_Tweet_NotSuicide.csv\")\n"
   ]
  },
  {
   "cell_type": "code",
   "execution_count": null,
   "id": "74b66886",
   "metadata": {},
   "outputs": [],
   "source": []
  },
  {
   "cell_type": "code",
   "execution_count": null,
   "id": "d845700c",
   "metadata": {},
   "outputs": [],
   "source": []
  },
  {
   "cell_type": "code",
   "execution_count": null,
   "id": "e7f1805a",
   "metadata": {},
   "outputs": [],
   "source": []
  },
  {
   "cell_type": "code",
   "execution_count": null,
   "id": "af8b69da",
   "metadata": {},
   "outputs": [],
   "source": []
  },
  {
   "cell_type": "code",
   "execution_count": null,
   "id": "e23ee53f",
   "metadata": {},
   "outputs": [],
   "source": []
  }
 ],
 "metadata": {
  "kernelspec": {
   "display_name": "Python 3 (ipykernel)",
   "language": "python",
   "name": "python3"
  },
  "language_info": {
   "codemirror_mode": {
    "name": "ipython",
    "version": 3
   },
   "file_extension": ".py",
   "mimetype": "text/x-python",
   "name": "python",
   "nbconvert_exporter": "python",
   "pygments_lexer": "ipython3",
   "version": "3.10.1"
  }
 },
 "nbformat": 4,
 "nbformat_minor": 5
}
