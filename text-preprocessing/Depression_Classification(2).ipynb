{
 "cells": [
  {
   "cell_type": "code",
   "execution_count": 4,
   "id": "d16cf5ff",
   "metadata": {},
   "outputs": [],
   "source": [
    "import numpy as np\n",
    "import matplotlib.pyplot as plt\n",
    "#import keras\n",
    "import pandas as pd"
   ]
  },
  {
   "cell_type": "code",
   "execution_count": 5,
   "id": "fe49fc7e",
   "metadata": {},
   "outputs": [],
   "source": [
    "dp = pd.read_csv(\"C:/Users/HP/Desktop/depression/Depression_intensity_final.csv\", encoding=\"ISO-8859-1\")\n",
    "#dp =dp.head(10000)\n",
    "#dp\n",
    "    \n",
    "    \n"
   ]
  },
  {
   "cell_type": "code",
   "execution_count": 6,
   "id": "5966ea86",
   "metadata": {},
   "outputs": [],
   "source": [
    "#x=dp[dp['Label']==1]\n",
    "#x"
   ]
  },
  {
   "cell_type": "code",
   "execution_count": 7,
   "id": "8351c696",
   "metadata": {},
   "outputs": [
    {
     "data": {
      "text/html": [
       "<div>\n",
       "<style scoped>\n",
       "    .dataframe tbody tr th:only-of-type {\n",
       "        vertical-align: middle;\n",
       "    }\n",
       "\n",
       "    .dataframe tbody tr th {\n",
       "        vertical-align: top;\n",
       "    }\n",
       "\n",
       "    .dataframe thead th {\n",
       "        text-align: right;\n",
       "    }\n",
       "</style>\n",
       "<table border=\"1\" class=\"dataframe\">\n",
       "  <thead>\n",
       "    <tr style=\"text-align: right;\">\n",
       "      <th></th>\n",
       "      <th>Unnamed: 0.1</th>\n",
       "      <th>Unnamed: 0</th>\n",
       "      <th>Text</th>\n",
       "      <th>Label</th>\n",
       "    </tr>\n",
       "  </thead>\n",
       "  <tbody>\n",
       "    <tr>\n",
       "      <th>186</th>\n",
       "      <td>186</td>\n",
       "      <td>206.0</td>\n",
       "      <td>I know someone that took 3 years to get over d...</td>\n",
       "      <td>0</td>\n",
       "    </tr>\n",
       "    <tr>\n",
       "      <th>14924</th>\n",
       "      <td>12736</td>\n",
       "      <td>NaN</td>\n",
       "      <td>missin my mom &amp;amp; dad  they went out w/out me</td>\n",
       "      <td>0</td>\n",
       "    </tr>\n",
       "    <tr>\n",
       "      <th>3748</th>\n",
       "      <td>1560</td>\n",
       "      <td>NaN</td>\n",
       "      <td>@JaqStone and @Lurquer Thank you for spreading...</td>\n",
       "      <td>0</td>\n",
       "    </tr>\n",
       "    <tr>\n",
       "      <th>5907</th>\n",
       "      <td>3719</td>\n",
       "      <td>NaN</td>\n",
       "      <td>@MakeupLoveer  thank u sweetie  have a fun day...</td>\n",
       "      <td>0</td>\n",
       "    </tr>\n",
       "    <tr>\n",
       "      <th>30260</th>\n",
       "      <td>28072</td>\n",
       "      <td>NaN</td>\n",
       "      <td>@YourSavvyVA Same. Have a full day of tasks an...</td>\n",
       "      <td>0</td>\n",
       "    </tr>\n",
       "    <tr>\n",
       "      <th>...</th>\n",
       "      <td>...</td>\n",
       "      <td>...</td>\n",
       "      <td>...</td>\n",
       "      <td>...</td>\n",
       "    </tr>\n",
       "    <tr>\n",
       "      <th>45263</th>\n",
       "      <td>43075</td>\n",
       "      <td>NaN</td>\n",
       "      <td>Already looking forward to Chelsea Chelsea Ban...</td>\n",
       "      <td>0</td>\n",
       "    </tr>\n",
       "    <tr>\n",
       "      <th>15956</th>\n",
       "      <td>13768</td>\n",
       "      <td>NaN</td>\n",
       "      <td>just woke up! am meant to be at work right now...</td>\n",
       "      <td>0</td>\n",
       "    </tr>\n",
       "    <tr>\n",
       "      <th>9457</th>\n",
       "      <td>7269</td>\n",
       "      <td>NaN</td>\n",
       "      <td>@bunnyBISOUS so sorry but I guess it is NYC</td>\n",
       "      <td>0</td>\n",
       "    </tr>\n",
       "    <tr>\n",
       "      <th>22589</th>\n",
       "      <td>20401</td>\n",
       "      <td>NaN</td>\n",
       "      <td>@19fischi75 hav a nice day Sweetheart</td>\n",
       "      <td>0</td>\n",
       "    </tr>\n",
       "    <tr>\n",
       "      <th>43963</th>\n",
       "      <td>41775</td>\n",
       "      <td>NaN</td>\n",
       "      <td>@mantic59 Cool link, but you got an extra T in...</td>\n",
       "      <td>0</td>\n",
       "    </tr>\n",
       "  </tbody>\n",
       "</table>\n",
       "<p>2146 rows × 4 columns</p>\n",
       "</div>"
      ],
      "text/plain": [
       "       Unnamed: 0.1  Unnamed: 0  \\\n",
       "186             186       206.0   \n",
       "14924         12736         NaN   \n",
       "3748           1560         NaN   \n",
       "5907           3719         NaN   \n",
       "30260         28072         NaN   \n",
       "...             ...         ...   \n",
       "45263         43075         NaN   \n",
       "15956         13768         NaN   \n",
       "9457           7269         NaN   \n",
       "22589         20401         NaN   \n",
       "43963         41775         NaN   \n",
       "\n",
       "                                                    Text  Label  \n",
       "186    I know someone that took 3 years to get over d...      0  \n",
       "14924    missin my mom &amp; dad  they went out w/out me      0  \n",
       "3748   @JaqStone and @Lurquer Thank you for spreading...      0  \n",
       "5907   @MakeupLoveer  thank u sweetie  have a fun day...      0  \n",
       "30260  @YourSavvyVA Same. Have a full day of tasks an...      0  \n",
       "...                                                  ...    ...  \n",
       "45263  Already looking forward to Chelsea Chelsea Ban...      0  \n",
       "15956  just woke up! am meant to be at work right now...      0  \n",
       "9457        @bunnyBISOUS so sorry but I guess it is NYC       0  \n",
       "22589             @19fischi75 hav a nice day Sweetheart       0  \n",
       "43963  @mantic59 Cool link, but you got an extra T in...      0  \n",
       "\n",
       "[2146 rows x 4 columns]"
      ]
     },
     "execution_count": 7,
     "metadata": {},
     "output_type": "execute_result"
    }
   ],
   "source": [
    "x1=dp[dp['Label']==0]\n",
    "x1\n",
    "x1 = x1.sample(frac=0.05)\n",
    "x1"
   ]
  },
  {
   "cell_type": "code",
   "execution_count": 9,
   "id": "2c0e1af4",
   "metadata": {},
   "outputs": [
    {
     "name": "stdout",
     "output_type": "stream",
     "text": [
      "^C\n"
     ]
    }
   ],
   "source": [
    "!pip install tensorflow"
   ]
  },
  {
   "cell_type": "code",
   "execution_count": null,
   "id": "08e6af31",
   "metadata": {},
   "outputs": [],
   "source": []
  },
  {
   "cell_type": "code",
   "execution_count": 11,
   "id": "d615b4fe",
   "metadata": {},
   "outputs": [],
   "source": [
    "#!pip install https://github.com/explosion/spacy-models/releases/download/en_core_web_sm-2.2.0/en_core_web_sm-2.2.5.tar.gz"
   ]
  },
  {
   "cell_type": "code",
   "execution_count": 7,
   "id": "e7ab8995",
   "metadata": {},
   "outputs": [],
   "source": [
    "import en_core_web_sm\n",
    "\n",
    "nlp = en_core_web_sm.load()"
   ]
  },
  {
   "cell_type": "code",
   "execution_count": 8,
   "id": "3d69cae7",
   "metadata": {},
   "outputs": [],
   "source": [
    "### utlity function for pre-processing the text\n",
    "import spacy\n",
    "\n",
    "# load english language model and create nlp object from it\n",
    "#nlp = spacy.load(\"en_core_web_sm\") \n",
    "\n",
    "def preprocess(text):\n",
    "    # remove stop words and lemmatize the text\n",
    "    doc = nlp(text)\n",
    "    filtered_tokens = []\n",
    "    for token in doc:\n",
    "        if token.is_stop or token.is_punct:\n",
    "            continue\n",
    "        filtered_tokens.append(token.lemma_)\n",
    "    \n",
    "    return \" \".join(filtered_tokens) "
   ]
  },
  {
   "cell_type": "code",
   "execution_count": null,
   "id": "f677d70c",
   "metadata": {},
   "outputs": [],
   "source": []
  },
  {
   "cell_type": "code",
   "execution_count": 9,
   "id": "60faa583",
   "metadata": {},
   "outputs": [],
   "source": [
    "dp['preprocessed_txt'] = dp['Text'].apply(preprocess) "
   ]
  },
  {
   "cell_type": "code",
   "execution_count": 10,
   "id": "a6c23c3e",
   "metadata": {},
   "outputs": [],
   "source": [
    "dp.to_csv(\"Depression_intensity_final.csv\")"
   ]
  },
  {
   "cell_type": "code",
   "execution_count": 11,
   "id": "50cc92a6",
   "metadata": {},
   "outputs": [],
   "source": [
    "from sklearn.model_selection import train_test_split\n",
    "\n",
    "X_train, X_test, y_train, y_test = train_test_split(\n",
    "    dp.preprocessed_txt, \n",
    "    dp.Label, \n",
    "    test_size=0.2, # 20% samples will go to test dataset\n",
    "    random_state=2022,\n",
    "    stratify=dp.Label\n",
    ")"
   ]
  },
  {
   "cell_type": "code",
   "execution_count": 12,
   "id": "c43a7924",
   "metadata": {},
   "outputs": [],
   "source": [
    "from sklearn.feature_extraction.text import TfidfVectorizer"
   ]
  },
  {
   "cell_type": "code",
   "execution_count": 13,
   "id": "b4907c1b",
   "metadata": {},
   "outputs": [],
   "source": [
    "tvec = TfidfVectorizer()\n",
    "x_train_tfidf = tvec.fit_transform(X_train)\n",
    "x_validation_tfidf = tvec.transform(X_test)"
   ]
  },
  {
   "cell_type": "code",
   "execution_count": 14,
   "id": "edcec133",
   "metadata": {},
   "outputs": [
    {
     "data": {
      "text/plain": [
       "<43693x56379 sparse matrix of type '<class 'numpy.float64'>'\n",
       "\twith 306503 stored elements in Compressed Sparse Row format>"
      ]
     },
     "execution_count": 14,
     "metadata": {},
     "output_type": "execute_result"
    }
   ],
   "source": [
    "x_train_tfidf"
   ]
  },
  {
   "cell_type": "code",
   "execution_count": null,
   "id": "fd5ab8b3",
   "metadata": {},
   "outputs": [],
   "source": []
  },
  {
   "cell_type": "code",
   "execution_count": 15,
   "id": "83b7e941",
   "metadata": {},
   "outputs": [],
   "source": [
    "from sklearn.metrics import classification_report"
   ]
  },
  {
   "cell_type": "code",
   "execution_count": 16,
   "id": "2299e29c",
   "metadata": {},
   "outputs": [
    {
     "name": "stdout",
     "output_type": "stream",
     "text": [
      "[[7894  690]\n",
      " [2129  211]]\n",
      "              precision    recall  f1-score   support\n",
      "\n",
      "           0       0.79      0.92      0.85      8584\n",
      "           1       0.23      0.09      0.13      2340\n",
      "\n",
      "    accuracy                           0.74     10924\n",
      "   macro avg       0.51      0.50      0.49     10924\n",
      "weighted avg       0.67      0.74      0.69     10924\n",
      "\n"
     ]
    }
   ],
   "source": [
    "from sklearn.neighbors import KNeighborsClassifier\n",
    "from sklearn.pipeline import Pipeline\n",
    "from sklearn.metrics import classification_report\n",
    "from sklearn.metrics import confusion_matrix\n",
    "\n",
    "\n",
    "\n",
    "#1. create a pipeline object\n",
    "clf = KNeighborsClassifier()\n",
    "\n",
    "#2. fit with X_train and y_train\n",
    "clf.fit(x_train_tfidf, y_train)\n",
    "\n",
    "\n",
    "#3. get the predictions for X_test and store it in y_pred\n",
    "y_pred = clf.predict(x_validation_tfidf)\n",
    "df_table = confusion_matrix(y_test,y_pred)\n",
    "print (df_table)\n",
    "\n",
    "\n",
    "#4. print the classfication report\n",
    "print(classification_report(y_test, y_pred))"
   ]
  },
  {
   "cell_type": "code",
   "execution_count": 17,
   "id": "3a4a4946",
   "metadata": {},
   "outputs": [
    {
     "name": "stdout",
     "output_type": "stream",
     "text": [
      "accuracy: 0.7419443427316001\n",
      "precision: 0.2341842397336293\n",
      "recall: 0.09017094017094017\n",
      "f1 score:  0.13020672631903735\n"
     ]
    }
   ],
   "source": [
    "print('accuracy:', (df_table[0,0] + df_table[1,1]) / (df_table[0,0] + df_table[0,1] + df_table[1,0] + df_table[1,1]))\n",
    "print ('precision:', df_table[1,1] / (df_table[1,1] + df_table[0,1]))\n",
    "print('recall:', df_table[1,1] / (df_table[1,1] + df_table[1,0]))\n",
    "\n",
    "p = df_table[1,1] / (df_table[1,1] + df_table[0,1])\n",
    "r = df_table[1,1] / (df_table[1,1] + df_table[1,0])\n",
    "print('f1 score: ', (2*p*r)/(p+r))"
   ]
  },
  {
   "cell_type": "code",
   "execution_count": 18,
   "id": "a0189e10",
   "metadata": {},
   "outputs": [],
   "source": [
    "from sklearn.model_selection import KFold\n",
    "from sklearn.model_selection import cross_val_score\n",
    "from sklearn.linear_model import LogisticRegression\n",
    "from sklearn.tree import DecisionTreeClassifier\n",
    "from sklearn.neighbors import KNeighborsClassifier\n",
    "from sklearn.ensemble import RandomForestClassifier\n",
    "from sklearn.naive_bayes import GaussianNB\n",
    "from sklearn.svm import SVC\n",
    "from sklearn.linear_model import SGDClassifier"
   ]
  },
  {
   "cell_type": "code",
   "execution_count": 19,
   "id": "d7cd0fb3",
   "metadata": {},
   "outputs": [
    {
     "name": "stdout",
     "output_type": "stream",
     "text": [
      "LogisticRegression: accuracy:   0.81% \n",
      "LogisticRegression:precision:  0.66%\n",
      "LogisticRegression: recall:  0.28%\n",
      "LogisticRegression: f1 score: 0.39% \n",
      "              precision    recall  f1-score   support\n",
      "\n",
      "           0       0.83      0.96      0.89      8584\n",
      "           1       0.66      0.28      0.39      2340\n",
      "\n",
      "    accuracy                           0.81     10924\n",
      "   macro avg       0.75      0.62      0.64     10924\n",
      "weighted avg       0.79      0.81      0.78     10924\n",
      "\n"
     ]
    }
   ],
   "source": [
    "from sklearn.neighbors import KNeighborsClassifier\n",
    "from sklearn.pipeline import Pipeline\n",
    "from sklearn.metrics import classification_report\n",
    "from sklearn.metrics import confusion_matrix\n",
    "\n",
    "\n",
    "\n",
    "#1. create a pipeline object\n",
    "clf =LogisticRegression(solver=\"liblinear\")\n",
    "\n",
    "#2. fit with X_train and y_train\n",
    "clf.fit(x_train_tfidf, y_train)\n",
    "\n",
    "\n",
    "#3. get the predictions for X_test and store it in y_pred\n",
    "y_pred = clf.predict(x_validation_tfidf)\n",
    "df_table = confusion_matrix(y_test,y_pred)\n",
    "#print (df_table)\n",
    "name ='LogisticRegression'\n",
    "print(\"%s: accuracy:   %.2f%% \" % (name, (df_table[0,0] + df_table[1,1]) / (df_table[0,0] + df_table[0,1] + df_table[1,0] + df_table[1,1])))\n",
    "print (\"%s:precision:  %.2f%%\" %(name, df_table[1,1] / (df_table[1,1] + df_table[0,1])))\n",
    "print(\"%s: recall:  %.2f%%\" % (name, df_table[1,1] / (df_table[1,1] + df_table[1,0])))\n",
    "\n",
    "p = df_table[1,1] / (df_table[1,1] + df_table[0,1])\n",
    "r = df_table[1,1] / (df_table[1,1] + df_table[1,0])\n",
    "print(\"%s: f1 score: %.2f%% \" % (name,(2*p*r)/(p+r)))\n",
    "    #print (df_table)\n",
    "\n",
    "\n",
    "#4. print the classfication report\n",
    "print(classification_report(y_test, y_pred))"
   ]
  },
  {
   "cell_type": "code",
   "execution_count": 20,
   "id": "01488872",
   "metadata": {},
   "outputs": [
    {
     "name": "stdout",
     "output_type": "stream",
     "text": [
      "KNeighborsClassifier: accuracy:   0.74% \n",
      "KNeighborsClassifier:precision:  0.23%\n",
      "KNeighborsClassifier: recall:  0.09%\n",
      "KNeighborsClassifier: f1 score: 0.13% \n",
      "              precision    recall  f1-score   support\n",
      "\n",
      "           0       0.79      0.92      0.85      8584\n",
      "           1       0.23      0.09      0.13      2340\n",
      "\n",
      "    accuracy                           0.74     10924\n",
      "   macro avg       0.51      0.50      0.49     10924\n",
      "weighted avg       0.67      0.74      0.69     10924\n",
      "\n"
     ]
    }
   ],
   "source": [
    "\n",
    "\n",
    "\n",
    "#1. create a pipeline object\n",
    "clf =KNeighborsClassifier(n_neighbors=5, metric=\"minkowski\",p=2)\n",
    "\n",
    "#2. fit with X_train and y_train\n",
    "clf.fit(x_train_tfidf, y_train)\n",
    "\n",
    "\n",
    "#3. get the predictions for X_test and store it in y_pred\n",
    "y_pred = clf.predict(x_validation_tfidf)\n",
    "df_table = confusion_matrix(y_test,y_pred)\n",
    "#print (df_table)\n",
    "name = 'KNeighborsClassifier'\n",
    "print(\"%s: accuracy:   %.2f%% \" % (name, (df_table[0,0] + df_table[1,1]) / (df_table[0,0] + df_table[0,1] + df_table[1,0] + df_table[1,1])))\n",
    "print (\"%s:precision:  %.2f%%\" %(name, df_table[1,1] / (df_table[1,1] + df_table[0,1])))\n",
    "print(\"%s: recall:  %.2f%%\" % (name, df_table[1,1] / (df_table[1,1] + df_table[1,0])))\n",
    "\n",
    "p = df_table[1,1] / (df_table[1,1] + df_table[0,1])\n",
    "r = df_table[1,1] / (df_table[1,1] + df_table[1,0])\n",
    "print(\"%s: f1 score: %.2f%% \" % (name,(2*p*r)/(p+r)))\n",
    "    #print (df_table)\n",
    "\n",
    "\n",
    "\n",
    "#4. print the classfication report\n",
    "print(classification_report(y_test, y_pred))"
   ]
  },
  {
   "cell_type": "code",
   "execution_count": 21,
   "id": "95e08648",
   "metadata": {},
   "outputs": [
    {
     "name": "stdout",
     "output_type": "stream",
     "text": [
      "SVC: accuracy:   0.81% \n",
      "SVC:precision:  0.71%\n",
      "SVC: recall:  0.21%\n",
      "SVC: f1 score: 0.33% \n",
      "              precision    recall  f1-score   support\n",
      "\n",
      "           0       0.82      0.98      0.89      8584\n",
      "           1       0.71      0.21      0.33      2340\n",
      "\n",
      "    accuracy                           0.81     10924\n",
      "   macro avg       0.77      0.59      0.61     10924\n",
      "weighted avg       0.80      0.81      0.77     10924\n",
      "\n"
     ]
    }
   ],
   "source": [
    "\n",
    "\n",
    "\n",
    "#1. create a pipeline object\n",
    "clf =SVC(kernel = 'rbf',gamma='scale')\n",
    "\n",
    "#2. fit with X_train and y_train\n",
    "clf.fit(x_train_tfidf, y_train)\n",
    "\n",
    "\n",
    "#3. get the predictions for X_test and store it in y_pred\n",
    "y_pred = clf.predict(x_validation_tfidf)\n",
    "df_table = confusion_matrix(y_test,y_pred)\n",
    "#print (df_table)\n",
    "name ='SVC'\n",
    "\n",
    "print(\"%s: accuracy:   %.2f%% \" % (name, (df_table[0,0] + df_table[1,1]) / (df_table[0,0] + df_table[0,1] + df_table[1,0] + df_table[1,1])))\n",
    "print (\"%s:precision:  %.2f%%\" %(name, df_table[1,1] / (df_table[1,1] + df_table[0,1])))\n",
    "print(\"%s: recall:  %.2f%%\" % (name, df_table[1,1] / (df_table[1,1] + df_table[1,0])))\n",
    "\n",
    "\n",
    "\n",
    "p = df_table[1,1] / (df_table[1,1] + df_table[0,1])\n",
    "r = df_table[1,1] / (df_table[1,1] + df_table[1,0])\n",
    "print(\"%s: f1 score: %.2f%% \" % (name,(2*p*r)/(p+r)))\n",
    "    #print (df_table)\n",
    "\n",
    "#print(\"%s: Mean Accuracy = %.2f%% - SD Accuracy = %.2f%%\" % (name, result.mean()*100, result.std()*100))\n",
    "\n",
    "#4. print the classfication report\n",
    "print(classification_report(y_test, y_pred))"
   ]
  },
  {
   "cell_type": "code",
   "execution_count": 23,
   "id": "7b74b9c1",
   "metadata": {},
   "outputs": [],
   "source": [
    "\n",
    "\n",
    "\n",
    "#1. create a pipeline object\n",
    "clf =GaussianNB()\n",
    "\n",
    "#2. fit with X_train and y_train\n",
    "clf.fit(x_train_tfidf, y_train)\n",
    "\n",
    "\n",
    "#3. get the predictions for X_test and store it in y_pred\n",
    "y_pred = clf.predict(x_validation_tfidf)\n",
    "df_table = confusion_matrix(y_test,y_pred)\n",
    "#print (df_table)\n",
    "name ='GaussianNB'\n",
    "\n",
    "print(\"%s: accuracy:   %.2f%% \" % (name, (df_table[0,0] + df_table[1,1]) / (df_table[0,0] + df_table[0,1] + df_table[1,0] + df_table[1,1])))\n",
    "print (\"%s:precision:  %.2f%%\" %(name, df_table[1,1] / (df_table[1,1] + df_table[0,1])))\n",
    "print(\"%s: recall:  %.2f%%\" % (name, df_table[1,1] / (df_table[1,1] + df_table[1,0])))\n",
    "\n",
    "\n",
    "\n",
    "p = df_table[1,1] / (df_table[1,1] + df_table[0,1])\n",
    "r = df_table[1,1] / (df_table[1,1] + df_table[1,0])\n",
    "print(\"%s: f1 score: %.2f%% \" % (name,(2*p*r)/(p+r)))\n",
    "    #print (df_table)\n",
    "\n",
    "#print(\"%s: Mean Accuracy = %.2f%% - SD Accuracy = %.2f%%\" % (name, result.mean()*100, result.std()*100))\n",
    "\n",
    "#4. print the classfication report\n",
    "print(classification_report(y_test, y_pred))"
   ]
  },
  {
   "cell_type": "code",
   "execution_count": 24,
   "id": "38c8d947",
   "metadata": {},
   "outputs": [
    {
     "name": "stdout",
     "output_type": "stream",
     "text": [
      "Stochastic Gradient Descent: accuracy:   0.81% \n",
      "Stochastic Gradient Descent:precision:  0.63%\n",
      "Stochastic Gradient Descent: recall:  0.29%\n",
      "Stochastic Gradient Descent: f1 score: 0.40% \n",
      "              precision    recall  f1-score   support\n",
      "\n",
      "           0       0.83      0.95      0.89      8584\n",
      "           1       0.63      0.29      0.40      2340\n",
      "\n",
      "    accuracy                           0.81     10924\n",
      "   macro avg       0.73      0.62      0.64     10924\n",
      "weighted avg       0.79      0.81      0.78     10924\n",
      "\n"
     ]
    }
   ],
   "source": [
    "\n",
    "\n",
    "\n",
    "#1. create a pipeline object\n",
    "clf =SGDClassifier(loss='modified_huber', shuffle=True,random_state=101)\n",
    "\n",
    "#2. fit with X_train and y_train\n",
    "clf.fit(x_train_tfidf, y_train)\n",
    "\n",
    "\n",
    "#3. get the predictions for X_test and store it in y_pred\n",
    "y_pred = clf.predict(x_validation_tfidf)\n",
    "df_table = confusion_matrix(y_test,y_pred)\n",
    "#print (df_table)\n",
    "name ='Stochastic Gradient Descent'\n",
    "\n",
    "print(\"%s: accuracy:   %.2f%% \" % (name, (df_table[0,0] + df_table[1,1]) / (df_table[0,0] + df_table[0,1] + df_table[1,0] + df_table[1,1])))\n",
    "print (\"%s:precision:  %.2f%%\" %(name, df_table[1,1] / (df_table[1,1] + df_table[0,1])))\n",
    "print(\"%s: recall:  %.2f%%\" % (name, df_table[1,1] / (df_table[1,1] + df_table[1,0])))\n",
    "\n",
    "\n",
    "\n",
    "p = df_table[1,1] / (df_table[1,1] + df_table[0,1])\n",
    "r = df_table[1,1] / (df_table[1,1] + df_table[1,0])\n",
    "print(\"%s: f1 score: %.2f%% \" % (name,(2*p*r)/(p+r)))\n",
    "    #print (df_table)\n",
    "\n",
    "#print(\"%s: Mean Accuracy = %.2f%% - SD Accuracy = %.2f%%\" % (name, result.mean()*100, result.std()*100))\n",
    "\n",
    "#4. print the classfication report\n",
    "print(classification_report(y_test, y_pred))"
   ]
  },
  {
   "cell_type": "code",
   "execution_count": 25,
   "id": "977091ac",
   "metadata": {},
   "outputs": [
    {
     "name": "stdout",
     "output_type": "stream",
     "text": [
      "Decision Tree: accuracy:   0.75% \n",
      "Decision Tree:precision:  0.39%\n",
      "Decision Tree: recall:  0.34%\n",
      "Decision Tree: f1 score: 0.36% \n",
      "              precision    recall  f1-score   support\n",
      "\n",
      "           0       0.83      0.86      0.84      8584\n",
      "           1       0.39      0.34      0.36      2340\n",
      "\n",
      "    accuracy                           0.75     10924\n",
      "   macro avg       0.61      0.60      0.60     10924\n",
      "weighted avg       0.73      0.75      0.74     10924\n",
      "\n"
     ]
    }
   ],
   "source": [
    "\n",
    "\n",
    "\n",
    "#1. create a pipeline object\n",
    "clf =DecisionTreeClassifier(criterion = \"entropy\")\n",
    "\n",
    "#2. fit with X_train and y_train\n",
    "clf.fit(x_train_tfidf, y_train)\n",
    "\n",
    "\n",
    "#3. get the predictions for X_test and store it in y_pred\n",
    "y_pred = clf.predict(x_validation_tfidf)\n",
    "df_table = confusion_matrix(y_test,y_pred)\n",
    "#print (df_table)\n",
    "name ='Decision Tree'\n",
    "\n",
    "print(\"%s: accuracy:   %.2f%% \" % (name, (df_table[0,0] + df_table[1,1]) / (df_table[0,0] + df_table[0,1] + df_table[1,0] + df_table[1,1])))\n",
    "print (\"%s:precision:  %.2f%%\" %(name, df_table[1,1] / (df_table[1,1] + df_table[0,1])))\n",
    "print(\"%s: recall:  %.2f%%\" % (name, df_table[1,1] / (df_table[1,1] + df_table[1,0])))\n",
    "\n",
    "\n",
    "\n",
    "p = df_table[1,1] / (df_table[1,1] + df_table[0,1])\n",
    "r = df_table[1,1] / (df_table[1,1] + df_table[1,0])\n",
    "print(\"%s: f1 score: %.2f%% \" % (name,(2*p*r)/(p+r)))\n",
    "    #print (df_table)\n",
    "\n",
    "#print(\"%s: Mean Accuracy = %.2f%% - SD Accuracy = %.2f%%\" % (name, result.mean()*100, result.std()*100))\n",
    "\n",
    "#4. print the classfication report\n",
    "print(classification_report(y_test, y_pred))"
   ]
  },
  {
   "cell_type": "code",
   "execution_count": 26,
   "id": "c4fbb42c",
   "metadata": {},
   "outputs": [
    {
     "name": "stdout",
     "output_type": "stream",
     "text": [
      "Random Forest: accuracy:   0.80% \n",
      "Random Forest:precision:  0.62%\n",
      "Random Forest: recall:  0.17%\n",
      "Random Forest: f1 score: 0.27% \n",
      "              precision    recall  f1-score   support\n",
      "\n",
      "           0       0.81      0.97      0.88      8584\n",
      "           1       0.62      0.17      0.27      2340\n",
      "\n",
      "    accuracy                           0.80     10924\n",
      "   macro avg       0.71      0.57      0.58     10924\n",
      "weighted avg       0.77      0.80      0.75     10924\n",
      "\n"
     ]
    }
   ],
   "source": [
    "\n",
    "\n",
    "\n",
    "#1. create a pipeline object\n",
    "clf =RandomForestClassifier(n_estimators=100, criterion=\"entropy\")\n",
    "\n",
    "#2. fit with X_train and y_train\n",
    "clf.fit(x_train_tfidf, y_train)\n",
    "\n",
    "\n",
    "#3. get the predictions for X_test and store it in y_pred\n",
    "y_pred = clf.predict(x_validation_tfidf)\n",
    "df_table = confusion_matrix(y_test,y_pred)\n",
    "#print (df_table)\n",
    "name ='Random Forest'\n",
    "\n",
    "print(\"%s: accuracy:   %.2f%% \" % (name, (df_table[0,0] + df_table[1,1]) / (df_table[0,0] + df_table[0,1] + df_table[1,0] + df_table[1,1])))\n",
    "print (\"%s:precision:  %.2f%%\" %(name, df_table[1,1] / (df_table[1,1] + df_table[0,1])))\n",
    "print(\"%s: recall:  %.2f%%\" % (name, df_table[1,1] / (df_table[1,1] + df_table[1,0])))\n",
    "\n",
    "\n",
    "\n",
    "p = df_table[1,1] / (df_table[1,1] + df_table[0,1])\n",
    "r = df_table[1,1] / (df_table[1,1] + df_table[1,0])\n",
    "print(\"%s: f1 score: %.2f%% \" % (name,(2*p*r)/(p+r)))\n",
    "    #print (df_table)\n",
    "\n",
    "#print(\"%s: Mean Accuracy = %.2f%% - SD Accuracy = %.2f%%\" % (name, result.mean()*100, result.std()*100))\n",
    "\n",
    "#4. print the classfication report\n",
    "print(classification_report(y_test, y_pred))"
   ]
  },
  {
   "cell_type": "code",
   "execution_count": 30,
   "id": "8370d8db",
   "metadata": {},
   "outputs": [],
   "source": [
    "### Hyper peramerter tuning"
   ]
  },
  {
   "cell_type": "code",
   "execution_count": 27,
   "id": "05efc958",
   "metadata": {},
   "outputs": [],
   "source": [
    "error_rate = []\n",
    "for i in range(1,51):    \n",
    "    knn = KNeighborsClassifier(n_neighbors=i)\n",
    "    knn.fit(x_train_tfidf, y_train)\n",
    "    pred_i = knn.predict(x_validation_tfidf)\n",
    "    error_rate.append(np.mean(pred_i != y_test))"
   ]
  },
  {
   "cell_type": "code",
   "execution_count": 28,
   "id": "b4aa322a",
   "metadata": {},
   "outputs": [
    {
     "data": {
      "text/plain": [
       "Text(0, 0.5, 'Error Rate')"
      ]
     },
     "execution_count": 28,
     "metadata": {},
     "output_type": "execute_result"
    },
    {
     "data": {
      "image/png": "[encoded data removed]",
      "text/plain": [
       "<Figure size 576x288 with 1 Axes>"
      ]
     },
     "metadata": {
      "needs_background": "light"
     },
     "output_type": "display_data"
    }
   ],
   "source": [
    "plt.figure(figsize=(8,4))\n",
    "plt.plot(range(1,51),error_rate,color='darkred', marker='o',markersize=10)\n",
    "plt.title('Error Rate vs. K Value')\n",
    "plt.xlabel('K')\n",
    "plt.ylabel('Error Rate')"
   ]
  },
  {
   "cell_type": "code",
   "execution_count": 29,
   "id": "edf7b2f3",
   "metadata": {},
   "outputs": [],
   "source": [
    " ## Decisiontree"
   ]
  },
  {
   "cell_type": "code",
   "execution_count": 31,
   "id": "4cb155d3",
   "metadata": {},
   "outputs": [
    {
     "data": {
      "text/plain": [
       "<AxesSubplot:>"
      ]
     },
     "execution_count": 31,
     "metadata": {},
     "output_type": "execute_result"
    },
    {
     "data": {
      "image/png": "[encoded data removed]",
      "text/plain": [
       "<Figure size 576x288 with 1 Axes>"
      ]
     },
     "metadata": {
      "needs_background": "light"
     },
     "output_type": "display_data"
    }
   ],
   "source": [
    "\n",
    "from sklearn.tree import DecisionTreeClassifier\n",
    "results = []\n",
    "max_depth_options = [2,4,6,8,10,12,14,16,18,20]\n",
    "for trees in max_depth_options:\n",
    "    model = DecisionTreeClassifier(max_depth=trees, random_state=101)\n",
    "    model.fit(x_train_tfidf, y_train)\n",
    "    y_pred = model.predict(x_validation_tfidf)\n",
    "    accuracy = np.mean(y_test==y_pred)\n",
    "    results.append(accuracy)\n",
    "\n",
    "plt.figure(figsize=(8,4))\n",
    "pd.Series(results, max_depth_options).plot(color=\"darkred\",marker=\"o\")"
   ]
  },
  {
   "cell_type": "code",
   "execution_count": 33,
   "id": "466812df",
   "metadata": {},
   "outputs": [
    {
     "data": {
      "text/plain": [
       "<AxesSubplot:>"
      ]
     },
     "execution_count": 33,
     "metadata": {},
     "output_type": "execute_result"
    },
    {
     "data": {
      "image/png": "[encoded data removed]",
      "text/plain": [
       "<Figure size 576x288 with 1 Axes>"
      ]
     },
     "metadata": {
      "needs_background": "light"
     },
     "output_type": "display_data"
    }
   ],
   "source": [
    "results = []\n",
    "max_features_options = ['auto',None,'sqrt',0.95,0.75,0.5,0.25,0.10]\n",
    "for trees in max_features_options:\n",
    "    model = DecisionTreeClassifier(max_depth=10, random_state=101, max_features = trees)\n",
    "    model.fit(x_train_tfidf, y_train)\n",
    "    y_pred = model.predict(x_validation_tfidf)\n",
    "    accuracy = np.mean(y_test==y_pred)\n",
    "    results.append(accuracy)\n",
    "\n",
    "plt.figure(figsize=(8,4))\n",
    "pd.Series(results, max_features_options).plot(kind=\"bar\",color=\"darkred\",ylim=(0.7,0.9))"
   ]
  },
  {
   "cell_type": "code",
   "execution_count": 35,
   "id": "afcf0905",
   "metadata": {},
   "outputs": [
    {
     "data": {
      "text/plain": [
       "<AxesSubplot:>"
      ]
     },
     "execution_count": 35,
     "metadata": {},
     "output_type": "execute_result"
    },
    {
     "data": {
      "image/png": "[encoded data removed]",
      "text/plain": [
       "<Figure size 576x288 with 1 Axes>"
      ]
     },
     "metadata": {
      "needs_background": "light"
     },
     "output_type": "display_data"
    }
   ],
   "source": [
    "results = []\n",
    "min_samples_leaf_options = [5,10,15,20,25,30,35,40,45,50]\n",
    "for trees in min_samples_leaf_options:\n",
    "    model = DecisionTreeClassifier(max_depth=10, random_state=101, max_features = None, min_samples_leaf = trees)\n",
    "    model.fit(x_train_tfidf, y_train)\n",
    "    y_pred = model.predict(x_validation_tfidf)\n",
    "    accuracy = np.mean(y_test==y_pred)\n",
    "    results.append(accuracy)\n",
    "\n",
    "plt.figure(figsize=(8,4))\n",
    "pd.Series(results, min_samples_leaf_options).plot(color=\"darkred\",marker=\"o\")"
   ]
  },
  {
   "cell_type": "code",
   "execution_count": 40,
   "id": "f3f616dd",
   "metadata": {},
   "outputs": [],
   "source": [
    "##Random Forest\n",
    "from sklearn.ensemble import RandomForestClassifier"
   ]
  },
  {
   "cell_type": "code",
   "execution_count": 41,
   "id": "42edc36c",
   "metadata": {},
   "outputs": [
    {
     "name": "stderr",
     "output_type": "stream",
     "text": [
      "C:\\Users\\HP\\AppData\\Roaming\\Python\\Python310\\site-packages\\sklearn\\ensemble\\_forest.py:560: UserWarning: Some inputs do not have OOB scores. This probably means too few trees were used to compute any reliable OOB estimates.\n",
      "  warn(\n"
     ]
    },
    {
     "data": {
      "text/plain": [
       "<AxesSubplot:>"
      ]
     },
     "execution_count": 41,
     "metadata": {},
     "output_type": "execute_result"
    },
    {
     "data": {
      "image/png": "[encoded data removed]",
      "text/plain": [
       "<Figure size 576x288 with 1 Axes>"
      ]
     },
     "metadata": {
      "needs_background": "light"
     },
     "output_type": "display_data"
    }
   ],
   "source": [
    "results = []\n",
    "n_estimaor_options = [20,25,30,35,40,45,50,55,60,65,70,75,80,85,90,95,100]\n",
    "for trees in n_estimaor_options:\n",
    "    model = RandomForestClassifier(trees, oob_score=True, n_jobs=-1, random_state=101)\n",
    "    model.fit(x_train_tfidf, y_train)\n",
    "    y_pred = model.predict(x_validation_tfidf)\n",
    "    accuracy = np.mean(y_test==y_pred)\n",
    "    results.append(accuracy)\n",
    "\n",
    "plt.figure(figsize=(8,4))\n",
    "pd.Series(results, n_estimaor_options).plot(color=\"darkred\",marker=\"o\")"
   ]
  },
  {
   "cell_type": "code",
   "execution_count": 42,
   "id": "69ca51e5",
   "metadata": {},
   "outputs": [
    {
     "data": {
      "text/plain": [
       "<AxesSubplot:>"
      ]
     },
     "execution_count": 42,
     "metadata": {},
     "output_type": "execute_result"
    },
    {
     "data": {
      "image/png": "[encoded data removed]",
      "text/plain": [
       "<Figure size 576x288 with 1 Axes>"
      ]
     },
     "metadata": {
      "needs_background": "light"
     },
     "output_type": "display_data"
    }
   ],
   "source": [
    "results = []\n",
    "max_features_options = ['auto',None,'sqrt',0.95,0.75,0.5,0.25,0.10]\n",
    "for trees in max_features_options:\n",
    "    model = RandomForestClassifier(n_estimators=70, oob_score=True, n_jobs=-1, random_state=101, max_features = trees)\n",
    "    model.fit(x_train_tfidf, y_train)\n",
    "    y_pred = model.predict(x_validation_tfidf)\n",
    "    accuracy = np.mean(y_test==y_pred)\n",
    "    results.append(accuracy)\n",
    "\n",
    "plt.figure(figsize=(8,4))\n",
    "pd.Series(results, max_features_options).plot(kind=\"bar\",color=\"darkred\",ylim=(0.7,0.9))"
   ]
  },
  {
   "cell_type": "code",
   "execution_count": 43,
   "id": "98763926",
   "metadata": {},
   "outputs": [
    {
     "data": {
      "text/plain": [
       "<AxesSubplot:>"
      ]
     },
     "execution_count": 43,
     "metadata": {},
     "output_type": "execute_result"
    },
    {
     "data": {
      "image/png": "[encoded data removed]",
      "text/plain": [
       "<Figure size 576x288 with 1 Axes>"
      ]
     },
     "metadata": {
      "needs_background": "light"
     },
     "output_type": "display_data"
    }
   ],
   "source": [
    "results = []\n",
    "min_samples_leaf_options = [5,10,15,20,25,30,35,40,45,50]\n",
    "for trees in min_samples_leaf_options:\n",
    "    model = RandomForestClassifier(n_estimators=70, oob_score=True, n_jobs=-1, random_state=101, max_features = None, min_samples_leaf = trees)\n",
    "    model.fit(x_train_tfidf, y_train)\n",
    "    y_pred = model.predict(x_validation_tfidf)\n",
    "    accuracy = np.mean(y_test==y_pred)\n",
    "    results.append(accuracy)\n",
    "\n",
    "plt.figure(figsize=(8,4))\n",
    "pd.Series(results, min_samples_leaf_options).plot(color=\"darkred\",marker=\"o\")"
   ]
  },
  {
   "cell_type": "code",
   "execution_count": 48,
   "id": "5b844958",
   "metadata": {},
   "outputs": [
    {
     "name": "stdout",
     "output_type": "stream",
     "text": [
      "Logistic Regression: accuracy:   0.82% \n",
      "Logistic Regression:precision:  nan%\n",
      "Logistic Regression: recall:  0.00%\n",
      "Logistic Regression: f1 score: nan% \n",
      "Logistic Regression: Mean Accuracy = 81.63% - SD Accuracy = 0.00%\n"
     ]
    },
    {
     "name": "stderr",
     "output_type": "stream",
     "text": [
      "C:\\Users\\HP\\AppData\\Local\\Temp\\ipykernel_10280\\2921438698.py:29: RuntimeWarning: invalid value encountered in longlong_scalars\n",
      "  print (\"%s:precision:  %.2f%%\" %(name, df_table[1,1] / (df_table[1,1] + df_table[0,1])))\n",
      "C:\\Users\\HP\\AppData\\Local\\Temp\\ipykernel_10280\\2921438698.py:32: RuntimeWarning: invalid value encountered in longlong_scalars\n",
      "  p = df_table[1,1] / (df_table[1,1] + df_table[0,1])\n"
     ]
    },
    {
     "name": "stdout",
     "output_type": "stream",
     "text": [
      "K Nearest Neighbor: accuracy:   0.82% \n",
      "K Nearest Neighbor:precision:  nan%\n",
      "K Nearest Neighbor: recall:  0.00%\n",
      "K Nearest Neighbor: f1 score: nan% \n",
      "K Nearest Neighbor: Mean Accuracy = 81.63% - SD Accuracy = 0.00%\n"
     ]
    },
    {
     "name": "stderr",
     "output_type": "stream",
     "text": [
      "C:\\Users\\HP\\AppData\\Local\\Temp\\ipykernel_10280\\2921438698.py:29: RuntimeWarning: invalid value encountered in longlong_scalars\n",
      "  print (\"%s:precision:  %.2f%%\" %(name, df_table[1,1] / (df_table[1,1] + df_table[0,1])))\n",
      "C:\\Users\\HP\\AppData\\Local\\Temp\\ipykernel_10280\\2921438698.py:32: RuntimeWarning: invalid value encountered in longlong_scalars\n",
      "  p = df_table[1,1] / (df_table[1,1] + df_table[0,1])\n"
     ]
    },
    {
     "name": "stdout",
     "output_type": "stream",
     "text": [
      "Kernel SVM: accuracy:   0.82% \n",
      "Kernel SVM:precision:  nan%\n",
      "Kernel SVM: recall:  0.00%\n",
      "Kernel SVM: f1 score: nan% \n",
      "Kernel SVM: Mean Accuracy = 81.63% - SD Accuracy = 0.00%\n"
     ]
    },
    {
     "name": "stderr",
     "output_type": "stream",
     "text": [
      "C:\\Users\\HP\\AppData\\Local\\Temp\\ipykernel_10280\\2921438698.py:29: RuntimeWarning: invalid value encountered in longlong_scalars\n",
      "  print (\"%s:precision:  %.2f%%\" %(name, df_table[1,1] / (df_table[1,1] + df_table[0,1])))\n",
      "C:\\Users\\HP\\AppData\\Local\\Temp\\ipykernel_10280\\2921438698.py:32: RuntimeWarning: invalid value encountered in longlong_scalars\n",
      "  p = df_table[1,1] / (df_table[1,1] + df_table[0,1])\n",
      "C:\\Users\\HP\\AppData\\Roaming\\Python\\Python310\\site-packages\\sklearn\\model_selection\\_validation.py:372: FitFailedWarning: \n",
      "5 fits failed out of a total of 5.\n",
      "The score on these train-test partitions for these parameters will be set to nan.\n",
      "If these failures are not expected, you can try to debug them by setting error_score='raise'.\n",
      "\n",
      "Below are more details about the failures:\n",
      "--------------------------------------------------------------------------------\n",
      "5 fits failed with the following error:\n",
      "Traceback (most recent call last):\n",
      "  File \"C:\\Users\\HP\\AppData\\Roaming\\Python\\Python310\\site-packages\\sklearn\\model_selection\\_validation.py\", line 680, in _fit_and_score\n",
      "    estimator.fit(X_train, y_train, **fit_params)\n",
      "  File \"C:\\Users\\HP\\AppData\\Roaming\\Python\\Python310\\site-packages\\sklearn\\naive_bayes.py\", line 245, in fit\n",
      "    return self._partial_fit(\n",
      "  File \"C:\\Users\\HP\\AppData\\Roaming\\Python\\Python310\\site-packages\\sklearn\\naive_bayes.py\", line 402, in _partial_fit\n",
      "    X, y = self._validate_data(X, y, reset=first_call)\n",
      "  File \"C:\\Users\\HP\\AppData\\Roaming\\Python\\Python310\\site-packages\\sklearn\\base.py\", line 581, in _validate_data\n",
      "    X, y = check_X_y(X, y, **check_params)\n",
      "  File \"C:\\Users\\HP\\AppData\\Roaming\\Python\\Python310\\site-packages\\sklearn\\utils\\validation.py\", line 964, in check_X_y\n",
      "    X = check_array(\n",
      "  File \"C:\\Users\\HP\\AppData\\Roaming\\Python\\Python310\\site-packages\\sklearn\\utils\\validation.py\", line 720, in check_array\n",
      "    array = _ensure_sparse_format(\n",
      "  File \"C:\\Users\\HP\\AppData\\Roaming\\Python\\Python310\\site-packages\\sklearn\\utils\\validation.py\", line 440, in _ensure_sparse_format\n",
      "    raise TypeError(\n",
      "TypeError: A sparse matrix was passed, but dense data is required. Use X.toarray() to convert to a dense numpy array.\n",
      "\n",
      "  warnings.warn(some_fits_failed_message, FitFailedWarning)\n"
     ]
    },
    {
     "name": "stdout",
     "output_type": "stream",
     "text": [
      "Naive Bayes: accuracy:   0.82% \n",
      "Naive Bayes:precision:  nan%\n",
      "Naive Bayes: recall:  0.00%\n",
      "Naive Bayes: f1 score: nan% \n",
      "Naive Bayes: Mean Accuracy = nan% - SD Accuracy = nan%\n"
     ]
    },
    {
     "name": "stderr",
     "output_type": "stream",
     "text": [
      "C:\\Users\\HP\\AppData\\Local\\Temp\\ipykernel_10280\\2921438698.py:29: RuntimeWarning: invalid value encountered in longlong_scalars\n",
      "  print (\"%s:precision:  %.2f%%\" %(name, df_table[1,1] / (df_table[1,1] + df_table[0,1])))\n",
      "C:\\Users\\HP\\AppData\\Local\\Temp\\ipykernel_10280\\2921438698.py:32: RuntimeWarning: invalid value encountered in longlong_scalars\n",
      "  p = df_table[1,1] / (df_table[1,1] + df_table[0,1])\n"
     ]
    },
    {
     "name": "stdout",
     "output_type": "stream",
     "text": [
      "Stochastic Gradient Descent: accuracy:   0.82% \n",
      "Stochastic Gradient Descent:precision:  nan%\n",
      "Stochastic Gradient Descent: recall:  0.00%\n",
      "Stochastic Gradient Descent: f1 score: nan% \n",
      "Stochastic Gradient Descent: Mean Accuracy = 81.63% - SD Accuracy = 0.00%\n"
     ]
    },
    {
     "name": "stderr",
     "output_type": "stream",
     "text": [
      "C:\\Users\\HP\\AppData\\Local\\Temp\\ipykernel_10280\\2921438698.py:29: RuntimeWarning: invalid value encountered in longlong_scalars\n",
      "  print (\"%s:precision:  %.2f%%\" %(name, df_table[1,1] / (df_table[1,1] + df_table[0,1])))\n",
      "C:\\Users\\HP\\AppData\\Local\\Temp\\ipykernel_10280\\2921438698.py:32: RuntimeWarning: invalid value encountered in longlong_scalars\n",
      "  p = df_table[1,1] / (df_table[1,1] + df_table[0,1])\n"
     ]
    },
    {
     "name": "stdout",
     "output_type": "stream",
     "text": [
      "Decision Tree: accuracy:   0.82% \n",
      "Decision Tree:precision:  nan%\n",
      "Decision Tree: recall:  0.00%\n",
      "Decision Tree: f1 score: nan% \n",
      "Decision Tree: Mean Accuracy = 81.63% - SD Accuracy = 0.00%\n"
     ]
    },
    {
     "name": "stderr",
     "output_type": "stream",
     "text": [
      "C:\\Users\\HP\\AppData\\Local\\Temp\\ipykernel_10280\\2921438698.py:29: RuntimeWarning: invalid value encountered in longlong_scalars\n",
      "  print (\"%s:precision:  %.2f%%\" %(name, df_table[1,1] / (df_table[1,1] + df_table[0,1])))\n",
      "C:\\Users\\HP\\AppData\\Local\\Temp\\ipykernel_10280\\2921438698.py:32: RuntimeWarning: invalid value encountered in longlong_scalars\n",
      "  p = df_table[1,1] / (df_table[1,1] + df_table[0,1])\n"
     ]
    },
    {
     "name": "stdout",
     "output_type": "stream",
     "text": [
      "Random Forest: accuracy:   0.82% \n",
      "Random Forest:precision:  nan%\n",
      "Random Forest: recall:  0.00%\n",
      "Random Forest: f1 score: nan% \n",
      "Random Forest: Mean Accuracy = 81.63% - SD Accuracy = 0.00%\n"
     ]
    },
    {
     "name": "stderr",
     "output_type": "stream",
     "text": [
      "C:\\Users\\HP\\AppData\\Local\\Temp\\ipykernel_10280\\2921438698.py:29: RuntimeWarning: invalid value encountered in longlong_scalars\n",
      "  print (\"%s:precision:  %.2f%%\" %(name, df_table[1,1] / (df_table[1,1] + df_table[0,1])))\n",
      "C:\\Users\\HP\\AppData\\Local\\Temp\\ipykernel_10280\\2921438698.py:32: RuntimeWarning: invalid value encountered in longlong_scalars\n",
      "  p = df_table[1,1] / (df_table[1,1] + df_table[0,1])\n"
     ]
    }
   ],
   "source": [
    "from sklearn.model_selection import KFold\n",
    "from sklearn.model_selection import cross_val_score\n",
    "from sklearn.linear_model import LogisticRegression\n",
    "from sklearn.tree import DecisionTreeClassifier\n",
    "from sklearn.neighbors import KNeighborsClassifier\n",
    "from sklearn.ensemble import RandomForestClassifier\n",
    "from sklearn.naive_bayes import GaussianNB\n",
    "from sklearn.svm import SVC\n",
    "from sklearn.linear_model import SGDClassifier\n",
    "\n",
    "classification_models = []\n",
    "classification_models.append(('Logistic Regression', LogisticRegression(solver=\"liblinear\")))\n",
    "classification_models.append(('K Nearest Neighbor', KNeighborsClassifier(n_neighbors=5, metric=\"minkowski\",p=2)))\n",
    "classification_models.append(('Kernel SVM', SVC(kernel = 'rbf',gamma='scale')))\n",
    "classification_models.append(('Naive Bayes', GaussianNB()))\n",
    "classification_models.append(('Stochastic Gradient Descent',SGDClassifier(loss='modified_huber', shuffle=True,random_state=101)))\n",
    "classification_models.append(('Decision Tree', DecisionTreeClassifier(criterion = \"entropy\")))\n",
    "classification_models.append(('Random Forest', RandomForestClassifier(n_estimators=100, criterion=\"entropy\")))\n",
    "\n",
    "for name, model in classification_models:\n",
    "    #kfold = KFold(n_splits=10, random_state=7)\n",
    "    result = cross_val_score(model, x_train_tfidf, y_train,  scoring='accuracy')\n",
    "                             #3. get the predictions for X_test and store it in y_pred\n",
    "    y_pred = clf.predict(x_validation_tfidf)\n",
    "#df_table = confusion_matrix(y_test,y_pred)\n",
    "\n",
    "    df_table = confusion_matrix(y_test,y_pred)\n",
    "    print(\"%s: accuracy:   %.2f%% \" % (name, (df_table[0,0] + df_table[1,1]) / (df_table[0,0] + df_table[0,1] + df_table[1,0] + df_table[1,1])))\n",
    "    print (\"%s:precision:  %.2f%%\" %(name, df_table[1,1] / (df_table[1,1] + df_table[0,1])))\n",
    "    print(\"%s: recall:  %.2f%%\" % (name, df_table[1,1] / (df_table[1,1] + df_table[1,0])))\n",
    "\n",
    "    p = df_table[1,1] / (df_table[1,1] + df_table[0,1])\n",
    "    r = df_table[1,1] / (df_table[1,1] + df_table[1,0])\n",
    "    print(\"%s: f1 score: %.2f%% \" % (name,(2*p*r)/(p+r)))\n",
    "    #print (df_table)\n",
    "\n",
    "    print(\"%s: Mean Accuracy = %.2f%% - SD Accuracy = %.2f%%\" % (name, result.mean()*100, result.std()*100))\n"
   ]
  },
  {
   "cell_type": "code",
   "execution_count": 49,
   "id": "477782fe",
   "metadata": {},
   "outputs": [
    {
     "name": "stderr",
     "output_type": "stream",
     "text": [
      "C:\\Users\\HP\\AppData\\Roaming\\Python\\Python310\\site-packages\\sklearn\\metrics\\_classification.py:1318: UndefinedMetricWarning: Precision and F-score are ill-defined and being set to 0.0 in labels with no predicted samples. Use `zero_division` parameter to control this behavior.\n",
      "  _warn_prf(average, modifier, msg_start, len(result))\n",
      "C:\\Users\\HP\\AppData\\Roaming\\Python\\Python310\\site-packages\\sklearn\\metrics\\_classification.py:1318: UndefinedMetricWarning: Precision and F-score are ill-defined and being set to 0.0 in labels with no predicted samples. Use `zero_division` parameter to control this behavior.\n",
      "  _warn_prf(average, modifier, msg_start, len(result))\n",
      "C:\\Users\\HP\\AppData\\Roaming\\Python\\Python310\\site-packages\\sklearn\\metrics\\_classification.py:1318: UndefinedMetricWarning: Precision and F-score are ill-defined and being set to 0.0 in labels with no predicted samples. Use `zero_division` parameter to control this behavior.\n",
      "  _warn_prf(average, modifier, msg_start, len(result))\n"
     ]
    },
    {
     "name": "stdout",
     "output_type": "stream",
     "text": [
      "              precision    recall  f1-score   support\n",
      "\n",
      "         0.0       0.82      1.00      0.90     10393\n",
      "         1.0       0.00      0.00      0.00      2338\n",
      "\n",
      "    accuracy                           0.82     12731\n",
      "   macro avg       0.41      0.50      0.45     12731\n",
      "weighted avg       0.67      0.82      0.73     12731\n",
      "\n",
      "chi2 feature selection evaluation calculated for 1 features\n"
     ]
    },
    {
     "name": "stderr",
     "output_type": "stream",
     "text": [
      "C:\\Users\\HP\\AppData\\Roaming\\Python\\Python310\\site-packages\\sklearn\\metrics\\_classification.py:1318: UndefinedMetricWarning: Precision and F-score are ill-defined and being set to 0.0 in labels with no predicted samples. Use `zero_division` parameter to control this behavior.\n",
      "  _warn_prf(average, modifier, msg_start, len(result))\n",
      "C:\\Users\\HP\\AppData\\Roaming\\Python\\Python310\\site-packages\\sklearn\\metrics\\_classification.py:1318: UndefinedMetricWarning: Precision and F-score are ill-defined and being set to 0.0 in labels with no predicted samples. Use `zero_division` parameter to control this behavior.\n",
      "  _warn_prf(average, modifier, msg_start, len(result))\n",
      "C:\\Users\\HP\\AppData\\Roaming\\Python\\Python310\\site-packages\\sklearn\\metrics\\_classification.py:1318: UndefinedMetricWarning: Precision and F-score are ill-defined and being set to 0.0 in labels with no predicted samples. Use `zero_division` parameter to control this behavior.\n",
      "  _warn_prf(average, modifier, msg_start, len(result))\n"
     ]
    },
    {
     "name": "stdout",
     "output_type": "stream",
     "text": [
      "              precision    recall  f1-score   support\n",
      "\n",
      "         0.0       0.82      1.00      0.90     10393\n",
      "         1.0       0.00      0.00      0.00      2338\n",
      "\n",
      "    accuracy                           0.82     12731\n",
      "   macro avg       0.41      0.50      0.45     12731\n",
      "weighted avg       0.67      0.82      0.73     12731\n",
      "\n",
      "chi2 feature selection evaluation calculated for 11 features\n"
     ]
    },
    {
     "name": "stderr",
     "output_type": "stream",
     "text": [
      "C:\\Users\\HP\\AppData\\Roaming\\Python\\Python310\\site-packages\\sklearn\\metrics\\_classification.py:1318: UndefinedMetricWarning: Precision and F-score are ill-defined and being set to 0.0 in labels with no predicted samples. Use `zero_division` parameter to control this behavior.\n",
      "  _warn_prf(average, modifier, msg_start, len(result))\n",
      "C:\\Users\\HP\\AppData\\Roaming\\Python\\Python310\\site-packages\\sklearn\\metrics\\_classification.py:1318: UndefinedMetricWarning: Precision and F-score are ill-defined and being set to 0.0 in labels with no predicted samples. Use `zero_division` parameter to control this behavior.\n",
      "  _warn_prf(average, modifier, msg_start, len(result))\n",
      "C:\\Users\\HP\\AppData\\Roaming\\Python\\Python310\\site-packages\\sklearn\\metrics\\_classification.py:1318: UndefinedMetricWarning: Precision and F-score are ill-defined and being set to 0.0 in labels with no predicted samples. Use `zero_division` parameter to control this behavior.\n",
      "  _warn_prf(average, modifier, msg_start, len(result))\n"
     ]
    },
    {
     "name": "stdout",
     "output_type": "stream",
     "text": [
      "              precision    recall  f1-score   support\n",
      "\n",
      "         0.0       0.82      1.00      0.90     10393\n",
      "         1.0       0.00      0.00      0.00      2338\n",
      "\n",
      "    accuracy                           0.82     12731\n",
      "   macro avg       0.41      0.50      0.45     12731\n",
      "weighted avg       0.67      0.82      0.73     12731\n",
      "\n",
      "chi2 feature selection evaluation calculated for 21 features\n",
      "              precision    recall  f1-score   support\n",
      "\n",
      "         0.0       0.82      1.00      0.90     10393\n",
      "         1.0       0.00      0.00      0.00      2338\n",
      "\n",
      "    accuracy                           0.82     12731\n",
      "   macro avg       0.41      0.50      0.45     12731\n",
      "weighted avg       0.67      0.82      0.73     12731\n",
      "\n",
      "chi2 feature selection evaluation calculated for 31 features\n"
     ]
    },
    {
     "name": "stderr",
     "output_type": "stream",
     "text": [
      "C:\\Users\\HP\\AppData\\Roaming\\Python\\Python310\\site-packages\\sklearn\\metrics\\_classification.py:1318: UndefinedMetricWarning: Precision and F-score are ill-defined and being set to 0.0 in labels with no predicted samples. Use `zero_division` parameter to control this behavior.\n",
      "  _warn_prf(average, modifier, msg_start, len(result))\n",
      "C:\\Users\\HP\\AppData\\Roaming\\Python\\Python310\\site-packages\\sklearn\\metrics\\_classification.py:1318: UndefinedMetricWarning: Precision and F-score are ill-defined and being set to 0.0 in labels with no predicted samples. Use `zero_division` parameter to control this behavior.\n",
      "  _warn_prf(average, modifier, msg_start, len(result))\n",
      "C:\\Users\\HP\\AppData\\Roaming\\Python\\Python310\\site-packages\\sklearn\\metrics\\_classification.py:1318: UndefinedMetricWarning: Precision and F-score are ill-defined and being set to 0.0 in labels with no predicted samples. Use `zero_division` parameter to control this behavior.\n",
      "  _warn_prf(average, modifier, msg_start, len(result))\n"
     ]
    }
   ],
   "source": [
    "from sklearn.feature_selection import SelectKBest, chi2\n",
    "from sklearn.ensemble import RandomForestClassifier\n",
    "ch2_result = []\n",
    "for n in np.arange(1,40,10):\n",
    "    ch2 = SelectKBest(chi2, k=n)\n",
    "    x_train_chi2_selected = ch2.fit_transform(x_train_tfidf, y_train)\n",
    "    x_validation_chi2_selected = ch2.transform(x_validation_tfidf)\n",
    "    \n",
    "    clf = RandomForestClassifier()\n",
    "    clf.fit(x_train_chi2_selected, y_train)\n",
    "    #3. get the predictions for X_test and store it in y_pred\n",
    "    y_pred = clf.predict(x_validation_chi2_selected)\n",
    "   #4. print the classfication report\n",
    "    print(classification_report(y_test, y_pred))\n",
    "    print (\"chi2 feature selection evaluation calculated for {} features\".format(n))"
   ]
  },
  {
   "cell_type": "code",
   "execution_count": null,
   "id": "c201f97b",
   "metadata": {},
   "outputs": [],
   "source": []
  },
  {
   "cell_type": "code",
   "execution_count": 63,
   "id": "48e81631",
   "metadata": {},
   "outputs": [],
   "source": [
    "from sklearn.preprocessing import StandardScaler\n",
    "\n",
    "scaler = StandardScaler(with_mean=False)\n",
    "d2v_ugdbow_tgdmm_std = scaler.fit_transform(x_train_tfidf)\n",
    "d2v_ugdbow_tgdmm_std_val = scaler.fit_transform(x_validation_tfidf)"
   ]
  },
  {
   "cell_type": "code",
   "execution_count": 58,
   "id": "9a0c4673",
   "metadata": {},
   "outputs": [
    {
     "data": {
      "text/plain": [
       "<12731x47 sparse matrix of type '<class 'numpy.float64'>'\n",
       "\twith 598357 stored elements in Compressed Sparse Row format>"
      ]
     },
     "execution_count": 58,
     "metadata": {},
     "output_type": "execute_result"
    }
   ],
   "source": [
    "d2v_ugdbow_tgdmm_std_val"
   ]
  },
  {
   "cell_type": "code",
   "execution_count": 64,
   "id": "672224f2",
   "metadata": {},
   "outputs": [
    {
     "name": "stdout",
     "output_type": "stream",
     "text": [
      "              precision    recall  f1-score   support\n",
      "\n",
      "         0.0       0.82      1.00      0.90     10393\n",
      "         1.0       0.00      0.00      0.00      2338\n",
      "\n",
      "    accuracy                           0.82     12731\n",
      "   macro avg       0.41      0.50      0.45     12731\n",
      "weighted avg       0.67      0.82      0.73     12731\n",
      "\n"
     ]
    },
    {
     "name": "stderr",
     "output_type": "stream",
     "text": [
      "C:\\Users\\HP\\AppData\\Roaming\\Python\\Python310\\site-packages\\sklearn\\metrics\\_classification.py:1318: UndefinedMetricWarning: Precision and F-score are ill-defined and being set to 0.0 in labels with no predicted samples. Use `zero_division` parameter to control this behavior.\n",
      "  _warn_prf(average, modifier, msg_start, len(result))\n",
      "C:\\Users\\HP\\AppData\\Roaming\\Python\\Python310\\site-packages\\sklearn\\metrics\\_classification.py:1318: UndefinedMetricWarning: Precision and F-score are ill-defined and being set to 0.0 in labels with no predicted samples. Use `zero_division` parameter to control this behavior.\n",
      "  _warn_prf(average, modifier, msg_start, len(result))\n",
      "C:\\Users\\HP\\AppData\\Roaming\\Python\\Python310\\site-packages\\sklearn\\metrics\\_classification.py:1318: UndefinedMetricWarning: Precision and F-score are ill-defined and being set to 0.0 in labels with no predicted samples. Use `zero_division` parameter to control this behavior.\n",
      "  _warn_prf(average, modifier, msg_start, len(result))\n"
     ]
    }
   ],
   "source": [
    "from sklearn.feature_selection import SelectKBest, chi2\n",
    "from sklearn.ensemble import RandomForestClassifier\n",
    "ch2_result = []\n",
    "\n",
    "clf = RandomForestClassifier()\n",
    "clf.fit(d2v_ugdbow_tgdmm_std, y_train)\n",
    "\n",
    "y_pred = clf.predict(d2v_ugdbow_tgdmm_std_val)\n",
    "\n",
    "print(classification_report(y_test, y_pred))\n"
   ]
  },
  {
   "cell_type": "code",
   "execution_count": 60,
   "id": "99478750",
   "metadata": {},
   "outputs": [
    {
     "ename": "IndentationError",
     "evalue": "unexpected indent (687867651.py, line 5)",
     "output_type": "error",
     "traceback": [
      "\u001b[1;36m  Input \u001b[1;32mIn [60]\u001b[1;36m\u001b[0m\n\u001b[1;33m    (\"columns\", \"=\", \"['principal\", \"component\", \"1',\", \"'principal\", \"component\", \"2'])\")\u001b[0m\n\u001b[1;37m    ^\u001b[0m\n\u001b[1;31mIndentationError\u001b[0m\u001b[1;31m:\u001b[0m unexpected indent\n"
     ]
    }
   ],
   "source": [
    "#from sklearn.decomposition import SparsePCA\n",
    "#pca = SparsePCA(n_components=2)\n",
    "#principalComponents = pca.fit_transform(d2v_ugdbow_tgdmm_std,d2v_ugdbow_tgdmm_std_val )\n",
    "#principalDf = pd.DataFrame(data = principalComponents\n",
    "#             , columns = ['principal component 1', 'principal component 2'])"
   ]
  },
  {
   "cell_type": "code",
   "execution_count": null,
   "id": "a349ed5e",
   "metadata": {},
   "outputs": [],
   "source": []
  }
 ],
 "metadata": {
  "kernelspec": {
   "display_name": "Python 3 (ipykernel)",
   "language": "python",
   "name": "python3"
  },
  "language_info": {
   "codemirror_mode": {
    "name": "ipython",
    "version": 3
   },
   "file_extension": ".py",
   "mimetype": "text/x-python",
   "name": "python",
   "nbconvert_exporter": "python",
   "pygments_lexer": "ipython3",
   "version": "3.10.1"
  }
 },
 "nbformat": 4,
 "nbformat_minor": 5
}
